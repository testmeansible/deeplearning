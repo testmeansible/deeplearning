{
 "cells": [
  {
   "cell_type": "markdown",
   "id": "b1a1c6cf",
   "metadata": {},
   "source": [
    "## Include all necessary Libraries"
   ]
  },
  {
   "cell_type": "code",
   "execution_count": 1,
   "id": "0f5a3c4e",
   "metadata": {},
   "outputs": [
    {
     "ename": "ModuleNotFoundError",
     "evalue": "No module named 'fastai'",
     "output_type": "error",
     "traceback": [
      "\u001b[0;31m---------------------------------------------------------------------------\u001b[0m",
      "\u001b[0;31mModuleNotFoundError\u001b[0m                       Traceback (most recent call last)",
      "\u001b[0;32m/tmp/ipykernel_7328/258159702.py\u001b[0m in \u001b[0;36m<module>\u001b[0;34m\u001b[0m\n\u001b[1;32m      3\u001b[0m \u001b[0;32mimport\u001b[0m \u001b[0mpandas\u001b[0m \u001b[0;32mas\u001b[0m \u001b[0mpd\u001b[0m                                                       \u001b[0;31m# Pandas Library\u001b[0m\u001b[0;34m\u001b[0m\u001b[0;34m\u001b[0m\u001b[0m\n\u001b[1;32m      4\u001b[0m \u001b[0;32mimport\u001b[0m \u001b[0mnumpy\u001b[0m \u001b[0;32mas\u001b[0m \u001b[0mnp\u001b[0m                                                        \u001b[0;31m# Numpy Library\u001b[0m\u001b[0;34m\u001b[0m\u001b[0;34m\u001b[0m\u001b[0m\n\u001b[0;32m----> 5\u001b[0;31m \u001b[0;32mfrom\u001b[0m \u001b[0mfastai\u001b[0m\u001b[0;34m.\u001b[0m\u001b[0mtabular\u001b[0m\u001b[0;34m.\u001b[0m\u001b[0mall\u001b[0m \u001b[0;32mimport\u001b[0m \u001b[0mdf_shrink\u001b[0m                                  \u001b[0;31m# Library to shrink\u001b[0m\u001b[0;34m\u001b[0m\u001b[0;34m\u001b[0m\u001b[0m\n\u001b[0m\u001b[1;32m      6\u001b[0m \u001b[0;32mfrom\u001b[0m \u001b[0mfastcore\u001b[0m\u001b[0;34m.\u001b[0m\u001b[0mparallel\u001b[0m \u001b[0;32mimport\u001b[0m \u001b[0;34m*\u001b[0m                                           \u001b[0;31m# Library for parallel tasks\u001b[0m\u001b[0;34m\u001b[0m\u001b[0;34m\u001b[0m\u001b[0m\n\u001b[1;32m      7\u001b[0m \u001b[0;32mimport\u001b[0m \u001b[0mtime\u001b[0m                                                               \u001b[0;31m# Time function library\u001b[0m\u001b[0;34m\u001b[0m\u001b[0;34m\u001b[0m\u001b[0m\n",
      "\u001b[0;31mModuleNotFoundError\u001b[0m: No module named 'fastai'"
     ]
    }
   ],
   "source": [
    "# Base Libraries\n",
    "import os                                                                 # OS Library\n",
    "import pandas as pd                                                       # Pandas Library\n",
    "import numpy as np                                                        # Numpy Library\n",
    "from fastai.tabular.all import df_shrink                                  # Library to shrink \n",
    "from fastcore.parallel import *                                           # Library for parallel tasks\n",
    "import time                                                               # Time function library\n",
    "import matplotlib.pyplot as plt                                           # plot library\n",
    "import seaborn as sns                                                     # plot library\n",
    "# import memory_profiler, memory_                                         # memory usage library\n",
    "from memory_profiler import memory_usage\n",
    "from collections import Counter                                           # Counter library\n",
    "from sklearn.pipeline import Pipeline, make_pipeline\n",
    "from imblearn.pipeline import Pipeline\n",
    "import psutil\n",
    "from tqdm import tqdm\n",
    "\n",
    "# Libraries for feature engineering\n",
    "from sklearn.model_selection import train_test_split                      # Dataset split library\n",
    "# from sklearn.model_selection import GridSearchCV                          # Gridsearch library for hyper parameter tuning\n",
    "from sklearn.preprocessing import LabelEncoder                            # LabelEnoder\n",
    "# from sklearn.preprocessing import OneHotEncoder                           # Onehotencoding \n",
    "from sklearn.feature_selection import VarianceThreshold                   # For removing zero variance features\n",
    "from sklearn.preprocessing import MinMaxScaler, StandardScaler            # Apply Standarization and Normalization \n",
    "from imblearn.over_sampling import SMOTE, SMOTEN, SMOTENC                 # Over-sampling Library\n",
    "from imblearn.under_sampling import RandomUnderSampler, TomekLinks        # Under-Sampling\n",
    "# from imblearn.combine import SMOTETomek\n",
    "\n",
    "# ML Model Libraries\n",
    "# from sklearn.linear_model import LogisticRegression                       # Logistic Regression\n",
    "# from sklearn.tree import DecisionTreeClassifier                           # Decision Tree Classifier\n",
    "# from sklearn.ensemble import RandomForestClassifier                       # Random forest Classifier\n",
    "# from sklearn.ensemble import AdaBoostClassifier                           # AdaBoost Classifier\n",
    "# from sklearn.svm import SVC                                               # SVM Library\n",
    "# from sklearn.naive_bayes import GaussianNB, MultinomialNB, ComplementNB   # naive base classifiers library\n",
    "\n",
    "# Performance measure Libraries for Trained model \n",
    "from sklearn.metrics import confusion_matrix, ConfusionMatrixDisplay, classification_report\n",
    "\n",
    "# Deep learning Model Libraries\n",
    "# import tensorflow as tf\n",
    "import torch.nn as nn\n",
    "import torch.optim as optim\n",
    "import torch\n",
    "from torch.utils.data import DataLoader, TensorDataset\n",
    "# from tensorflow import keras\n",
    "# from tensorflow.keras.models import Sequential\n",
    "# from tensorflow.keras.layers import Dense, Dropout  \n",
    "\n"
   ]
  },
  {
   "cell_type": "markdown",
   "id": "9f526aa3",
   "metadata": {},
   "source": [
    "## Create a csv read function "
   ]
  },
  {
   "cell_type": "code",
   "execution_count": 5,
   "id": "cb74bf35",
   "metadata": {},
   "outputs": [],
   "source": [
    "def csvRead (sfilePath):\n",
    "    print(\"CSV Read function started........\")\n",
    "#     ind_dfs = [pd.read_csv(dsp) for dsp in filePathArray]\n",
    "    ind_dfs = pd.read_csv(sfilePath)\n",
    "    return ind_dfs"
   ]
  },
  {
   "cell_type": "markdown",
   "id": "07a20f30",
   "metadata": {},
   "source": [
    "## Create a datatype downsizing function"
   ]
  },
  {
   "cell_type": "code",
   "execution_count": 6,
   "id": "2025e753",
   "metadata": {},
   "outputs": [],
   "source": [
    "def dataTypeDown(ind_dfs_read):\n",
    "    print(\"Datatype Downsizing function started........\")\n",
    "#     ind_dfs_down = parallel(df_shrink, ind_dfs_read, progress=True)\n",
    "    ind_dfs_down = df_shrink(ind_dfs_read)\n",
    "    return ind_dfs_down"
   ]
  },
  {
   "cell_type": "markdown",
   "id": "57fe7917",
   "metadata": {},
   "source": [
    "## List the files in our target directory we are interested to read"
   ]
  },
  {
   "cell_type": "code",
   "execution_count": 7,
   "id": "d1cb3365",
   "metadata": {},
   "outputs": [
    {
     "name": "stdout",
     "output_type": "stream",
     "text": [
      "D:/Datasets/CICDDoS2019/testing_03_11/LDAP-MSSQL.csv\n",
      "-----------------------------------------------------------------------\n",
      "CSV Read function started........\n",
      "starting downsizing.....\n",
      "Datatype Downsizing function started........\n",
      "No. of Instances in the file are: (256201, 78)\n",
      "D:/Datasets/CICDDoS2019/testing_03_11/MSSQL-UDP.csv\n",
      "-----------------------------------------------------------------------\n",
      "CSV Read function started........\n",
      "starting downsizing.....\n",
      "Datatype Downsizing function started........\n",
      "No. of Instances in the file are: (1295988, 78)\n",
      "D:/Datasets/CICDDoS2019/testing_03_11/NetBIOS-LDAP.csv\n",
      "-----------------------------------------------------------------------\n",
      "CSV Read function started........\n",
      "starting downsizing.....\n",
      "Datatype Downsizing function started........\n",
      "No. of Instances in the file are: (22445, 78)\n",
      "D:/Datasets/CICDDoS2019/testing_03_11/NetBIOS.csv\n",
      "-----------------------------------------------------------------------\n",
      "CSV Read function started........\n",
      "starting downsizing.....\n",
      "Datatype Downsizing function started........\n",
      "No. of Instances in the file are: (11028, 78)\n",
      "D:/Datasets/CICDDoS2019/testing_03_11/Portmap.csv\n",
      "-----------------------------------------------------------------------\n",
      "CSV Read function started........\n",
      "starting downsizing.....\n",
      "Datatype Downsizing function started........\n",
      "No. of Instances in the file are: (5998, 78)\n",
      "D:/Datasets/CICDDoS2019/testing_03_11/Syn.csv\n",
      "-----------------------------------------------------------------------\n",
      "CSV Read function started........\n",
      "starting downsizing.....\n",
      "Datatype Downsizing function started........\n",
      "No. of Instances in the file are: (479899, 78)\n",
      "D:/Datasets/CICDDoS2019/testing_03_11/UDP-UDPLag-Syn.csv\n",
      "-----------------------------------------------------------------------\n",
      "CSV Read function started........\n",
      "starting downsizing.....\n",
      "Datatype Downsizing function started........\n",
      "No. of Instances in the file are: (139566, 78)\n",
      "**************************\n",
      "Total no of files meet our criteria are:  7\n",
      "Dataset Read Task Completed!!!!\n"
     ]
    }
   ],
   "source": [
    "filePath = []\n",
    "individual_dfs = []\n",
    "\n",
    "# for root, subdir, files in os.walk('D:/Datasets/CICDDoS2019/testing_03_11/'):\n",
    "for root, subdir, files in os.walk('/home/deeplearning/Datasets/CICDDoS2019/testing_03_11'):\n",
    "# print(root)\n",
    "    for file in files:\n",
    "        if file.endswith('.csv'):\n",
    "            fpath = os.path.join(root,file)\n",
    "            filePath.append(fpath)\n",
    "            print (fpath)\n",
    "            print(\"-----------------------------------------------------------------------\")\n",
    "#             print (f'Total no of files meet our criteria are: ', len(filePath))\n",
    "            if (len(filePath)):\n",
    "                ind_dfs_read = csvRead(fpath)\n",
    "#                 time.sleep(15)\n",
    "                print(\"starting downsizing.....\")\n",
    "#                 individual_dfs = [dataTypeDown(ind_dfs_read)]\n",
    "                individual_dfs.append(dataTypeDown(ind_dfs_read))\n",
    "                print(f'No. of Instances in the file are:',ind_dfs_read.shape)\n",
    "#                 time.sleep(5)\n",
    "print('**************************')\n",
    "print (f'Total no of files meet our criteria are: ', len(filePath))\n",
    "print(\"Dataset Read Task Completed!!!!\")"
   ]
  },
  {
   "cell_type": "markdown",
   "id": "6d0ba3b7",
   "metadata": {},
   "source": [
    "## Replace space with \"_\" in dataset column names"
   ]
  },
  {
   "cell_type": "code",
   "execution_count": 8,
   "id": "abb6b0a1",
   "metadata": {},
   "outputs": [
    {
     "name": "stdout",
     "output_type": "stream",
     "text": [
      "Task Completed\n"
     ]
    }
   ],
   "source": [
    "for i in individual_dfs:\n",
    "    # Remove leading and trailing spaces from column names\n",
    "#     cleaned_columns = [col.strip() for col in cols]\n",
    "#     print(cleaned_columns)\n",
    "    cols = i.columns.str.strip()\n",
    "#     cols = [col.strip() for col in cols]\n",
    "    cols = cols.map(lambda x: x.replace(' ', '_') )\n",
    "    i.columns = cols\n",
    "#     print(i.columns)\n",
    "print('Task Completed')"
   ]
  },
  {
   "cell_type": "markdown",
   "id": "cb6be513",
   "metadata": {},
   "source": [
    "## Dataset summary"
   ]
  },
  {
   "cell_type": "code",
   "execution_count": 9,
   "id": "279addf5",
   "metadata": {},
   "outputs": [
    {
     "name": "stdout",
     "output_type": "stream",
     "text": [
      "<class 'pandas.core.frame.DataFrame'>\n",
      "RangeIndex: 256201 entries, 0 to 256200\n",
      "Data columns (total 78 columns):\n",
      " #   Column                       Non-Null Count   Dtype   \n",
      "---  ------                       --------------   -----   \n",
      " 0   Protocol                     256201 non-null  int8    \n",
      " 1   Flow_Duration                256201 non-null  int32   \n",
      " 2   Total_Fwd_Packets            256201 non-null  int16   \n",
      " 3   Total_Backward_Packets       256201 non-null  int16   \n",
      " 4   Total_Length_of_Fwd_Packets  256201 non-null  float32 \n",
      " 5   Total_Length_of_Bwd_Packets  256201 non-null  float32 \n",
      " 6   Fwd_Packet_Length_Max        256201 non-null  float32 \n",
      " 7   Fwd_Packet_Length_Min        256201 non-null  float32 \n",
      " 8   Fwd_Packet_Length_Mean       256201 non-null  float32 \n",
      " 9   Fwd_Packet_Length_Std        256201 non-null  float32 \n",
      " 10  Bwd_Packet_Length_Max        256201 non-null  float32 \n",
      " 11  Bwd_Packet_Length_Min        256201 non-null  float32 \n",
      " 12  Bwd_Packet_Length_Mean       256201 non-null  float32 \n",
      " 13  Bwd_Packet_Length_Std        256201 non-null  float32 \n",
      " 14  Flow_Bytes/s                 256201 non-null  float32 \n",
      " 15  Flow_Packets/s               256201 non-null  float32 \n",
      " 16  Flow_IAT_Mean                256201 non-null  float32 \n",
      " 17  Flow_IAT_Std                 256201 non-null  float32 \n",
      " 18  Flow_IAT_Max                 256201 non-null  float32 \n",
      " 19  Flow_IAT_Min                 256201 non-null  float32 \n",
      " 20  Fwd_IAT_Total                256201 non-null  float32 \n",
      " 21  Fwd_IAT_Mean                 256201 non-null  float32 \n",
      " 22  Fwd_IAT_Std                  256201 non-null  float32 \n",
      " 23  Fwd_IAT_Max                  256201 non-null  float32 \n",
      " 24  Fwd_IAT_Min                  256201 non-null  float32 \n",
      " 25  Bwd_IAT_Total                256201 non-null  float32 \n",
      " 26  Bwd_IAT_Mean                 256201 non-null  float32 \n",
      " 27  Bwd_IAT_Std                  256201 non-null  float32 \n",
      " 28  Bwd_IAT_Max                  256201 non-null  float32 \n",
      " 29  Bwd_IAT_Min                  256201 non-null  float32 \n",
      " 30  Fwd_PSH_Flags                256201 non-null  int8    \n",
      " 31  Bwd_PSH_Flags                256201 non-null  int8    \n",
      " 32  Fwd_URG_Flags                256201 non-null  int8    \n",
      " 33  Bwd_URG_Flags                256201 non-null  int8    \n",
      " 34  Fwd_Header_Length            256201 non-null  int64   \n",
      " 35  Bwd_Header_Length            256201 non-null  int64   \n",
      " 36  Fwd_Packets/s                256201 non-null  float32 \n",
      " 37  Bwd_Packets/s                256201 non-null  float32 \n",
      " 38  Min_Packet_Length            256201 non-null  float32 \n",
      " 39  Max_Packet_Length            256201 non-null  float32 \n",
      " 40  Packet_Length_Mean           256201 non-null  float32 \n",
      " 41  Packet_Length_Std            256201 non-null  float32 \n",
      " 42  Packet_Length_Variance       256201 non-null  float32 \n",
      " 43  FIN_Flag_Count               256201 non-null  int8    \n",
      " 44  SYN_Flag_Count               256201 non-null  int8    \n",
      " 45  RST_Flag_Count               256201 non-null  int8    \n",
      " 46  PSH_Flag_Count               256201 non-null  int8    \n",
      " 47  ACK_Flag_Count               256201 non-null  int8    \n",
      " 48  URG_Flag_Count               256201 non-null  int8    \n",
      " 49  CWE_Flag_Count               256201 non-null  int8    \n",
      " 50  ECE_Flag_Count               256201 non-null  int8    \n",
      " 51  Down/Up_Ratio                256201 non-null  float32 \n",
      " 52  Average_Packet_Size          256201 non-null  float32 \n",
      " 53  Avg_Fwd_Segment_Size         256201 non-null  float32 \n",
      " 54  Avg_Bwd_Segment_Size         256201 non-null  float32 \n",
      " 55  Fwd_Avg_Bytes/Bulk           256201 non-null  int8    \n",
      " 56  Fwd_Avg_Packets/Bulk         256201 non-null  int8    \n",
      " 57  Fwd_Avg_Bulk_Rate            256201 non-null  int8    \n",
      " 58  Bwd_Avg_Bytes/Bulk           256201 non-null  int8    \n",
      " 59  Bwd_Avg_Packets/Bulk         256201 non-null  int8    \n",
      " 60  Bwd_Avg_Bulk_Rate            256201 non-null  int8    \n",
      " 61  Subflow_Fwd_Packets          256201 non-null  int16   \n",
      " 62  Subflow_Fwd_Bytes            256201 non-null  int32   \n",
      " 63  Subflow_Bwd_Packets          256201 non-null  int16   \n",
      " 64  Subflow_Bwd_Bytes            256201 non-null  int32   \n",
      " 65  Init_Win_bytes_forward       256201 non-null  int32   \n",
      " 66  Init_Win_bytes_backward      256201 non-null  int32   \n",
      " 67  act_data_pkt_fwd             256201 non-null  int16   \n",
      " 68  min_seg_size_forward         256201 non-null  int32   \n",
      " 69  Active_Mean                  256201 non-null  float32 \n",
      " 70  Active_Std                   256201 non-null  float32 \n",
      " 71  Active_Max                   256201 non-null  float32 \n",
      " 72  Active_Min                   256201 non-null  float32 \n",
      " 73  Idle_Mean                    256201 non-null  float32 \n",
      " 74  Idle_Std                     256201 non-null  float32 \n",
      " 75  Idle_Max                     256201 non-null  float32 \n",
      " 76  Idle_Min                     256201 non-null  float32 \n",
      " 77  Label                        256201 non-null  category\n",
      "dtypes: category(1), float32(45), int16(5), int32(6), int64(2), int8(19)\n",
      "memory usage: 61.1 MB\n"
     ]
    }
   ],
   "source": [
    "# individual_dfs[0].info(verbose=True)\n",
    "individual_dfs[0].info()"
   ]
  },
  {
   "cell_type": "markdown",
   "id": "e8036c64",
   "metadata": {},
   "source": [
    "## Dataset split into X (input) and y (Target)"
   ]
  },
  {
   "cell_type": "code",
   "execution_count": 10,
   "id": "7f96b2c0",
   "metadata": {},
   "outputs": [
    {
     "name": "stdout",
     "output_type": "stream",
     "text": [
      "(256201,)\n",
      "(256201, 77)\n",
      "------------------------------\n",
      "(1295988,)\n",
      "(1295988, 77)\n",
      "------------------------------\n",
      "(22445,)\n",
      "(22445, 77)\n",
      "------------------------------\n",
      "(11028,)\n",
      "(11028, 77)\n",
      "------------------------------\n",
      "(5998,)\n",
      "(5998, 77)\n",
      "------------------------------\n",
      "(479899,)\n",
      "(479899, 77)\n",
      "------------------------------\n",
      "(139566,)\n",
      "(139566, 77)\n",
      "------------------------------\n"
     ]
    }
   ],
   "source": [
    "individual_X = []\n",
    "individual_y = []\n",
    "count = 0\n",
    "for i in individual_dfs:\n",
    "#     Target (Output) values\n",
    "    temp_y = i.copy()\n",
    "    individual_y.append(i['Label'])\n",
    "    print(individual_y[count].shape)\n",
    "#     Input values\n",
    "    temp_X = i.copy()\n",
    "    temp_X = temp_X.drop('Label', axis=1)\n",
    "    individual_X.append(temp_X)\n",
    "    print(individual_X[count].shape)\n",
    "    count+=1\n",
    "    print('------------------------------')"
   ]
  },
  {
   "cell_type": "markdown",
   "id": "69ddeda0",
   "metadata": {},
   "source": [
    "## Verify the split task"
   ]
  },
  {
   "cell_type": "code",
   "execution_count": 11,
   "id": "9acf30df",
   "metadata": {},
   "outputs": [
    {
     "data": {
      "text/plain": [
       "Index(['Protocol', 'Flow_Duration', 'Total_Fwd_Packets',\n",
       "       'Total_Backward_Packets', 'Total_Length_of_Fwd_Packets',\n",
       "       'Total_Length_of_Bwd_Packets', 'Fwd_Packet_Length_Max',\n",
       "       'Fwd_Packet_Length_Min', 'Fwd_Packet_Length_Mean',\n",
       "       'Fwd_Packet_Length_Std', 'Bwd_Packet_Length_Max',\n",
       "       'Bwd_Packet_Length_Min', 'Bwd_Packet_Length_Mean',\n",
       "       'Bwd_Packet_Length_Std', 'Flow_Bytes/s', 'Flow_Packets/s',\n",
       "       'Flow_IAT_Mean', 'Flow_IAT_Std', 'Flow_IAT_Max', 'Flow_IAT_Min',\n",
       "       'Fwd_IAT_Total', 'Fwd_IAT_Mean', 'Fwd_IAT_Std', 'Fwd_IAT_Max',\n",
       "       'Fwd_IAT_Min', 'Bwd_IAT_Total', 'Bwd_IAT_Mean', 'Bwd_IAT_Std',\n",
       "       'Bwd_IAT_Max', 'Bwd_IAT_Min', 'Fwd_PSH_Flags', 'Bwd_PSH_Flags',\n",
       "       'Fwd_URG_Flags', 'Bwd_URG_Flags', 'Fwd_Header_Length',\n",
       "       'Bwd_Header_Length', 'Fwd_Packets/s', 'Bwd_Packets/s',\n",
       "       'Min_Packet_Length', 'Max_Packet_Length', 'Packet_Length_Mean',\n",
       "       'Packet_Length_Std', 'Packet_Length_Variance', 'FIN_Flag_Count',\n",
       "       'SYN_Flag_Count', 'RST_Flag_Count', 'PSH_Flag_Count', 'ACK_Flag_Count',\n",
       "       'URG_Flag_Count', 'CWE_Flag_Count', 'ECE_Flag_Count', 'Down/Up_Ratio',\n",
       "       'Average_Packet_Size', 'Avg_Fwd_Segment_Size', 'Avg_Bwd_Segment_Size',\n",
       "       'Fwd_Avg_Bytes/Bulk', 'Fwd_Avg_Packets/Bulk', 'Fwd_Avg_Bulk_Rate',\n",
       "       'Bwd_Avg_Bytes/Bulk', 'Bwd_Avg_Packets/Bulk', 'Bwd_Avg_Bulk_Rate',\n",
       "       'Subflow_Fwd_Packets', 'Subflow_Fwd_Bytes', 'Subflow_Bwd_Packets',\n",
       "       'Subflow_Bwd_Bytes', 'Init_Win_bytes_forward',\n",
       "       'Init_Win_bytes_backward', 'act_data_pkt_fwd', 'min_seg_size_forward',\n",
       "       'Active_Mean', 'Active_Std', 'Active_Max', 'Active_Min', 'Idle_Mean',\n",
       "       'Idle_Std', 'Idle_Max', 'Idle_Min'],\n",
       "      dtype='object')"
      ]
     },
     "execution_count": 11,
     "metadata": {},
     "output_type": "execute_result"
    }
   ],
   "source": [
    "individual_X[0].columns"
   ]
  },
  {
   "cell_type": "code",
   "execution_count": 12,
   "id": "2cecb81e",
   "metadata": {},
   "outputs": [
    {
     "name": "stdout",
     "output_type": "stream",
     "text": [
      "<class 'pandas.core.frame.DataFrame'>\n",
      "RangeIndex: 256201 entries, 0 to 256200\n",
      "Data columns (total 77 columns):\n",
      " #   Column                       Non-Null Count   Dtype  \n",
      "---  ------                       --------------   -----  \n",
      " 0   Protocol                     256201 non-null  int8   \n",
      " 1   Flow_Duration                256201 non-null  int32  \n",
      " 2   Total_Fwd_Packets            256201 non-null  int16  \n",
      " 3   Total_Backward_Packets       256201 non-null  int16  \n",
      " 4   Total_Length_of_Fwd_Packets  256201 non-null  float32\n",
      " 5   Total_Length_of_Bwd_Packets  256201 non-null  float32\n",
      " 6   Fwd_Packet_Length_Max        256201 non-null  float32\n",
      " 7   Fwd_Packet_Length_Min        256201 non-null  float32\n",
      " 8   Fwd_Packet_Length_Mean       256201 non-null  float32\n",
      " 9   Fwd_Packet_Length_Std        256201 non-null  float32\n",
      " 10  Bwd_Packet_Length_Max        256201 non-null  float32\n",
      " 11  Bwd_Packet_Length_Min        256201 non-null  float32\n",
      " 12  Bwd_Packet_Length_Mean       256201 non-null  float32\n",
      " 13  Bwd_Packet_Length_Std        256201 non-null  float32\n",
      " 14  Flow_Bytes/s                 256201 non-null  float32\n",
      " 15  Flow_Packets/s               256201 non-null  float32\n",
      " 16  Flow_IAT_Mean                256201 non-null  float32\n",
      " 17  Flow_IAT_Std                 256201 non-null  float32\n",
      " 18  Flow_IAT_Max                 256201 non-null  float32\n",
      " 19  Flow_IAT_Min                 256201 non-null  float32\n",
      " 20  Fwd_IAT_Total                256201 non-null  float32\n",
      " 21  Fwd_IAT_Mean                 256201 non-null  float32\n",
      " 22  Fwd_IAT_Std                  256201 non-null  float32\n",
      " 23  Fwd_IAT_Max                  256201 non-null  float32\n",
      " 24  Fwd_IAT_Min                  256201 non-null  float32\n",
      " 25  Bwd_IAT_Total                256201 non-null  float32\n",
      " 26  Bwd_IAT_Mean                 256201 non-null  float32\n",
      " 27  Bwd_IAT_Std                  256201 non-null  float32\n",
      " 28  Bwd_IAT_Max                  256201 non-null  float32\n",
      " 29  Bwd_IAT_Min                  256201 non-null  float32\n",
      " 30  Fwd_PSH_Flags                256201 non-null  int8   \n",
      " 31  Bwd_PSH_Flags                256201 non-null  int8   \n",
      " 32  Fwd_URG_Flags                256201 non-null  int8   \n",
      " 33  Bwd_URG_Flags                256201 non-null  int8   \n",
      " 34  Fwd_Header_Length            256201 non-null  int64  \n",
      " 35  Bwd_Header_Length            256201 non-null  int64  \n",
      " 36  Fwd_Packets/s                256201 non-null  float32\n",
      " 37  Bwd_Packets/s                256201 non-null  float32\n",
      " 38  Min_Packet_Length            256201 non-null  float32\n",
      " 39  Max_Packet_Length            256201 non-null  float32\n",
      " 40  Packet_Length_Mean           256201 non-null  float32\n",
      " 41  Packet_Length_Std            256201 non-null  float32\n",
      " 42  Packet_Length_Variance       256201 non-null  float32\n",
      " 43  FIN_Flag_Count               256201 non-null  int8   \n",
      " 44  SYN_Flag_Count               256201 non-null  int8   \n",
      " 45  RST_Flag_Count               256201 non-null  int8   \n",
      " 46  PSH_Flag_Count               256201 non-null  int8   \n",
      " 47  ACK_Flag_Count               256201 non-null  int8   \n",
      " 48  URG_Flag_Count               256201 non-null  int8   \n",
      " 49  CWE_Flag_Count               256201 non-null  int8   \n",
      " 50  ECE_Flag_Count               256201 non-null  int8   \n",
      " 51  Down/Up_Ratio                256201 non-null  float32\n",
      " 52  Average_Packet_Size          256201 non-null  float32\n",
      " 53  Avg_Fwd_Segment_Size         256201 non-null  float32\n",
      " 54  Avg_Bwd_Segment_Size         256201 non-null  float32\n",
      " 55  Fwd_Avg_Bytes/Bulk           256201 non-null  int8   \n",
      " 56  Fwd_Avg_Packets/Bulk         256201 non-null  int8   \n",
      " 57  Fwd_Avg_Bulk_Rate            256201 non-null  int8   \n",
      " 58  Bwd_Avg_Bytes/Bulk           256201 non-null  int8   \n",
      " 59  Bwd_Avg_Packets/Bulk         256201 non-null  int8   \n",
      " 60  Bwd_Avg_Bulk_Rate            256201 non-null  int8   \n",
      " 61  Subflow_Fwd_Packets          256201 non-null  int16  \n",
      " 62  Subflow_Fwd_Bytes            256201 non-null  int32  \n",
      " 63  Subflow_Bwd_Packets          256201 non-null  int16  \n",
      " 64  Subflow_Bwd_Bytes            256201 non-null  int32  \n",
      " 65  Init_Win_bytes_forward       256201 non-null  int32  \n",
      " 66  Init_Win_bytes_backward      256201 non-null  int32  \n",
      " 67  act_data_pkt_fwd             256201 non-null  int16  \n",
      " 68  min_seg_size_forward         256201 non-null  int32  \n",
      " 69  Active_Mean                  256201 non-null  float32\n",
      " 70  Active_Std                   256201 non-null  float32\n",
      " 71  Active_Max                   256201 non-null  float32\n",
      " 72  Active_Min                   256201 non-null  float32\n",
      " 73  Idle_Mean                    256201 non-null  float32\n",
      " 74  Idle_Std                     256201 non-null  float32\n",
      " 75  Idle_Max                     256201 non-null  float32\n",
      " 76  Idle_Min                     256201 non-null  float32\n",
      "dtypes: float32(45), int16(5), int32(6), int64(2), int8(19)\n",
      "memory usage: 60.8 MB\n"
     ]
    }
   ],
   "source": [
    "# To get detail overview of the dataset run this command\n",
    "# individual_X[0].info(verbose=True)\n",
    "individual_X[0].info()"
   ]
  },
  {
   "cell_type": "markdown",
   "id": "1474b8c0",
   "metadata": {},
   "source": [
    "## Further Processing on dataset by concatinating All files."
   ]
  },
  {
   "cell_type": "markdown",
   "id": "47e04829",
   "metadata": {},
   "source": [
    "## Concatinating dataset file into a single file"
   ]
  },
  {
   "cell_type": "code",
   "execution_count": 13,
   "id": "16345ff2",
   "metadata": {},
   "outputs": [
    {
     "data": {
      "text/plain": [
       "((2211125, 77), (2211125,))"
      ]
     },
     "execution_count": 13,
     "metadata": {},
     "output_type": "execute_result"
    }
   ],
   "source": [
    "all_X =  pd.concat(individual_X, ignore_index=True)\n",
    "all_y = pd.concat(individual_y, ignore_index=True)\n",
    "all_X.shape, all_y.shape"
   ]
  },
  {
   "cell_type": "code",
   "execution_count": 14,
   "id": "8922947f",
   "metadata": {},
   "outputs": [
    {
     "data": {
      "image/png": "[encoded data removed]",
      "text/plain": [
       "<Figure size 1200x800 with 1 Axes>"
      ]
     },
     "metadata": {},
     "output_type": "display_data"
    }
   ],
   "source": [
    "plt.figure(figsize=(12, 8))\n",
    "# Create a count plot of the string labels\n",
    "ax = sns.countplot(x=all_y)\n",
    "# Annotate each bar with its count\n",
    "for p in ax.patches:\n",
    "    ax.annotate(f'{p.get_height()}', (p.get_x() + p.get_width() / 2., p.get_height()), ha='center', va='center', xytext=(0, 10), textcoords='offset points')\n",
    "\n",
    "plt.xlabel('Labels')\n",
    "plt.ylabel('Count')\n",
    "plt.title('Count Per Label in CIC-DDoS 2019 Dataset Day-1')\n",
    "plt.show()\n"
   ]
  },
  {
   "cell_type": "code",
   "execution_count": 15,
   "id": "87b545ed",
   "metadata": {},
   "outputs": [
    {
     "data": {
      "text/plain": [
       "Label\n",
       "UDP        1344585\n",
       "Syn         531915\n",
       "MSSQL       258011\n",
       "Benign       46427\n",
       "LDAP         17041\n",
       "NetBIOS      11190\n",
       "Portmap       1578\n",
       "UDPLag         378\n",
       "Name: count, dtype: int64"
      ]
     },
     "execution_count": 15,
     "metadata": {},
     "output_type": "execute_result"
    }
   ],
   "source": [
    "unique_value_count = all_y.value_counts()\n",
    "unique_value_count"
   ]
  },
  {
   "cell_type": "code",
   "execution_count": 16,
   "id": "d6c49636",
   "metadata": {},
   "outputs": [
    {
     "name": "stdout",
     "output_type": "stream",
     "text": [
      "Class = LDAP           ,     n = 17041     ,        (0.771   %)\n",
      "Class = Benign         ,     n = 46427     ,        (2.100   %)\n",
      "Class = MSSQL          ,     n = 258011    ,        (11.669  %)\n",
      "Class = UDP            ,     n = 1344585   ,        (60.810  %)\n",
      "Class = NetBIOS        ,     n = 11190     ,        (0.506   %)\n",
      "Class = Portmap        ,     n = 1578      ,        (0.071   %)\n",
      "Class = Syn            ,     n = 531915    ,        (24.056  %)\n",
      "Class = UDPLag         ,     n = 378       ,        (0.017   %)\n"
     ]
    }
   ],
   "source": [
    "# summarize distribution\n",
    "counter = Counter(all_y)\n",
    "for k,v in counter.items():\n",
    "    per = v / len(all_y) * 100\n",
    "    print('Class = %-15s,     n = %-10d,        (%-8.3f%%)' % (k, v, per))"
   ]
  },
  {
   "cell_type": "markdown",
   "id": "796e7819",
   "metadata": {},
   "source": [
    "## Dataset verification"
   ]
  },
  {
   "cell_type": "code",
   "execution_count": 17,
   "id": "b688b288",
   "metadata": {
    "scrolled": true
   },
   "outputs": [
    {
     "data": {
      "text/html": [
       "<div>\n",
       "<style scoped>\n",
       "    .dataframe tbody tr th:only-of-type {\n",
       "        vertical-align: middle;\n",
       "    }\n",
       "\n",
       "    .dataframe tbody tr th {\n",
       "        vertical-align: top;\n",
       "    }\n",
       "\n",
       "    .dataframe thead th {\n",
       "        text-align: right;\n",
       "    }\n",
       "</style>\n",
       "<table border=\"1\" class=\"dataframe\">\n",
       "  <thead>\n",
       "    <tr style=\"text-align: right;\">\n",
       "      <th></th>\n",
       "      <th>Protocol</th>\n",
       "      <th>Flow_Duration</th>\n",
       "      <th>Total_Fwd_Packets</th>\n",
       "      <th>Total_Backward_Packets</th>\n",
       "      <th>Total_Length_of_Fwd_Packets</th>\n",
       "      <th>Total_Length_of_Bwd_Packets</th>\n",
       "      <th>Fwd_Packet_Length_Max</th>\n",
       "      <th>Fwd_Packet_Length_Min</th>\n",
       "      <th>Fwd_Packet_Length_Mean</th>\n",
       "      <th>Fwd_Packet_Length_Std</th>\n",
       "      <th>...</th>\n",
       "      <th>act_data_pkt_fwd</th>\n",
       "      <th>min_seg_size_forward</th>\n",
       "      <th>Active_Mean</th>\n",
       "      <th>Active_Std</th>\n",
       "      <th>Active_Max</th>\n",
       "      <th>Active_Min</th>\n",
       "      <th>Idle_Mean</th>\n",
       "      <th>Idle_Std</th>\n",
       "      <th>Idle_Max</th>\n",
       "      <th>Idle_Min</th>\n",
       "    </tr>\n",
       "  </thead>\n",
       "  <tbody>\n",
       "    <tr>\n",
       "      <th>20</th>\n",
       "      <td>17</td>\n",
       "      <td>53</td>\n",
       "      <td>2</td>\n",
       "      <td>0</td>\n",
       "      <td>2944.0</td>\n",
       "      <td>0.0</td>\n",
       "      <td>1472.0</td>\n",
       "      <td>1472.0</td>\n",
       "      <td>1472.0</td>\n",
       "      <td>0.0</td>\n",
       "      <td>...</td>\n",
       "      <td>1</td>\n",
       "      <td>-1</td>\n",
       "      <td>0.0</td>\n",
       "      <td>0.0</td>\n",
       "      <td>0.0</td>\n",
       "      <td>0.0</td>\n",
       "      <td>0.0</td>\n",
       "      <td>0.0</td>\n",
       "      <td>0.0</td>\n",
       "      <td>0.0</td>\n",
       "    </tr>\n",
       "    <tr>\n",
       "      <th>21</th>\n",
       "      <td>17</td>\n",
       "      <td>1</td>\n",
       "      <td>2</td>\n",
       "      <td>0</td>\n",
       "      <td>1472.0</td>\n",
       "      <td>0.0</td>\n",
       "      <td>736.0</td>\n",
       "      <td>736.0</td>\n",
       "      <td>736.0</td>\n",
       "      <td>0.0</td>\n",
       "      <td>...</td>\n",
       "      <td>1</td>\n",
       "      <td>-1</td>\n",
       "      <td>0.0</td>\n",
       "      <td>0.0</td>\n",
       "      <td>0.0</td>\n",
       "      <td>0.0</td>\n",
       "      <td>0.0</td>\n",
       "      <td>0.0</td>\n",
       "      <td>0.0</td>\n",
       "      <td>0.0</td>\n",
       "    </tr>\n",
       "    <tr>\n",
       "      <th>22</th>\n",
       "      <td>17</td>\n",
       "      <td>48</td>\n",
       "      <td>2</td>\n",
       "      <td>0</td>\n",
       "      <td>2944.0</td>\n",
       "      <td>0.0</td>\n",
       "      <td>1472.0</td>\n",
       "      <td>1472.0</td>\n",
       "      <td>1472.0</td>\n",
       "      <td>0.0</td>\n",
       "      <td>...</td>\n",
       "      <td>1</td>\n",
       "      <td>-1</td>\n",
       "      <td>0.0</td>\n",
       "      <td>0.0</td>\n",
       "      <td>0.0</td>\n",
       "      <td>0.0</td>\n",
       "      <td>0.0</td>\n",
       "      <td>0.0</td>\n",
       "      <td>0.0</td>\n",
       "      <td>0.0</td>\n",
       "    </tr>\n",
       "    <tr>\n",
       "      <th>23</th>\n",
       "      <td>17</td>\n",
       "      <td>49</td>\n",
       "      <td>2</td>\n",
       "      <td>0</td>\n",
       "      <td>2656.0</td>\n",
       "      <td>0.0</td>\n",
       "      <td>1328.0</td>\n",
       "      <td>1328.0</td>\n",
       "      <td>1328.0</td>\n",
       "      <td>0.0</td>\n",
       "      <td>...</td>\n",
       "      <td>1</td>\n",
       "      <td>-1</td>\n",
       "      <td>0.0</td>\n",
       "      <td>0.0</td>\n",
       "      <td>0.0</td>\n",
       "      <td>0.0</td>\n",
       "      <td>0.0</td>\n",
       "      <td>0.0</td>\n",
       "      <td>0.0</td>\n",
       "      <td>0.0</td>\n",
       "    </tr>\n",
       "    <tr>\n",
       "      <th>24</th>\n",
       "      <td>17</td>\n",
       "      <td>4</td>\n",
       "      <td>2</td>\n",
       "      <td>0</td>\n",
       "      <td>2944.0</td>\n",
       "      <td>0.0</td>\n",
       "      <td>1472.0</td>\n",
       "      <td>1472.0</td>\n",
       "      <td>1472.0</td>\n",
       "      <td>0.0</td>\n",
       "      <td>...</td>\n",
       "      <td>1</td>\n",
       "      <td>-1</td>\n",
       "      <td>0.0</td>\n",
       "      <td>0.0</td>\n",
       "      <td>0.0</td>\n",
       "      <td>0.0</td>\n",
       "      <td>0.0</td>\n",
       "      <td>0.0</td>\n",
       "      <td>0.0</td>\n",
       "      <td>0.0</td>\n",
       "    </tr>\n",
       "    <tr>\n",
       "      <th>25</th>\n",
       "      <td>17</td>\n",
       "      <td>6</td>\n",
       "      <td>2</td>\n",
       "      <td>0</td>\n",
       "      <td>2944.0</td>\n",
       "      <td>0.0</td>\n",
       "      <td>1472.0</td>\n",
       "      <td>1472.0</td>\n",
       "      <td>1472.0</td>\n",
       "      <td>0.0</td>\n",
       "      <td>...</td>\n",
       "      <td>1</td>\n",
       "      <td>-1</td>\n",
       "      <td>0.0</td>\n",
       "      <td>0.0</td>\n",
       "      <td>0.0</td>\n",
       "      <td>0.0</td>\n",
       "      <td>0.0</td>\n",
       "      <td>0.0</td>\n",
       "      <td>0.0</td>\n",
       "      <td>0.0</td>\n",
       "    </tr>\n",
       "    <tr>\n",
       "      <th>26</th>\n",
       "      <td>17</td>\n",
       "      <td>1</td>\n",
       "      <td>2</td>\n",
       "      <td>0</td>\n",
       "      <td>2912.0</td>\n",
       "      <td>0.0</td>\n",
       "      <td>1456.0</td>\n",
       "      <td>1456.0</td>\n",
       "      <td>1456.0</td>\n",
       "      <td>0.0</td>\n",
       "      <td>...</td>\n",
       "      <td>1</td>\n",
       "      <td>-1</td>\n",
       "      <td>0.0</td>\n",
       "      <td>0.0</td>\n",
       "      <td>0.0</td>\n",
       "      <td>0.0</td>\n",
       "      <td>0.0</td>\n",
       "      <td>0.0</td>\n",
       "      <td>0.0</td>\n",
       "      <td>0.0</td>\n",
       "    </tr>\n",
       "    <tr>\n",
       "      <th>27</th>\n",
       "      <td>17</td>\n",
       "      <td>49</td>\n",
       "      <td>2</td>\n",
       "      <td>0</td>\n",
       "      <td>2928.0</td>\n",
       "      <td>0.0</td>\n",
       "      <td>1464.0</td>\n",
       "      <td>1464.0</td>\n",
       "      <td>1464.0</td>\n",
       "      <td>0.0</td>\n",
       "      <td>...</td>\n",
       "      <td>1</td>\n",
       "      <td>-1</td>\n",
       "      <td>0.0</td>\n",
       "      <td>0.0</td>\n",
       "      <td>0.0</td>\n",
       "      <td>0.0</td>\n",
       "      <td>0.0</td>\n",
       "      <td>0.0</td>\n",
       "      <td>0.0</td>\n",
       "      <td>0.0</td>\n",
       "    </tr>\n",
       "    <tr>\n",
       "      <th>28</th>\n",
       "      <td>17</td>\n",
       "      <td>2</td>\n",
       "      <td>2</td>\n",
       "      <td>0</td>\n",
       "      <td>2848.0</td>\n",
       "      <td>0.0</td>\n",
       "      <td>1424.0</td>\n",
       "      <td>1424.0</td>\n",
       "      <td>1424.0</td>\n",
       "      <td>0.0</td>\n",
       "      <td>...</td>\n",
       "      <td>1</td>\n",
       "      <td>-1</td>\n",
       "      <td>0.0</td>\n",
       "      <td>0.0</td>\n",
       "      <td>0.0</td>\n",
       "      <td>0.0</td>\n",
       "      <td>0.0</td>\n",
       "      <td>0.0</td>\n",
       "      <td>0.0</td>\n",
       "      <td>0.0</td>\n",
       "    </tr>\n",
       "    <tr>\n",
       "      <th>29</th>\n",
       "      <td>17</td>\n",
       "      <td>50</td>\n",
       "      <td>2</td>\n",
       "      <td>0</td>\n",
       "      <td>2944.0</td>\n",
       "      <td>0.0</td>\n",
       "      <td>1472.0</td>\n",
       "      <td>1472.0</td>\n",
       "      <td>1472.0</td>\n",
       "      <td>0.0</td>\n",
       "      <td>...</td>\n",
       "      <td>1</td>\n",
       "      <td>-1</td>\n",
       "      <td>0.0</td>\n",
       "      <td>0.0</td>\n",
       "      <td>0.0</td>\n",
       "      <td>0.0</td>\n",
       "      <td>0.0</td>\n",
       "      <td>0.0</td>\n",
       "      <td>0.0</td>\n",
       "      <td>0.0</td>\n",
       "    </tr>\n",
       "  </tbody>\n",
       "</table>\n",
       "<p>10 rows × 77 columns</p>\n",
       "</div>"
      ],
      "text/plain": [
       "    Protocol  Flow_Duration  Total_Fwd_Packets  Total_Backward_Packets  \\\n",
       "20        17             53                  2                       0   \n",
       "21        17              1                  2                       0   \n",
       "22        17             48                  2                       0   \n",
       "23        17             49                  2                       0   \n",
       "24        17              4                  2                       0   \n",
       "25        17              6                  2                       0   \n",
       "26        17              1                  2                       0   \n",
       "27        17             49                  2                       0   \n",
       "28        17              2                  2                       0   \n",
       "29        17             50                  2                       0   \n",
       "\n",
       "    Total_Length_of_Fwd_Packets  Total_Length_of_Bwd_Packets  \\\n",
       "20                       2944.0                          0.0   \n",
       "21                       1472.0                          0.0   \n",
       "22                       2944.0                          0.0   \n",
       "23                       2656.0                          0.0   \n",
       "24                       2944.0                          0.0   \n",
       "25                       2944.0                          0.0   \n",
       "26                       2912.0                          0.0   \n",
       "27                       2928.0                          0.0   \n",
       "28                       2848.0                          0.0   \n",
       "29                       2944.0                          0.0   \n",
       "\n",
       "    Fwd_Packet_Length_Max  Fwd_Packet_Length_Min  Fwd_Packet_Length_Mean  \\\n",
       "20                 1472.0                 1472.0                  1472.0   \n",
       "21                  736.0                  736.0                   736.0   \n",
       "22                 1472.0                 1472.0                  1472.0   \n",
       "23                 1328.0                 1328.0                  1328.0   \n",
       "24                 1472.0                 1472.0                  1472.0   \n",
       "25                 1472.0                 1472.0                  1472.0   \n",
       "26                 1456.0                 1456.0                  1456.0   \n",
       "27                 1464.0                 1464.0                  1464.0   \n",
       "28                 1424.0                 1424.0                  1424.0   \n",
       "29                 1472.0                 1472.0                  1472.0   \n",
       "\n",
       "    Fwd_Packet_Length_Std  ...  act_data_pkt_fwd  min_seg_size_forward  \\\n",
       "20                    0.0  ...                 1                    -1   \n",
       "21                    0.0  ...                 1                    -1   \n",
       "22                    0.0  ...                 1                    -1   \n",
       "23                    0.0  ...                 1                    -1   \n",
       "24                    0.0  ...                 1                    -1   \n",
       "25                    0.0  ...                 1                    -1   \n",
       "26                    0.0  ...                 1                    -1   \n",
       "27                    0.0  ...                 1                    -1   \n",
       "28                    0.0  ...                 1                    -1   \n",
       "29                    0.0  ...                 1                    -1   \n",
       "\n",
       "    Active_Mean  Active_Std  Active_Max  Active_Min  Idle_Mean  Idle_Std  \\\n",
       "20          0.0         0.0         0.0         0.0        0.0       0.0   \n",
       "21          0.0         0.0         0.0         0.0        0.0       0.0   \n",
       "22          0.0         0.0         0.0         0.0        0.0       0.0   \n",
       "23          0.0         0.0         0.0         0.0        0.0       0.0   \n",
       "24          0.0         0.0         0.0         0.0        0.0       0.0   \n",
       "25          0.0         0.0         0.0         0.0        0.0       0.0   \n",
       "26          0.0         0.0         0.0         0.0        0.0       0.0   \n",
       "27          0.0         0.0         0.0         0.0        0.0       0.0   \n",
       "28          0.0         0.0         0.0         0.0        0.0       0.0   \n",
       "29          0.0         0.0         0.0         0.0        0.0       0.0   \n",
       "\n",
       "    Idle_Max  Idle_Min  \n",
       "20       0.0       0.0  \n",
       "21       0.0       0.0  \n",
       "22       0.0       0.0  \n",
       "23       0.0       0.0  \n",
       "24       0.0       0.0  \n",
       "25       0.0       0.0  \n",
       "26       0.0       0.0  \n",
       "27       0.0       0.0  \n",
       "28       0.0       0.0  \n",
       "29       0.0       0.0  \n",
       "\n",
       "[10 rows x 77 columns]"
      ]
     },
     "execution_count": 17,
     "metadata": {},
     "output_type": "execute_result"
    }
   ],
   "source": [
    "all_X.iloc[20:30].head(10)"
   ]
  },
  {
   "cell_type": "markdown",
   "id": "4ca11320",
   "metadata": {},
   "source": [
    "## Label encoding performed on all_y dataset "
   ]
  },
  {
   "cell_type": "code",
   "execution_count": 18,
   "id": "f5ef22fe",
   "metadata": {},
   "outputs": [
    {
     "name": "stdout",
     "output_type": "stream",
     "text": [
      "Label Mapping:\n",
      "Benign: 0\n",
      "LDAP: 1\n",
      "MSSQL: 2\n",
      "NetBIOS: 3\n",
      "Portmap: 4\n",
      "Syn: 5\n",
      "UDP: 6\n",
      "UDPLag: 7\n",
      "Shape of the target values (2211125,)\n"
     ]
    }
   ],
   "source": [
    "# Apply label encoding to the target variable\n",
    "label_encoder = LabelEncoder()\n",
    "y_encoded = label_encoder.fit_transform(all_y)\n",
    "\n",
    "# Get the mapping of original labels to encoded values\n",
    "label_mapping = dict(zip(label_encoder.classes_, range(len(label_encoder.classes_))))\n",
    "\n",
    "# Print the mapping\n",
    "print(\"Label Mapping:\")\n",
    "for label, encoded_value in label_mapping.items():\n",
    "    print(f\"{label}: {encoded_value}\")\n",
    "\n",
    "print (f\"Shape of the target values {y_encoded.shape}\")"
   ]
  },
  {
   "cell_type": "markdown",
   "id": "490f292d",
   "metadata": {},
   "source": [
    "## Train - Test Split on all 77 features"
   ]
  },
  {
   "cell_type": "code",
   "execution_count": 19,
   "id": "f039374d",
   "metadata": {},
   "outputs": [
    {
     "data": {
      "text/plain": [
       "((1547787, 77), (1547787,), (663338, 77), (663338,))"
      ]
     },
     "execution_count": 19,
     "metadata": {},
     "output_type": "execute_result"
    }
   ],
   "source": [
    "test_size = 0.3 # number of training raws (70%-30%)\n",
    "random_state = 42 # random seed\n",
    "\n",
    "X_train_v0, X_test_v0, y_train_v0, y_test_v0 = train_test_split(all_X, y_encoded, \n",
    "                                                                test_size=test_size, \n",
    "                                                                shuffle=True,\n",
    "                                                                stratify=y_encoded, \n",
    "                                                                random_state=random_state)\n",
    "X_train_v0.shape, y_train_v0.shape, X_test_v0.shape, y_test_v0.shape"
   ]
  },
  {
   "cell_type": "markdown",
   "id": "c91d2383",
   "metadata": {},
   "source": [
    "## Dataset Creation with StandardScaler-Random Undersampler-SMOTE with 77 Features"
   ]
  },
  {
   "cell_type": "markdown",
   "id": "0776ecdb",
   "metadata": {},
   "source": [
    "## Calculate the minimum, mean, and median number of instances per class"
   ]
  },
  {
   "cell_type": "code",
   "execution_count": 20,
   "id": "300feb2a",
   "metadata": {},
   "outputs": [
    {
     "data": {
      "text/plain": [
       "(265, 193473, 22214)"
      ]
     },
     "execution_count": 20,
     "metadata": {},
     "output_type": "execute_result"
    }
   ],
   "source": [
    "# Calculate the minimum, mean, and median number of instances per class\n",
    "class_distribution = pd.Series(y_train_v0).value_counts()\n",
    "min_instances = class_distribution.min()\n",
    "mean_instances = int(class_distribution.mean())\n",
    "median_instances = int(class_distribution.median())\n",
    "min_instances, mean_instances, median_instances\n",
    "# sampling_strategy = {cls: mean_instances for cls in class_distribution.index}\n",
    "# print(sampling_strategy)\n"
   ]
  },
  {
   "cell_type": "code",
   "execution_count": 21,
   "id": "ff5a7a79",
   "metadata": {},
   "outputs": [],
   "source": [
    "def create_datasets(X, y, threshold, scaler):\n",
    "    print(f'The shape of X and y is ',X.shape, y.shape)\n",
    "    # Determine the class labels\n",
    "    class_label = pd.Series(y).unique()\n",
    "\n",
    "    print('------------------------------------------------')\n",
    "    print(f'The class encoded labels are ',class_label)\n",
    "    print (f'The threshold is ', threshold)\n",
    "    print (f'The scaler is ', scaler)\n",
    "    print('------------------------------------------------')\n",
    "    print(f'dataset creation process started for : {threshold} instances for each Class' )\n",
    "    \n",
    "    # Determine the classes that need under-sampling and SMOTE\n",
    "    under_sample_classes = [class_label for class_label, count in class_distribution.items() if count > threshold]\n",
    "    smote_classes = [class_label for class_label, count in class_distribution.items() if count <= threshold]\n",
    "\n",
    "    print(f'under sampling classes are: ', under_sample_classes)\n",
    "    print(f'SMOT Over sampling classes are: ', smote_classes)\n",
    "    \n",
    "    # Create a sampling strategy dictionary\n",
    "    rus_sampling_strategy = {}\n",
    "    smt_sampling_strategy = {}\n",
    "    \n",
    "    for class_label in under_sample_classes:\n",
    "        rus_sampling_strategy[class_label] = threshold\n",
    "    \n",
    "    for class_label in smote_classes:\n",
    "        smt_sampling_strategy [class_label]= threshold\n",
    "    \n",
    "#     transformer = ColumnTransformer([\n",
    "#         ('scale', StandardScaler(), X.columns)\n",
    "#     ])\n",
    "    \n",
    "    # Define the pipeline\n",
    "    pipeline = Pipeline([\n",
    "#         ('transformer', transformer),\n",
    "        # ('scale', StandardScaler()),\n",
    "        ('scale', scaler), # Now getting the scaler to work, from function call\n",
    "        ('rus', RandomUnderSampler(sampling_strategy=rus_sampling_strategy)),\n",
    "        ('smote', SMOTE(sampling_strategy=smt_sampling_strategy))\n",
    "    ], verbose=True)\n",
    "\n",
    "    # Apply the pipeline to create a new dataset\n",
    "    X_resampled, y_resampled = pipeline.fit_resample(X, y)\n",
    "#     pipeline.fit(X,y)\n",
    "    print(f'dataset creation process completed for : {threshold} instances for each Class' )\n",
    "    return X_resampled, y_resampled, pipeline "
   ]
  },
  {
   "cell_type": "markdown",
   "id": "8c7fd0e6",
   "metadata": {},
   "source": [
    "## Dataset Creation with Standard-Scaler Random Undersampler and SMOTE "
   ]
  },
  {
   "cell_type": "code",
   "execution_count": 22,
   "id": "3d1b2fb7",
   "metadata": {},
   "outputs": [
    {
     "name": "stdout",
     "output_type": "stream",
     "text": [
      "The shape of X and y is  (1547787, 77) (1547787,)\n",
      "------------------------------------------------\n",
      "The class encoded labels are  [5 6 2 1 4 0 3 7]\n",
      "The threshold is  265\n",
      "The scaler is  StandardScaler()\n",
      "------------------------------------------------\n",
      "dataset creation process started for : 265 instances for each Class\n",
      "under sampling classes are:  [6, 5, 2, 0, 1, 3, 4]\n",
      "SMOT Over sampling classes are:  [7]\n",
      "[Pipeline] ............. (step 1 of 3) Processing scale, total=   3.6s\n",
      "[Pipeline] ............... (step 2 of 3) Processing rus, total=   0.4s\n",
      "[Pipeline] ............. (step 3 of 3) Processing smote, total=   0.0s\n",
      "dataset creation process completed for : 265 instances for each Class\n"
     ]
    }
   ],
   "source": [
    "# Create three datasets based on the thresholds\n",
    "X_min_SS_77, y_min_SS_77, pipeline_min_SS_77 = create_datasets(X_train_v0, y_train_v0, min_instances, StandardScaler()) \n",
    "# X_mean_SS_77, y_mean_SS_77, pipeline_mean_SS_77 = create_datasets(X_train_v0, y_train_v0, mean_instances, StandardScaler()) \n",
    "# X_median_SS_77, y_median_SS_77, pipeline_median_SS_77 = create_datasets(X_train_v0, y_train_v0, median_instances, StandardScaler()) "
   ]
  },
  {
   "cell_type": "code",
   "execution_count": 23,
   "id": "f7b71181",
   "metadata": {},
   "outputs": [
    {
     "data": {
      "text/plain": [
       "((2120, 77), (2120,))"
      ]
     },
     "execution_count": 23,
     "metadata": {},
     "output_type": "execute_result"
    }
   ],
   "source": [
    "# X_min_SS_77.shape, y_min_SS_77.shape, X_mean_SS_77.shape, y_mean_SS_77.shape, X_median_SS_77.shape, y_median_SS_77.shape\n",
    "# X_median_SS_77.shape, y_median_SS_77.shape\n",
    "X_min_SS_77.shape, y_min_SS_77.shape"
   ]
  },
  {
   "cell_type": "code",
   "execution_count": 24,
   "id": "7ba9181e",
   "metadata": {},
   "outputs": [
    {
     "data": {
      "image/png": "[encoded data removed]",
      "text/plain": [
       "<Figure size 1000x500 with 1 Axes>"
      ]
     },
     "metadata": {},
     "output_type": "display_data"
    }
   ],
   "source": [
    "\n",
    "# Function to visualize class distribution\n",
    "def plot_class_distribution(y, title):\n",
    "    plt.figure(figsize=(10, 5))\n",
    "    sns.barplot(x=pd.Series(y).value_counts().index, y=pd.Series(y).value_counts().values)\n",
    "    plt.title(title)\n",
    "    plt.xlabel(\"Class Label\")\n",
    "    plt.ylabel(\"Number of Instances\")\n",
    "    plt.xticks(rotation=90)\n",
    "    plt.show()\n",
    "\n",
    "# Plot for each dataset\n",
    "plot_class_distribution(y_min_SS_77, \"Class Distribution (Min Instances)\")\n",
    "# plot_class_distribution(y_mean_SS_77, \"Class Distribution (mean Instances)\")\n",
    "# plot_class_distribution(y_median_SS_77, \"Class Distribution (Median Instances)\")\n"
   ]
  },
  {
   "cell_type": "markdown",
   "id": "f8acb02d",
   "metadata": {},
   "source": [
    "## X_test dataset scaling with pipeline scaler"
   ]
  },
  {
   "cell_type": "code",
   "execution_count": 25,
   "id": "837ed433",
   "metadata": {},
   "outputs": [
    {
     "data": {
      "text/plain": [
       "(663338, 77)"
      ]
     },
     "execution_count": 25,
     "metadata": {},
     "output_type": "execute_result"
    }
   ],
   "source": [
    "X_test_min_SS_77 = pipeline_min_SS_77.named_steps['scale'].transform(X_test_v0)\n",
    "# X_test_mean_SS_77 = pipeline_mean_SS_77.named_steps['scale'].transform(X_test_v0)\n",
    "# X_test_median_SS_77 = pipeline_median_SS_77.named_steps['scale'].transform(X_test_v0)\n",
    "\n",
    "# X_test_min_SS_77.shape, X_test_mean_SS_77.shape, X_test_median_SS_77.shape\n",
    "X_test_min_SS_77.shape\n",
    "# X_test_median_SS_77.shape"
   ]
  },
  {
   "cell_type": "markdown",
   "id": "32f9cf20",
   "metadata": {},
   "source": [
    "### Create Validation Set from min-training set of 20%"
   ]
  },
  {
   "cell_type": "code",
   "execution_count": 26,
   "id": "70b46031",
   "metadata": {},
   "outputs": [
    {
     "name": "stdout",
     "output_type": "stream",
     "text": [
      "Training Data Shape: (1696, 77), (1696,)\n",
      "Validation Data Shape: (424, 77), (424,)\n",
      "Test Data Shape: (663338, 77), (663338,)\n"
     ]
    }
   ],
   "source": [
    "\n",
    "# Create a validation set (20 of training data)\n",
    "X_train_final, X_val, y_train_final, y_val = train_test_split(\n",
    "    X_min_SS_77, y_min_SS_77, test_size=0.2, random_state=42, stratify=y_min_SS_77)\n",
    "\n",
    "# Check dataset shapes\n",
    "print(f\"Training Data Shape: {X_train_final.shape}, {y_train_final.shape}\")\n",
    "print(f\"Validation Data Shape: {X_val.shape}, {y_val.shape}\")\n",
    "print(f\"Test Data Shape: {X_test_min_SS_77.shape}, {y_test_v0.shape}\")\n"
   ]
  },
  {
   "cell_type": "code",
   "execution_count": 27,
   "id": "2a7fa736",
   "metadata": {},
   "outputs": [
    {
     "name": "stdout",
     "output_type": "stream",
     "text": [
      "Training Data Shape: torch.Size([1696, 77]) torch.Size([1696])\n",
      "Validation Data Shape: torch.Size([424, 77]) torch.Size([424])\n",
      "Test Data Shape: torch.Size([663338, 77]) torch.Size([663338])\n"
     ]
    }
   ],
   "source": [
    "# Convert training data to tensors\n",
    "X_train_tensor = torch.tensor(X_train_final, dtype=torch.float32)\n",
    "y_train_tensor = torch.tensor(y_train_final, dtype=torch.long)  # Classification task\n",
    "\n",
    "# Convert validation data to tensors\n",
    "X_val_tensor = torch.tensor(X_val, dtype=torch.float32)  # StandardScaler applied\n",
    "y_val_tensor = torch.tensor(y_val, dtype=torch.long)\n",
    "\n",
    "# Convert test data to tensors\n",
    "X_test_tensor = torch.tensor(X_test_min_SS_77, dtype=torch.float32)  # StandardScaler applied\n",
    "y_test_tensor = torch.tensor(y_test_v0, dtype=torch.long)\n",
    "\n",
    "# Print shapes to verify\n",
    "print(\"Training Data Shape:\", X_train_tensor.shape, y_train_tensor.shape)\n",
    "print(\"Validation Data Shape:\", X_val_tensor.shape, y_val_tensor.shape)\n",
    "print(\"Test Data Shape:\", X_test_tensor.shape, y_test_tensor.shape)"
   ]
  },
  {
   "cell_type": "code",
   "execution_count": 28,
   "id": "8adae06e",
   "metadata": {},
   "outputs": [],
   "source": [
    "# Create PyTorch Dataset\n",
    "train_dataset = TensorDataset(X_train_tensor, y_train_tensor)\n",
    "val_dataset = TensorDataset(X_val_tensor, y_val_tensor)\n",
    "test_dataset = TensorDataset(X_test_tensor, y_test_tensor)"
   ]
  },
  {
   "cell_type": "markdown",
   "id": "adef9987",
   "metadata": {},
   "source": [
    "### Create a DataLoader\n",
    "#### DataLoader helps with batching, shuffling, and parallel processing for efficient training."
   ]
  },
  {
   "cell_type": "code",
   "execution_count": 29,
   "id": "6d6c3f3e",
   "metadata": {},
   "outputs": [
    {
     "name": "stdout",
     "output_type": "stream",
     "text": [
      "Number of workers: 4\n"
     ]
    }
   ],
   "source": [
    "# Define batch size\n",
    "batch_size = 64  # You can change this based on your system's memory\n",
    "# Automatically determine an optimal number of workers\n",
    "num_workers = min(4, torch.get_num_threads())  # Adjust based on your CPU\n",
    "print(\"Number of workers:\", num_workers)\n",
    "# Create DataLoader for training and validation data\n",
    "train_loader = DataLoader(train_dataset, batch_size=batch_size, shuffle=True, num_workers=4, pin_memory=True)\n",
    "val_loader = DataLoader(val_dataset, batch_size=batch_size, shuffle=False, num_workers=4, pin_memory=True)\n",
    "test_loader = DataLoader(test_dataset, batch_size=batch_size,shuffle=False, num_workers=4, pin_memory=True) \n"
   ]
  },
  {
   "cell_type": "markdown",
   "id": "43a8086e",
   "metadata": {},
   "source": [
    "### Verify DataLoader\n",
    "#### To check if the DataLoader works correctly, let's load a single batch and inspect the shapes."
   ]
  },
  {
   "cell_type": "code",
   "execution_count": 30,
   "id": "41689a6a",
   "metadata": {},
   "outputs": [
    {
     "name": "stdout",
     "output_type": "stream",
     "text": [
      "Batch X Shape: torch.Size([64, 77])\n",
      "Batch y Shape: torch.Size([64])\n",
      "Batch xtest Shape: torch.Size([64, 77])\n",
      "Batch ytest Shape: torch.Size([64])\n"
     ]
    }
   ],
   "source": [
    "# Fetch a batch of data\n",
    "X_batch, y_batch = next(iter(train_loader))\n",
    "print(\"Batch X Shape:\", X_batch.shape)\n",
    "print(\"Batch y Shape:\", y_batch.shape)\n",
    "\n",
    "Xtest_batch, ytest_batch = next(iter(test_loader))\n",
    "print(\"Batch xtest Shape:\", Xtest_batch.shape)\n",
    "print(\"Batch ytest Shape:\", ytest_batch.shape)\n"
   ]
  },
  {
   "cell_type": "markdown",
   "id": "bdede843",
   "metadata": {},
   "source": [
    "## Training and making prediction on resampled dataset"
   ]
  },
  {
   "cell_type": "code",
   "execution_count": 31,
   "id": "1e5b8ba0",
   "metadata": {},
   "outputs": [
    {
     "name": "stdout",
     "output_type": "stream",
     "text": [
      "DDoSClassifier(\n",
      "  (fc1): Linear(in_features=77, out_features=128, bias=True)\n",
      "  (relu1): ReLU()\n",
      "  (dropout1): Dropout(p=0.3, inplace=False)\n",
      "  (fc2): Linear(in_features=128, out_features=64, bias=True)\n",
      "  (relu2): ReLU()\n",
      "  (dropout2): Dropout(p=0.3, inplace=False)\n",
      "  (fc3): Linear(in_features=64, out_features=1696, bias=True)\n",
      "  (softmax): Softmax(dim=1)\n",
      ")\n"
     ]
    }
   ],
   "source": [
    "\n",
    "# Define the neural network model\n",
    "class DDoSClassifier(nn.Module):\n",
    "    def __init__(self, input_size, num_classes):\n",
    "        super(DDoSClassifier, self).__init__()\n",
    "\n",
    "        # Fully connected layers\n",
    "        self.fc1 = nn.Linear(input_size, 128)  # Input layer\n",
    "        self.relu1 = nn.ReLU()\n",
    "        self.dropout1 = nn.Dropout(0.3)  # Dropout for regularization\n",
    "\n",
    "        self.fc2 = nn.Linear(128, 64)  # Hidden layer\n",
    "        self.relu2 = nn.ReLU()\n",
    "        self.dropout2 = nn.Dropout(0.3)\n",
    "\n",
    "        self.fc3 = nn.Linear(64, num_classes)  # Output layer\n",
    "        self.softmax = nn.Softmax(dim=1)  # Softmax activation for multiclass classification\n",
    "\n",
    "    def forward(self, x):\n",
    "        x = self.fc1(x)\n",
    "        x = self.relu1(x)\n",
    "        x = self.dropout1(x)\n",
    "\n",
    "        x = self.fc2(x)\n",
    "        x = self.relu2(x)\n",
    "        x = self.dropout2(x)\n",
    "\n",
    "        x = self.fc3(x)\n",
    "        x = self.softmax(x)  # Apply softmax for classification\n",
    "        \n",
    "        return x\n",
    "\n",
    "# Get input size (number of features) and number of classes\n",
    "input_size = X_train_tensor.shape[1]  # Number of features\n",
    "num_classes = len(set(y_train_tensor))  # Number of unique labels\n",
    "\n",
    "# Create the model instance\n",
    "model = DDoSClassifier(input_size, num_classes)\n",
    "\n",
    "# Print the model summary\n",
    "print(model)\n"
   ]
  },
  {
   "cell_type": "code",
   "execution_count": 32,
   "id": "d24a5c73",
   "metadata": {},
   "outputs": [
    {
     "name": "stdout",
     "output_type": "stream",
     "text": [
      "ImprovedDDoSClassifier(\n",
      "  (fc1): Linear(in_features=77, out_features=256, bias=True)\n",
      "  (bn1): BatchNorm1d(256, eps=1e-05, momentum=0.1, affine=True, track_running_stats=True)\n",
      "  (act1): LeakyReLU(negative_slope=0.01)\n",
      "  (drop1): Dropout(p=0.4, inplace=False)\n",
      "  (fc2): Linear(in_features=256, out_features=128, bias=True)\n",
      "  (bn2): BatchNorm1d(128, eps=1e-05, momentum=0.1, affine=True, track_running_stats=True)\n",
      "  (act2): LeakyReLU(negative_slope=0.01)\n",
      "  (drop2): Dropout(p=0.3, inplace=False)\n",
      "  (fc3): Linear(in_features=128, out_features=64, bias=True)\n",
      "  (bn3): BatchNorm1d(64, eps=1e-05, momentum=0.1, affine=True, track_running_stats=True)\n",
      "  (act3): LeakyReLU(negative_slope=0.01)\n",
      "  (drop3): Dropout(p=0.3, inplace=False)\n",
      "  (fc4): Linear(in_features=64, out_features=32, bias=True)\n",
      "  (bn4): BatchNorm1d(32, eps=1e-05, momentum=0.1, affine=True, track_running_stats=True)\n",
      "  (act4): LeakyReLU(negative_slope=0.01)\n",
      "  (drop4): Dropout(p=0.2, inplace=False)\n",
      "  (fc5): Linear(in_features=32, out_features=1696, bias=True)\n",
      ")\n"
     ]
    }
   ],
   "source": [
    "\n",
    "class ImprovedDDoSClassifier(nn.Module):\n",
    "    def __init__(self, input_size, num_classes):\n",
    "        super(ImprovedDDoSClassifier, self).__init__()\n",
    "\n",
    "        self.fc1 = nn.Linear(input_size, 256)  # Increased neurons\n",
    "        self.bn1 = nn.BatchNorm1d(256)\n",
    "        self.act1 = nn.LeakyReLU()\n",
    "        self.drop1 = nn.Dropout(0.4)\n",
    "\n",
    "        self.fc2 = nn.Linear(256, 128)\n",
    "        self.bn2 = nn.BatchNorm1d(128)\n",
    "        self.act2 = nn.LeakyReLU()\n",
    "        self.drop2 = nn.Dropout(0.3)\n",
    "\n",
    "        self.fc3 = nn.Linear(128, 64)\n",
    "        self.bn3 = nn.BatchNorm1d(64)\n",
    "        self.act3 = nn.LeakyReLU()\n",
    "        self.drop3 = nn.Dropout(0.3)\n",
    "\n",
    "        self.fc4 = nn.Linear(64, 32)\n",
    "        self.bn4 = nn.BatchNorm1d(32)\n",
    "        self.act4 = nn.LeakyReLU()\n",
    "        self.drop4 = nn.Dropout(0.2)\n",
    "\n",
    "        self.fc5 = nn.Linear(32, num_classes)\n",
    "\n",
    "    def forward(self, x):\n",
    "        x = self.drop1(self.act1(self.bn1(self.fc1(x))))\n",
    "        x = self.drop2(self.act2(self.bn2(self.fc2(x))))\n",
    "        x = self.drop3(self.act3(self.bn3(self.fc3(x))))\n",
    "        x = self.drop4(self.act4(self.bn4(self.fc4(x))))\n",
    "        x = self.fc5(x)  # No Softmax (Handled in loss function)\n",
    "        return x\n",
    "\n",
    "# Get input size (number of features) and number of classes\n",
    "input_size = X_train_tensor.shape[1]\n",
    "num_classes = len(set(y_train_tensor))\n",
    "\n",
    "# Create model instance\n",
    "model = ImprovedDDoSClassifier(input_size, num_classes)\n",
    "\n",
    "# Print model summary\n",
    "print(model)\n"
   ]
  },
  {
   "cell_type": "code",
   "execution_count": null,
   "id": "1f0ac038",
   "metadata": {},
   "outputs": [],
   "source": [
    "class Autoencoder(nn.Module):\n",
    "    def __init__(self, input_size):\n",
    "        super(Autoencoder, self).__init__()\n",
    "        self.encoder = nn.Sequential(\n",
    "            nn.Linear(input_size, 128),\n",
    "            nn.ReLU(),\n",
    "            nn.Linear(128, 64),\n",
    "            nn.ReLU(),\n",
    "            nn.Linear(64, 32),\n",
    "            nn.ReLU(),\n",
    "        )\n",
    "        self.decoder = nn.Sequential(\n",
    "            nn.Linear(32, 64),\n",
    "            nn.ReLU(),\n",
    "            nn.Linear(64, 128),\n",
    "            nn.ReLU(),\n",
    "            nn.Linear(128, input_size),\n",
    "            nn.Sigmoid(),\n",
    "        )\n",
    "\n",
    "    def forward(self, x):\n",
    "        encoded = self.encoder(x)\n",
    "        decoded = self.decoder(encoded)\n",
    "        return encoded, decoded\n",
    "\n",
    "class AE_MLP_Classifier(nn.Module):\n",
    "    def __init__(self, input_size, num_classes):\n",
    "        super(AE_MLP_Classifier, self).__init__()\n",
    "        self.autoencoder = Autoencoder(input_size)\n",
    "        self.classifier = nn.Sequential(\n",
    "            nn.Linear(32, 64),\n",
    "            nn.ReLU(),\n",
    "            nn.Linear(64, num_classes),\n",
    "            nn.Softmax(dim=1),\n",
    "        )\n",
    "\n",
    "    def forward(self, x):\n",
    "        encoded, _ = self.autoencoder(x)\n",
    "        return self.classifier(encoded)\n"
   ]
  },
  {
   "cell_type": "code",
   "execution_count": null,
   "id": "41e5cbbf",
   "metadata": {},
   "outputs": [],
   "source": [
    "\n",
    "\n",
    "def memory_usage():\n",
    "    \"\"\"Returns memory usage in MB.\"\"\"\n",
    "    return psutil.Process().memory_info().rss / 1024 ** 2  # Convert bytes to MB\n",
    "\n",
    "def train_model(model, train_loader, val_loader, criterion, optimizer, epochs, device):\n",
    "    model.to(device)\n",
    "    print(f\" Training on device: {device}\")\n",
    "    history = {'train_loss': [], 'train_acc': [], 'val_loss': [], 'val_acc': []}\n",
    "\n",
    "    start_time = time.time()  # Track training start time\n",
    "    mem_usage_before = memory_usage()  # Track memory usage before training\n",
    "\n",
    "    # scaler = torch.cuda.amp.GradScaler()  # Mixed Precision Training\n",
    "    # scaler = torch.cuda.amp.GradScaler() if device.type == \"cuda\" else None\n",
    "\n",
    "    for epoch in range(epochs):\n",
    "        model.train()\n",
    "        train_loss, correct, total = 0, 0, 0\n",
    "\n",
    "        # Use tqdm progress bar\n",
    "        progress_bar = tqdm(train_loader, desc=f\"Epoch {epoch+1}/{epochs}\")\n",
    "\n",
    "        for X_batch, y_batch in progress_bar:\n",
    "            X_batch, y_batch = X_batch.to(device), y_batch.to(device)\n",
    "            optimizer.zero_grad()\n",
    "            y_pred = model(X_batch)\n",
    "            loss = criterion(y_pred, y_batch)\n",
    "            loss.backward()\n",
    "            optimizer.step()\n",
    "            \n",
    "            train_loss += loss.item()\n",
    "            correct += (y_pred.argmax(1) == y_batch).sum().item()\n",
    "            total += y_batch.size(0)\n",
    "\n",
    "            avg_loss = train_loss / len(train_loader)\n",
    "            accuracy = correct / total\n",
    "            progress_bar.set_postfix(loss=avg_loss, acc=accuracy)\n",
    "\n",
    "        train_loss /= len(train_loader)\n",
    "        train_acc = correct / total\n",
    "        history['train_loss'].append(train_loss)\n",
    "        history['train_acc'].append(train_acc)\n",
    "\n",
    "        # Validation phase\n",
    "        model.eval()\n",
    "        val_loss, correct, total = 0, 0, 0\n",
    "        with torch.no_grad():\n",
    "            for X_batch, y_batch in val_loader:\n",
    "                X_batch, y_batch = X_batch.to(device), y_batch.to(device)\n",
    "                y_pred = model(X_batch)\n",
    "                loss = criterion(y_pred, y_batch)\n",
    "\n",
    "                val_loss += loss.item()\n",
    "                correct += (y_pred.argmax(1) == y_batch).sum().item()\n",
    "                total += y_batch.size(0)\n",
    "\n",
    "        val_acc = correct / total\n",
    "        val_loss /= len(val_loader)\n",
    "\n",
    "        history['val_loss'].append(val_loss)\n",
    "        history['val_acc'].append(val_acc)\n",
    "\n",
    "\n",
    "        # print(f\"Epoch {epoch+1}: Train Loss={train_loss:.4f}, Train Acc={train_acc:.4f}\")\n",
    "        print(f\"Epoch {epoch+1}: Train Loss={train_loss:.4f}, Train Acc={train_acc:.4f} | \"\n",
    "              f\"Val Loss={val_loss:.4f}, Val Acc={val_acc:.4f}\")\n",
    "\n",
    "    # Track time and memory usage after training\n",
    "    end_time = time.time()\n",
    "    mem_usage_after = memory_usage()\n",
    "\n",
    "    train_time = end_time - start_time\n",
    "    train_mem_used = mem_usage_after - mem_usage_before\n",
    "\n",
    "    print(f\"Training Completed! \")\n",
    "    print(f\"Training Time: {train_time:.2f} seconds\")\n",
    "    print(f\"Memory Used: {train_mem_used:.2f} MB\")\n",
    "\n",
    "    return train_time, train_mem_used, model, history\n"
   ]
  },
  {
   "cell_type": "code",
   "execution_count": 34,
   "id": "c0d5b86d",
   "metadata": {},
   "outputs": [],
   "source": [
    "\n",
    "def make_predictions(model, test_loader, device):\n",
    "    model.eval()  # Set to evaluation mode\n",
    "    start_time = time.time()\n",
    "    mem_usage_before = memory_usage()\n",
    "\n",
    "    y_pred_list = []\n",
    "    with torch.no_grad():\n",
    "        for batch in test_loader:  # Iterate using batch\n",
    "            X_batch, _ = batch  # Correctly unpack batch\n",
    "            # print(f\"Batch Type: {type(X_batch)}\")  # Debugging statement\n",
    "\n",
    "            X_batch = X_batch.to(device)  # Move to device\n",
    "            y_pred = model(X_batch)\n",
    "            y_pred_list.append(y_pred.argmax(dim=1).cpu().numpy())\n",
    "\n",
    "    y_pred = np.concatenate(y_pred_list, axis=0)\n",
    "\n",
    "    end_time = time.time()\n",
    "    mem_usage_after = memory_usage()\n",
    "\n",
    "    predict_time = end_time - start_time\n",
    "    mem_used = mem_usage_after - mem_usage_before\n",
    "\n",
    "    return predict_time, mem_used, y_pred\n"
   ]
  },
  {
   "cell_type": "code",
   "execution_count": 35,
   "id": "44d109e2",
   "metadata": {},
   "outputs": [],
   "source": [
    "\n",
    "def make_report(y_test, y_pred, model, file_name, train_time, train_mem_used, predict_time, predict_mem_used):\n",
    "    \n",
    "    try:\n",
    "        # Convert inputs to NumPy arrays if they are tensors\n",
    "        if isinstance(y_test, torch.Tensor):\n",
    "            y_test = y_test.cpu().numpy()\n",
    "        if isinstance(y_pred, torch.Tensor):\n",
    "            y_pred = y_pred.cpu().numpy()\n",
    "\n",
    "        # Classification report & Confusion matrix\n",
    "        report = classification_report(y_test, y_pred, digits=5, output_dict=True)\n",
    "        conf_matrix = confusion_matrix(y_test, y_pred)\n",
    "\n",
    "        # Convert to DataFrame\n",
    "        report_df = pd.DataFrame(report).transpose()\n",
    "        conf_matrix_df = pd.DataFrame(conf_matrix)\n",
    "    \n",
    "        # Create directories\n",
    "        base_directory = 'DL_Model_Reports'\n",
    "        dir_name = 'MLP_pytorch_reports'\n",
    "        output_directory = os.path.join(base_directory, dir_name)\n",
    "        os.makedirs(output_directory, exist_ok=True)\n",
    "\n",
    "        output_file = os.path.join(output_directory, f'{file_name}_report.xlsx')\n",
    "\n",
    "        # Save to Excel\n",
    "        with pd.ExcelWriter(output_file, engine='xlsxwriter') as writer:\n",
    "            report_df.to_excel(writer, sheet_name='Classification Report')\n",
    "            conf_matrix_df.to_excel(writer, sheet_name='Confusion Matrix')\n",
    "\n",
    "            pd.DataFrame({'Training Time': [train_time]}).to_excel(writer, sheet_name='Training Time')\n",
    "            pd.DataFrame({'Training Memory Used': [train_mem_used]}).to_excel(writer, sheet_name='Training Memory Used')\n",
    "            pd.DataFrame({'Prediction Time': [predict_time]}).to_excel(writer, sheet_name='Prediction Time')\n",
    "            pd.DataFrame({'Prediction Memory Used': [predict_mem_used]}).to_excel(writer, sheet_name='Prediction Memory Used')\n",
    "\n",
    "            # Save model architecture\n",
    "            model_summary = [str(model)]\n",
    "        # model_summary.append(str(model))  # Save model details\n",
    "            pd.DataFrame({'Model Summary': model_summary}).to_excel(writer, sheet_name='Model Summary')\n",
    "\n",
    "        print(f\"Report saved successfully: {output_file}\")\n",
    "        return report, conf_matrix\n",
    "    \n",
    "    except Exception as e:\n",
    "        print(f\"An error occurred: {e}\")\n",
    "        return None\n"
   ]
  },
  {
   "cell_type": "code",
   "execution_count": 36,
   "id": "e086b29a",
   "metadata": {},
   "outputs": [
    {
     "name": "stderr",
     "output_type": "stream",
     "text": [
      "c:\\Users\\Mansoor\\anaconda3\\envs\\tsf-2\\lib\\site-packages\\torch\\amp\\grad_scaler.py:131: UserWarning: torch.cuda.amp.GradScaler is enabled, but CUDA is not available.  Disabling.\n",
      "  warnings.warn(\n"
     ]
    },
    {
     "name": "stdout",
     "output_type": "stream",
     "text": [
      " Training on device: cpu\n"
     ]
    },
    {
     "name": "stderr",
     "output_type": "stream",
     "text": [
      "Epoch 1/20: 100%|██████████| 27/27 [00:11<00:00,  2.42it/s, acc=0.0967, loss=6.88] \n"
     ]
    },
    {
     "name": "stdout",
     "output_type": "stream",
     "text": [
      "Epoch 1: Train Loss=6.8785, Train Acc=0.0967 | Val Loss=6.3954, Val Acc=0.5920\n"
     ]
    },
    {
     "name": "stderr",
     "output_type": "stream",
     "text": [
      "Epoch 2/20: 100%|██████████| 27/27 [00:11<00:00,  2.42it/s, acc=0.515, loss=5.71]\n"
     ]
    },
    {
     "name": "stdout",
     "output_type": "stream",
     "text": [
      "Epoch 2: Train Loss=5.7149, Train Acc=0.5153 | Val Loss=5.1656, Val Acc=0.6061\n"
     ]
    },
    {
     "name": "stderr",
     "output_type": "stream",
     "text": [
      "Epoch 3/20: 100%|██████████| 27/27 [00:11<00:00,  2.32it/s, acc=0.608, loss=4.64]\n"
     ]
    },
    {
     "name": "stdout",
     "output_type": "stream",
     "text": [
      "Epoch 3: Train Loss=4.6428, Train Acc=0.6079 | Val Loss=4.0942, Val Acc=0.6392\n"
     ]
    },
    {
     "name": "stderr",
     "output_type": "stream",
     "text": [
      "Epoch 4/20: 100%|██████████| 27/27 [00:10<00:00,  2.47it/s, acc=0.64, loss=3.51] \n"
     ]
    },
    {
     "name": "stdout",
     "output_type": "stream",
     "text": [
      "Epoch 4: Train Loss=3.5147, Train Acc=0.6403 | Val Loss=3.0492, Val Acc=0.6958\n"
     ]
    },
    {
     "name": "stderr",
     "output_type": "stream",
     "text": [
      "Epoch 5/20: 100%|██████████| 27/27 [00:10<00:00,  2.54it/s, acc=0.672, loss=2.55]\n"
     ]
    },
    {
     "name": "stdout",
     "output_type": "stream",
     "text": [
      "Epoch 5: Train Loss=2.5452, Train Acc=0.6722 | Val Loss=2.0201, Val Acc=0.7429\n"
     ]
    },
    {
     "name": "stderr",
     "output_type": "stream",
     "text": [
      "Epoch 6/20: 100%|██████████| 27/27 [00:11<00:00,  2.45it/s, acc=0.683, loss=1.84] \n"
     ]
    },
    {
     "name": "stdout",
     "output_type": "stream",
     "text": [
      "Epoch 6: Train Loss=1.8445, Train Acc=0.6828 | Val Loss=1.3766, Val Acc=0.7500\n"
     ]
    },
    {
     "name": "stderr",
     "output_type": "stream",
     "text": [
      "Epoch 7/20: 100%|██████████| 27/27 [00:12<00:00,  2.25it/s, acc=0.693, loss=1.42] \n"
     ]
    },
    {
     "name": "stdout",
     "output_type": "stream",
     "text": [
      "Epoch 7: Train Loss=1.4214, Train Acc=0.6934 | Val Loss=1.0695, Val Acc=0.7618\n"
     ]
    },
    {
     "name": "stderr",
     "output_type": "stream",
     "text": [
      "Epoch 8/20: 100%|██████████| 27/27 [00:11<00:00,  2.44it/s, acc=0.735, loss=1.15] \n"
     ]
    },
    {
     "name": "stdout",
     "output_type": "stream",
     "text": [
      "Epoch 8: Train Loss=1.1501, Train Acc=0.7347 | Val Loss=0.8804, Val Acc=0.7712\n"
     ]
    },
    {
     "name": "stderr",
     "output_type": "stream",
     "text": [
      "Epoch 9/20: 100%|██████████| 27/27 [00:11<00:00,  2.37it/s, acc=0.734, loss=1]    \n"
     ]
    },
    {
     "name": "stdout",
     "output_type": "stream",
     "text": [
      "Epoch 9: Train Loss=1.0048, Train Acc=0.7341 | Val Loss=0.7705, Val Acc=0.7665\n"
     ]
    },
    {
     "name": "stderr",
     "output_type": "stream",
     "text": [
      "Epoch 10/20: 100%|██████████| 27/27 [00:11<00:00,  2.36it/s, acc=0.747, loss=0.903]\n"
     ]
    },
    {
     "name": "stdout",
     "output_type": "stream",
     "text": [
      "Epoch 10: Train Loss=0.9028, Train Acc=0.7471 | Val Loss=0.6930, Val Acc=0.7759\n"
     ]
    },
    {
     "name": "stderr",
     "output_type": "stream",
     "text": [
      "Epoch 11/20: 100%|██████████| 27/27 [00:11<00:00,  2.43it/s, acc=0.75, loss=0.846] \n"
     ]
    },
    {
     "name": "stdout",
     "output_type": "stream",
     "text": [
      "Epoch 11: Train Loss=0.8455, Train Acc=0.7500 | Val Loss=0.6540, Val Acc=0.7807\n"
     ]
    },
    {
     "name": "stderr",
     "output_type": "stream",
     "text": [
      "Epoch 12/20: 100%|██████████| 27/27 [00:11<00:00,  2.27it/s, acc=0.729, loss=0.828]\n"
     ]
    },
    {
     "name": "stdout",
     "output_type": "stream",
     "text": [
      "Epoch 12: Train Loss=0.8279, Train Acc=0.7288 | Val Loss=0.6330, Val Acc=0.7736\n"
     ]
    },
    {
     "name": "stderr",
     "output_type": "stream",
     "text": [
      "Epoch 13/20: 100%|██████████| 27/27 [00:10<00:00,  2.48it/s, acc=0.767, loss=0.749]\n"
     ]
    },
    {
     "name": "stdout",
     "output_type": "stream",
     "text": [
      "Epoch 13: Train Loss=0.7488, Train Acc=0.7665 | Val Loss=0.5868, Val Acc=0.7972\n"
     ]
    },
    {
     "name": "stderr",
     "output_type": "stream",
     "text": [
      "Epoch 14/20: 100%|██████████| 27/27 [00:11<00:00,  2.39it/s, acc=0.757, loss=0.73] \n"
     ]
    },
    {
     "name": "stdout",
     "output_type": "stream",
     "text": [
      "Epoch 14: Train Loss=0.7303, Train Acc=0.7571 | Val Loss=0.5869, Val Acc=0.7995\n"
     ]
    },
    {
     "name": "stderr",
     "output_type": "stream",
     "text": [
      "Epoch 15/20: 100%|██████████| 27/27 [00:13<00:00,  1.98it/s, acc=0.775, loss=0.691]\n"
     ]
    },
    {
     "name": "stdout",
     "output_type": "stream",
     "text": [
      "Epoch 15: Train Loss=0.6907, Train Acc=0.7748 | Val Loss=0.5602, Val Acc=0.7995\n"
     ]
    },
    {
     "name": "stderr",
     "output_type": "stream",
     "text": [
      "Epoch 16/20: 100%|██████████| 27/27 [00:11<00:00,  2.38it/s, acc=0.784, loss=0.675]\n"
     ]
    },
    {
     "name": "stdout",
     "output_type": "stream",
     "text": [
      "Epoch 16: Train Loss=0.6748, Train Acc=0.7836 | Val Loss=0.5547, Val Acc=0.7901\n"
     ]
    },
    {
     "name": "stderr",
     "output_type": "stream",
     "text": [
      "Epoch 17/20: 100%|██████████| 27/27 [00:13<00:00,  2.05it/s, acc=0.78, loss=0.635] \n"
     ]
    },
    {
     "name": "stdout",
     "output_type": "stream",
     "text": [
      "Epoch 17: Train Loss=0.6354, Train Acc=0.7801 | Val Loss=0.5379, Val Acc=0.8019\n"
     ]
    },
    {
     "name": "stderr",
     "output_type": "stream",
     "text": [
      "Epoch 18/20: 100%|██████████| 27/27 [00:11<00:00,  2.26it/s, acc=0.767, loss=0.65] \n"
     ]
    },
    {
     "name": "stdout",
     "output_type": "stream",
     "text": [
      "Epoch 18: Train Loss=0.6504, Train Acc=0.7665 | Val Loss=0.5234, Val Acc=0.8090\n"
     ]
    },
    {
     "name": "stderr",
     "output_type": "stream",
     "text": [
      "Epoch 19/20: 100%|██████████| 27/27 [00:10<00:00,  2.54it/s, acc=0.762, loss=0.645]\n"
     ]
    },
    {
     "name": "stdout",
     "output_type": "stream",
     "text": [
      "Epoch 19: Train Loss=0.6446, Train Acc=0.7618 | Val Loss=0.5158, Val Acc=0.8255\n"
     ]
    },
    {
     "name": "stderr",
     "output_type": "stream",
     "text": [
      "Epoch 20/20: 100%|██████████| 27/27 [00:10<00:00,  2.51it/s, acc=0.761, loss=0.65] \n"
     ]
    },
    {
     "name": "stdout",
     "output_type": "stream",
     "text": [
      "Epoch 20: Train Loss=0.6497, Train Acc=0.7606 | Val Loss=0.5083, Val Acc=0.8231\n",
      "Training Completed! \n",
      "Training Time: 445.41 seconds\n",
      "Memory Used: 9.80 MB\n",
      "Training time: 445.41 seconds, Memory used: 9.80 MB\n",
      "Prediction time: 55.63 seconds, Memory used: 11.82 MB\n",
      "Report saved successfully: DL_Model_Reports\\MLP_pytorch_reports\\MLP_model_median_ss_77_report.xlsx\n",
      "Model evaluation completed!\n"
     ]
    }
   ],
   "source": [
    "# Training and prediction with min_dataset\n",
    "\n",
    "# Define Hyperparameters\n",
    "EPOCHS = 20\n",
    "# BATCH_SIZE = 64\n",
    "LEARNING_RATE = 0.001\n",
    "\n",
    "# Define Loss Function & Optimizer\n",
    "criterion = nn.CrossEntropyLoss()\n",
    "optimizer = optim.Adam(model.parameters(), lr=LEARNING_RATE)\n",
    "\n",
    "# Move model to GPU/CPU\n",
    "device = torch.device(\"cuda\" if torch.cuda.is_available() else \"cpu\")\n",
    "model.to(device)\n",
    "\n",
    "# Train Model\n",
    "train_time, train_mem_used, trained_model, history = train_model(\n",
    "    model, train_loader, val_loader, criterion, optimizer, EPOCHS, device)\n",
    "\n",
    "print(f\"Training time: {train_time:.2f} seconds, Memory used: {train_mem_used:.2f} MB\")\n",
    "\n",
    "# Make Predictions\n",
    "predict_time, predict_mem_used, y_pred_test = make_predictions(\n",
    "    trained_model, test_loader, device)\n",
    "\n",
    "print(f\"Prediction time: {predict_time:.2f} seconds, Memory used: {predict_mem_used:.2f} MB\")\n",
    "\n",
    "# Extract true labels from test_loader\n",
    "y_true_test = np.concatenate([y_batch.numpy() for _, y_batch in test_loader], axis=0)\n",
    "\n",
    "# Generate Classification Report\n",
    "file_name = \"MLP_model_median_ss_77\"\n",
    "report, confusion_mat = make_report(y_true_test, y_pred_test, trained_model, file_name, \n",
    "                                    train_time, train_mem_used, predict_time, predict_mem_used)\n",
    "\n",
    "print(\"Model evaluation completed!\")\n"
   ]
  },
  {
   "cell_type": "code",
   "execution_count": 37,
   "id": "d31f366c",
   "metadata": {},
   "outputs": [
    {
     "data": {
      "image/png": "[encoded data removed]",
      "text/plain": [
       "<Figure size 1000x400 with 2 Axes>"
      ]
     },
     "metadata": {},
     "output_type": "display_data"
    }
   ],
   "source": [
    "# import matplotlib.pyplot as plt\n",
    "\n",
    "# Extract history details\n",
    "train_loss = history['train_loss']\n",
    "val_loss = history['val_loss']\n",
    "train_acc = history['train_acc']\n",
    "val_acc = history['val_acc']\n",
    "\n",
    "# Plot Loss Curve\n",
    "plt.figure(figsize=(10, 4))\n",
    "plt.subplot(1, 2, 1)\n",
    "plt.plot(train_loss, label='Training Loss')\n",
    "plt.plot(val_loss, label='Validation Loss')\n",
    "plt.xlabel('Epochs')\n",
    "plt.ylabel('Loss')\n",
    "plt.title('Loss Curve')\n",
    "plt.legend()\n",
    "\n",
    "# Plot Accuracy Curve\n",
    "plt.subplot(1, 2, 2)\n",
    "plt.plot(train_acc, label='Training Accuracy')\n",
    "plt.plot(val_acc, label='Validation Accuracy')\n",
    "plt.xlabel('Epochs')\n",
    "plt.ylabel('Accuracy')\n",
    "plt.title('Accuracy Curve')\n",
    "plt.legend()\n",
    "\n",
    "plt.show()\n"
   ]
  },
  {
   "cell_type": "code",
   "execution_count": 38,
   "id": "f7bc31ec",
   "metadata": {},
   "outputs": [],
   "source": [
    "# Plot loss\n",
    "# plt.plot(history.history['loss'], label='Training Loss')\n",
    "# plt.plot(history.history['val_loss'], label='Validation Loss')\n",
    "# plt.xlabel('Epochs')\n",
    "# plt.ylabel('Loss')\n",
    "# plt.legend()\n",
    "# plt.title('Training vs Validation Loss')\n",
    "# plt.show()\n"
   ]
  },
  {
   "cell_type": "code",
   "execution_count": 39,
   "id": "fe1a5497",
   "metadata": {},
   "outputs": [
    {
     "data": {
      "image/png": "[encoded data removed]",
      "text/plain": [
       "<Figure size 1000x700 with 2 Axes>"
      ]
     },
     "metadata": {},
     "output_type": "display_data"
    }
   ],
   "source": [
    "# Generate the confusion matrix\n",
    "\n",
    "# Convert numerical predictions back to original labels\n",
    "y_test_labels = label_encoder.inverse_transform(y_test_v0)  # Convert y_test to original labels\n",
    "y_pred_labels = label_encoder.inverse_transform(y_pred_test)  # Convert predictions to original labels\n",
    "\n",
    "conf_matrix = confusion_matrix(y_test_labels, y_pred_labels)\n",
    "\n",
    "# Plot the confusion matrix\n",
    "plt.figure(figsize=(10, 7))\n",
    "sns.heatmap(conf_matrix, annot=True, fmt='d', cmap='Blues', xticklabels=label_encoder.classes_, yticklabels=label_encoder.classes_)\n",
    "\n",
    "plt.xlabel('Predicted Labels')\n",
    "plt.ylabel('True Labels')\n",
    "plt.title('Confusion Matrix')\n",
    "plt.xticks(rotation=90)  # Rotate labels if they are long\n",
    "plt.yticks(rotation=0)\n",
    "plt.show()\n"
   ]
  },
  {
   "cell_type": "code",
   "execution_count": null,
   "id": "dec70270",
   "metadata": {},
   "outputs": [],
   "source": []
  },
  {
   "cell_type": "markdown",
   "id": "cd97dc46",
   "metadata": {},
   "source": [
    "## Dataset Creation with MinMax-Random Undersampler-SMOTE "
   ]
  },
  {
   "cell_type": "code",
   "execution_count": 40,
   "id": "2e2070c6",
   "metadata": {},
   "outputs": [
    {
     "name": "stdout",
     "output_type": "stream",
     "text": [
      "The shape of X and y is  (1547787, 77) (1547787,)\n",
      "------------------------------------------------\n",
      "The class encoded labels are  [5 6 2 1 4 0 3 7]\n",
      "The threshold is  265\n",
      "The scaler is  MinMaxScaler()\n",
      "------------------------------------------------\n",
      "dataset creation process started for : 265 instances for each Class\n",
      "under sampling classes are:  [6, 5, 2, 0, 1, 3, 4]\n",
      "SMOT Over sampling classes are:  [7]\n",
      "[Pipeline] ............. (step 1 of 3) Processing scale, total=   2.3s\n",
      "[Pipeline] ............... (step 2 of 3) Processing rus, total=   0.7s\n",
      "[Pipeline] ............. (step 3 of 3) Processing smote, total=   0.0s\n",
      "dataset creation process completed for : 265 instances for each Class\n"
     ]
    }
   ],
   "source": [
    "# Create three datasets based on the thresholds\n",
    "X_min_mm_77, y_min_mm_77, pipeline_min_mm_77 = create_datasets(X_train_v0, y_train_v0, min_instances, MinMaxScaler())\n",
    "# X_mean_mm_77, y_mean_mm_77, pipeline_mean_mm_77 = create_datasets(X_train_v0, y_train_v0, mean_instances, MinMaxScaler()) \n",
    "# X_median_mm_77, y_median_mm_77, pipeline_median_mm_77 = create_datasets(X_train_v0, y_train_v0, median_instances, MinMaxScaler()) "
   ]
  },
  {
   "cell_type": "code",
   "execution_count": 41,
   "id": "5029f16e",
   "metadata": {},
   "outputs": [
    {
     "data": {
      "text/plain": [
       "((2120, 77), (2120,))"
      ]
     },
     "execution_count": 41,
     "metadata": {},
     "output_type": "execute_result"
    }
   ],
   "source": [
    "# X_min_SS_77.shape, y_min_SS_77.shape, X_mean_SS_77.shape, y_mean_SS_77.shape, X_median_SS_77.shape, y_median_SS_77.shape\n",
    "# X_median_mm_77.shape, y_median_mm_77.shape\n",
    "X_min_mm_77.shape, y_min_mm_77.shape"
   ]
  },
  {
   "cell_type": "code",
   "execution_count": 42,
   "id": "dca60745",
   "metadata": {},
   "outputs": [
    {
     "data": {
      "image/png": "[encoded data removed]",
      "text/plain": [
       "<Figure size 1000x500 with 1 Axes>"
      ]
     },
     "metadata": {},
     "output_type": "display_data"
    }
   ],
   "source": [
    "\n",
    "# Function to visualize class distribution\n",
    "def plot_class_distribution(y, title):\n",
    "    plt.figure(figsize=(10, 5))\n",
    "    sns.barplot(x=pd.Series(y).value_counts().index, y=pd.Series(y).value_counts().values)\n",
    "    plt.title(title)\n",
    "    plt.xlabel(\"Class Label\")\n",
    "    plt.ylabel(\"Number of Instances\")\n",
    "    plt.xticks(rotation=90)\n",
    "    plt.show()\n",
    "\n",
    "# Plot for each dataset\n",
    "# plot_class_distribution(y_min_SS_77, \"Class Distribution (Min Instances)\")\n",
    "plot_class_distribution(y_min_mm_77, \"Class Distribution (Mean Instances)\")\n",
    "# plot_class_distribution(y_median_SS_77, \"Class Distribution (Median Instances)\")\n"
   ]
  },
  {
   "cell_type": "markdown",
   "id": "a8a59bac",
   "metadata": {},
   "source": [
    "## X_test dataset scaling with pipeline scaler"
   ]
  },
  {
   "cell_type": "code",
   "execution_count": 43,
   "id": "f8697d1d",
   "metadata": {},
   "outputs": [
    {
     "data": {
      "text/plain": [
       "(663338, 77)"
      ]
     },
     "execution_count": 43,
     "metadata": {},
     "output_type": "execute_result"
    }
   ],
   "source": [
    "X_test_min_mm_77 = pipeline_min_mm_77.named_steps['scale'].transform(X_test_v0)\n",
    "# X_test_mean_mm_77 = pipeline_mean_mm_77.named_steps['scale'].transform(X_test_v0)\n",
    "# X_test_median_mm_77 = pipeline_median_mm_77.named_steps['scale'].transform(X_test_v0)\n",
    "\n",
    "# X_test_min_SS_77.shape, X_test_median_SS_77.shape, X_test_median_SS_77.shape\n",
    "X_test_min_mm_77.shape"
   ]
  },
  {
   "cell_type": "markdown",
   "id": "c0d124e0",
   "metadata": {},
   "source": [
    "## Create Validation Set from min-training set of 20%"
   ]
  },
  {
   "cell_type": "code",
   "execution_count": 44,
   "id": "5c0b3768",
   "metadata": {},
   "outputs": [
    {
     "name": "stdout",
     "output_type": "stream",
     "text": [
      "Training Data Shape: (1696, 77), (1696,)\n",
      "Validation Data Shape: (424, 77), (424,)\n",
      "Test Data Shape: (663338, 77), (663338,)\n"
     ]
    }
   ],
   "source": [
    "\n",
    "# Create a validation set (20 of training data)\n",
    "X_train_final, X_val, y_train_final, y_val = train_test_split(\n",
    "    X_min_mm_77, y_min_mm_77, test_size=0.2, random_state=42, stratify=y_min_mm_77)\n",
    "\n",
    "# Check dataset shapes\n",
    "print(f\"Training Data Shape: {X_train_final.shape}, {y_train_final.shape}\")\n",
    "print(f\"Validation Data Shape: {X_val.shape}, {y_val.shape}\")\n",
    "print(f\"Test Data Shape: {X_test_min_mm_77.shape}, {y_test_v0.shape}\")\n"
   ]
  },
  {
   "cell_type": "markdown",
   "id": "6bd0fc0a",
   "metadata": {},
   "source": [
    "## Training and making prediction on resampled dataset"
   ]
  },
  {
   "cell_type": "code",
   "execution_count": 48,
   "id": "ad546098",
   "metadata": {},
   "outputs": [
    {
     "name": "stderr",
     "output_type": "stream",
     "text": [
      "c:\\Users\\Mansoor\\anaconda3\\envs\\tsf-2\\lib\\site-packages\\torch\\amp\\grad_scaler.py:131: UserWarning: torch.cuda.amp.GradScaler is enabled, but CUDA is not available.  Disabling.\n",
      "  warnings.warn(\n"
     ]
    },
    {
     "name": "stdout",
     "output_type": "stream",
     "text": [
      " Training on device: cpu\n"
     ]
    },
    {
     "name": "stderr",
     "output_type": "stream",
     "text": [
      "Epoch 1/20:   0%|          | 0/27 [00:00<?, ?it/s]"
     ]
    },
    {
     "name": "stderr",
     "output_type": "stream",
     "text": [
      "Epoch 1/20: 100%|██████████| 27/27 [00:11<00:00,  2.29it/s, acc=0.811, loss=0.494]\n"
     ]
    },
    {
     "name": "stdout",
     "output_type": "stream",
     "text": [
      "Epoch 1: Train Loss=0.4938, Train Acc=0.8107 | Val Loss=0.4522, Val Acc=0.8349\n"
     ]
    },
    {
     "name": "stderr",
     "output_type": "stream",
     "text": [
      "Epoch 2/20: 100%|██████████| 27/27 [00:11<00:00,  2.25it/s, acc=0.815, loss=0.486]\n"
     ]
    },
    {
     "name": "stdout",
     "output_type": "stream",
     "text": [
      "Epoch 2: Train Loss=0.4858, Train Acc=0.8154 | Val Loss=0.4455, Val Acc=0.8278\n"
     ]
    },
    {
     "name": "stderr",
     "output_type": "stream",
     "text": [
      "Epoch 3/20: 100%|██████████| 27/27 [00:10<00:00,  2.52it/s, acc=0.792, loss=0.525]\n"
     ]
    },
    {
     "name": "stdout",
     "output_type": "stream",
     "text": [
      "Epoch 3: Train Loss=0.5246, Train Acc=0.7919 | Val Loss=0.4461, Val Acc=0.8514\n"
     ]
    },
    {
     "name": "stderr",
     "output_type": "stream",
     "text": [
      "Epoch 4/20: 100%|██████████| 27/27 [00:11<00:00,  2.38it/s, acc=0.826, loss=0.447]\n"
     ]
    },
    {
     "name": "stdout",
     "output_type": "stream",
     "text": [
      "Epoch 4: Train Loss=0.4468, Train Acc=0.8261 | Val Loss=0.4448, Val Acc=0.8373\n"
     ]
    },
    {
     "name": "stderr",
     "output_type": "stream",
     "text": [
      "Epoch 5/20: 100%|██████████| 27/27 [00:10<00:00,  2.58it/s, acc=0.82, loss=0.482] \n"
     ]
    },
    {
     "name": "stdout",
     "output_type": "stream",
     "text": [
      "Epoch 5: Train Loss=0.4825, Train Acc=0.8196 | Val Loss=0.4309, Val Acc=0.8514\n"
     ]
    },
    {
     "name": "stderr",
     "output_type": "stream",
     "text": [
      "Epoch 6/20: 100%|██████████| 27/27 [00:11<00:00,  2.42it/s, acc=0.811, loss=0.494]\n"
     ]
    },
    {
     "name": "stdout",
     "output_type": "stream",
     "text": [
      "Epoch 6: Train Loss=0.4936, Train Acc=0.8113 | Val Loss=0.4431, Val Acc=0.8373\n"
     ]
    },
    {
     "name": "stderr",
     "output_type": "stream",
     "text": [
      "Epoch 7/20: 100%|██████████| 27/27 [00:10<00:00,  2.52it/s, acc=0.814, loss=0.466]\n"
     ]
    },
    {
     "name": "stdout",
     "output_type": "stream",
     "text": [
      "Epoch 7: Train Loss=0.4661, Train Acc=0.8137 | Val Loss=0.4397, Val Acc=0.8373\n"
     ]
    },
    {
     "name": "stderr",
     "output_type": "stream",
     "text": [
      "Epoch 8/20: 100%|██████████| 27/27 [00:10<00:00,  2.56it/s, acc=0.817, loss=0.485]\n"
     ]
    },
    {
     "name": "stdout",
     "output_type": "stream",
     "text": [
      "Epoch 8: Train Loss=0.4853, Train Acc=0.8166 | Val Loss=0.4275, Val Acc=0.8491\n"
     ]
    },
    {
     "name": "stderr",
     "output_type": "stream",
     "text": [
      "Epoch 9/20: 100%|██████████| 27/27 [00:10<00:00,  2.54it/s, acc=0.808, loss=0.486]\n"
     ]
    },
    {
     "name": "stdout",
     "output_type": "stream",
     "text": [
      "Epoch 9: Train Loss=0.4855, Train Acc=0.8084 | Val Loss=0.4369, Val Acc=0.8255\n"
     ]
    },
    {
     "name": "stderr",
     "output_type": "stream",
     "text": [
      "Epoch 10/20: 100%|██████████| 27/27 [00:10<00:00,  2.53it/s, acc=0.817, loss=0.477]\n"
     ]
    },
    {
     "name": "stdout",
     "output_type": "stream",
     "text": [
      "Epoch 10: Train Loss=0.4771, Train Acc=0.8166 | Val Loss=0.4343, Val Acc=0.8396\n"
     ]
    },
    {
     "name": "stderr",
     "output_type": "stream",
     "text": [
      "Epoch 11/20: 100%|██████████| 27/27 [00:10<00:00,  2.55it/s, acc=0.818, loss=0.446]\n"
     ]
    },
    {
     "name": "stdout",
     "output_type": "stream",
     "text": [
      "Epoch 11: Train Loss=0.4463, Train Acc=0.8184 | Val Loss=0.4333, Val Acc=0.8491\n"
     ]
    },
    {
     "name": "stderr",
     "output_type": "stream",
     "text": [
      "Epoch 12/20: 100%|██████████| 27/27 [00:10<00:00,  2.54it/s, acc=0.813, loss=0.464]\n"
     ]
    },
    {
     "name": "stdout",
     "output_type": "stream",
     "text": [
      "Epoch 12: Train Loss=0.4637, Train Acc=0.8131 | Val Loss=0.4329, Val Acc=0.8420\n"
     ]
    },
    {
     "name": "stderr",
     "output_type": "stream",
     "text": [
      "Epoch 13/20: 100%|██████████| 27/27 [00:10<00:00,  2.50it/s, acc=0.813, loss=0.488]\n"
     ]
    },
    {
     "name": "stdout",
     "output_type": "stream",
     "text": [
      "Epoch 13: Train Loss=0.4879, Train Acc=0.8131 | Val Loss=0.4300, Val Acc=0.8491\n"
     ]
    },
    {
     "name": "stderr",
     "output_type": "stream",
     "text": [
      "Epoch 14/20: 100%|██████████| 27/27 [00:10<00:00,  2.46it/s, acc=0.833, loss=0.429]\n"
     ]
    },
    {
     "name": "stdout",
     "output_type": "stream",
     "text": [
      "Epoch 14: Train Loss=0.4289, Train Acc=0.8331 | Val Loss=0.4224, Val Acc=0.8420\n"
     ]
    },
    {
     "name": "stderr",
     "output_type": "stream",
     "text": [
      "Epoch 15/20: 100%|██████████| 27/27 [00:10<00:00,  2.56it/s, acc=0.821, loss=0.467]\n"
     ]
    },
    {
     "name": "stdout",
     "output_type": "stream",
     "text": [
      "Epoch 15: Train Loss=0.4673, Train Acc=0.8208 | Val Loss=0.4302, Val Acc=0.8349\n"
     ]
    },
    {
     "name": "stderr",
     "output_type": "stream",
     "text": [
      "Epoch 16/20: 100%|██████████| 27/27 [00:10<00:00,  2.57it/s, acc=0.813, loss=0.466]\n"
     ]
    },
    {
     "name": "stdout",
     "output_type": "stream",
     "text": [
      "Epoch 16: Train Loss=0.4657, Train Acc=0.8131 | Val Loss=0.4243, Val Acc=0.8491\n"
     ]
    },
    {
     "name": "stderr",
     "output_type": "stream",
     "text": [
      "Epoch 17/20: 100%|██████████| 27/27 [00:10<00:00,  2.49it/s, acc=0.823, loss=0.452]\n"
     ]
    },
    {
     "name": "stdout",
     "output_type": "stream",
     "text": [
      "Epoch 17: Train Loss=0.4518, Train Acc=0.8225 | Val Loss=0.4250, Val Acc=0.8514\n"
     ]
    },
    {
     "name": "stderr",
     "output_type": "stream",
     "text": [
      "Epoch 18/20: 100%|██████████| 27/27 [00:11<00:00,  2.41it/s, acc=0.816, loss=0.46] \n"
     ]
    },
    {
     "name": "stdout",
     "output_type": "stream",
     "text": [
      "Epoch 18: Train Loss=0.4600, Train Acc=0.8160 | Val Loss=0.4241, Val Acc=0.8585\n"
     ]
    },
    {
     "name": "stderr",
     "output_type": "stream",
     "text": [
      "Epoch 19/20: 100%|██████████| 27/27 [00:10<00:00,  2.58it/s, acc=0.822, loss=0.464]\n"
     ]
    },
    {
     "name": "stdout",
     "output_type": "stream",
     "text": [
      "Epoch 19: Train Loss=0.4643, Train Acc=0.8219 | Val Loss=0.4227, Val Acc=0.8514\n"
     ]
    },
    {
     "name": "stderr",
     "output_type": "stream",
     "text": [
      "Epoch 20/20: 100%|██████████| 27/27 [00:10<00:00,  2.52it/s, acc=0.821, loss=0.456]\n"
     ]
    },
    {
     "name": "stdout",
     "output_type": "stream",
     "text": [
      "Epoch 20: Train Loss=0.4562, Train Acc=0.8213 | Val Loss=0.4218, Val Acc=0.8349\n",
      "Training Completed! \n",
      "Training Time: 417.52 seconds\n",
      "Memory Used: -55.71 MB\n",
      "Training time: 417.52 seconds, Memory used: -55.71 MB\n",
      "Prediction time: 54.45 seconds, Memory used: 9.75 MB\n",
      "Report saved successfully: DL_Model_Reports\\MLP_pytorch_reports\\MLP_model_median_mm_77_report.xlsx\n",
      "Model evaluation completed!\n"
     ]
    }
   ],
   "source": [
    "# Training and prediction with min_dataset\n",
    "\n",
    "# Define Hyperparameters\n",
    "EPOCHS = 20\n",
    "# BATCH_SIZE = 64\n",
    "LEARNING_RATE = 0.001\n",
    "\n",
    "# Define Loss Function & Optimizer\n",
    "criterion = torch.nn.CrossEntropyLoss()\n",
    "optimizer = torch.optim.Adam(model.parameters(), lr=LEARNING_RATE)\n",
    "\n",
    "# Move model to GPU/CPU\n",
    "device = torch.device(\"cuda\" if torch.cuda.is_available() else \"cpu\")\n",
    "model.to(device)\n",
    "\n",
    "# Train Model\n",
    "train_time, train_mem_used, trained_model, history = train_model(\n",
    "    model, train_loader, val_loader, criterion, optimizer, EPOCHS, device)\n",
    "\n",
    "print(f\"Training time: {train_time:.2f} seconds, Memory used: {train_mem_used:.2f} MB\")\n",
    "\n",
    "# Make Predictions\n",
    "predict_time, predict_mem_used, y_pred_test = make_predictions(\n",
    "    trained_model, test_loader, device)\n",
    "\n",
    "print(f\"Prediction time: {predict_time:.2f} seconds, Memory used: {predict_mem_used:.2f} MB\")\n",
    "\n",
    "# Extract true labels from test_loader\n",
    "y_true_test = np.concatenate([y_batch.numpy() for _, y_batch in test_loader], axis=0)\n",
    "\n",
    "# Generate Classification Report\n",
    "file_name = \"MLP_model_median_mm_77\"\n",
    "report, confusion_mat = make_report(y_true_test, y_pred_test, trained_model, file_name, \n",
    "                                    train_time, train_mem_used, predict_time, predict_mem_used)\n",
    "\n",
    "print(\"Model evaluation completed!\")\n"
   ]
  },
  {
   "cell_type": "code",
   "execution_count": 46,
   "id": "3eaeb84e",
   "metadata": {},
   "outputs": [
    {
     "data": {
      "image/png": "[encoded data removed]",
      "text/plain": [
       "<Figure size 1000x400 with 2 Axes>"
      ]
     },
     "metadata": {},
     "output_type": "display_data"
    }
   ],
   "source": [
    "\n",
    "# Extract history details\n",
    "train_loss = history['train_loss']\n",
    "val_loss = history['val_loss']\n",
    "train_acc = history['train_acc']\n",
    "val_acc = history['val_acc']\n",
    "\n",
    "# Plot Loss Curve\n",
    "plt.figure(figsize=(10, 4))\n",
    "plt.subplot(1, 2, 1)\n",
    "plt.plot(train_loss, label='Training Loss')\n",
    "plt.plot(val_loss, label='Validation Loss')\n",
    "plt.xlabel('Epochs')\n",
    "plt.ylabel('Loss')\n",
    "plt.title('Loss Curve')\n",
    "plt.legend()\n",
    "\n",
    "# Plot Accuracy Curve\n",
    "plt.subplot(1, 2, 2)\n",
    "plt.plot(train_acc, label='Training Accuracy')\n",
    "plt.plot(val_acc, label='Validation Accuracy')\n",
    "plt.xlabel('Epochs')\n",
    "plt.ylabel('Accuracy')\n",
    "plt.title('Accuracy Curve')\n",
    "plt.legend()\n",
    "\n",
    "plt.show()\n",
    "\n"
   ]
  },
  {
   "cell_type": "code",
   "execution_count": 47,
   "id": "d649d966",
   "metadata": {},
   "outputs": [
    {
     "data": {
      "image/png": "[encoded data removed]",
      "text/plain": [
       "<Figure size 1000x700 with 2 Axes>"
      ]
     },
     "metadata": {},
     "output_type": "display_data"
    }
   ],
   "source": [
    "# Generate the confusion matrix\n",
    "\n",
    "# Convert numerical predictions back to original labels\n",
    "y_test_labels = label_encoder.inverse_transform(y_test_v0)  # Convert y_test to original labels\n",
    "y_pred_labels = label_encoder.inverse_transform(y_pred_test)  # Convert predictions to original labels\n",
    "\n",
    "conf_matrix = confusion_matrix(y_test_labels, y_pred_labels)\n",
    "\n",
    "# Plot the confusion matrix\n",
    "plt.figure(figsize=(10, 7))\n",
    "sns.heatmap(conf_matrix, annot=True, fmt='d', cmap='Blues', xticklabels=label_encoder.classes_, yticklabels=label_encoder.classes_)\n",
    "\n",
    "plt.xlabel('Predicted Labels')\n",
    "plt.ylabel('True Labels')\n",
    "plt.title('Confusion Matrix')\n",
    "plt.xticks(rotation=90)  # Rotate labels if they are long\n",
    "plt.yticks(rotation=0)\n",
    "plt.show()\n"
   ]
  },
  {
   "cell_type": "code",
   "execution_count": null,
   "id": "cfa35e2a",
   "metadata": {},
   "outputs": [],
   "source": []
  }
 ],
 "metadata": {
  "kernelspec": {
   "display_name": "Python [conda env:deeplearning]",
   "language": "python",
   "name": "conda-env-deeplearning-py"
  },
  "language_info": {
   "codemirror_mode": {
    "name": "ipython",
    "version": 3
   },
   "file_extension": ".py",
   "mimetype": "text/x-python",
   "name": "python",
   "nbconvert_exporter": "python",
   "pygments_lexer": "ipython3",
   "version": "3.12.9"
  }
 },
 "nbformat": 4,
 "nbformat_minor": 5
}
