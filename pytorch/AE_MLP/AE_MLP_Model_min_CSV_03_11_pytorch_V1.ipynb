{
 "cells": [
  {
   "cell_type": "markdown",
   "id": "b1a1c6cf",
   "metadata": {},
   "source": [
    "## Include all necessary Libraries"
   ]
  },
  {
   "cell_type": "code",
   "execution_count": 1,
   "id": "0f5a3c4e",
   "metadata": {},
   "outputs": [],
   "source": [
    "# Base Libraries\n",
    "import os                                                                 # OS Library\n",
    "import pandas as pd                                                       # Pandas Library\n",
    "import numpy as np                                                        # Numpy Library\n",
    "from fastai.tabular.all import df_shrink                                  # Library to shrink \n",
    "from fastcore.parallel import *                                           # Library for parallel tasks\n",
    "import time                                                               # Time function library\n",
    "import matplotlib.pyplot as plt                                           # plot library\n",
    "import seaborn as sns                                                     # plot library\n",
    "\n",
    "# import memory_profiler, memory_                                         # memory usage library\n",
    "# from memory_profiler import memory_usage\n",
    "from collections import Counter                                           # Counter library\n",
    "from sklearn.pipeline import Pipeline, make_pipeline\n",
    "from imblearn.pipeline import Pipeline\n",
    "import psutil\n",
    "\n",
    "# Libraries for feature engineering\n",
    "from sklearn.model_selection import train_test_split                      # Dataset split library\n",
    "# from sklearn.model_selection import GridSearchCV                          # Gridsearch library for hyper parameter tuning\n",
    "from sklearn.preprocessing import LabelEncoder                            # LabelEnoder\n",
    "# from sklearn.preprocessing import OneHotEncoder                           # Onehotencoding \n",
    "from sklearn.feature_selection import VarianceThreshold                   # For removing zero variance features\n",
    "from sklearn.preprocessing import MinMaxScaler, StandardScaler            # Apply Standarization and Normalization \n",
    "from imblearn.over_sampling import SMOTE, SMOTEN, SMOTENC                 # Over-sampling Library\n",
    "from imblearn.under_sampling import RandomUnderSampler, TomekLinks        # Under-Sampling\n",
    "from tqdm import tqdm\n",
    "\n",
    "# Performance measure Libraries for Trained model \n",
    "from sklearn.metrics import confusion_matrix, ConfusionMatrixDisplay, classification_report\n",
    "# from sklearn.metrics import accuracy_score, precision_score, recall_score, f1_score \n",
    "\n",
    "# Deep learning Model Libraries\n",
    "# import tensorflow as tf\n",
    "import torch.nn as nn\n",
    "import torch.optim as optim\n",
    "import torch\n",
    "from torch.utils.data import DataLoader, TensorDataset\n",
    "# from tensorflow import keras\n",
    "# from tensorflow.keras.models import Sequential\n",
    "# from tensorflow.keras.layers import Dense, Dropout  \n",
    "import torch.multiprocessing\n",
    "torch.multiprocessing.set_sharing_strategy('file_system')\n"
   ]
  },
  {
   "cell_type": "code",
   "execution_count": 2,
   "id": "22dd57f7",
   "metadata": {},
   "outputs": [
    {
     "name": "stdout",
     "output_type": "stream",
     "text": [
      "Python 3.10.16\n"
     ]
    }
   ],
   "source": [
    "!python --version\n"
   ]
  },
  {
   "cell_type": "markdown",
   "id": "9f526aa3",
   "metadata": {},
   "source": [
    "## Create a csv read function "
   ]
  },
  {
   "cell_type": "code",
   "execution_count": 3,
   "id": "cb74bf35",
   "metadata": {},
   "outputs": [],
   "source": [
    "def csvRead (sfilePath):\n",
    "    print(\"CSV Read function started........\")\n",
    "#     ind_dfs = [pd.read_csv(dsp) for dsp in filePathArray]\n",
    "    ind_dfs = pd.read_csv(sfilePath)\n",
    "    return ind_dfs"
   ]
  },
  {
   "cell_type": "markdown",
   "id": "07a20f30",
   "metadata": {},
   "source": [
    "## Create a datatype downsizing function"
   ]
  },
  {
   "cell_type": "code",
   "execution_count": 4,
   "id": "2025e753",
   "metadata": {},
   "outputs": [],
   "source": [
    "def dataTypeDown(ind_dfs_read):\n",
    "    print(\"Datatype Downsizing function started........\")\n",
    "#     ind_dfs_down = parallel(df_shrink, ind_dfs_read, progress=True)\n",
    "    ind_dfs_down = df_shrink(ind_dfs_read)\n",
    "    return ind_dfs_down"
   ]
  },
  {
   "cell_type": "markdown",
   "id": "57fe7917",
   "metadata": {},
   "source": [
    "## List the files in our target directory we are interested to read"
   ]
  },
  {
   "cell_type": "code",
   "execution_count": 5,
   "id": "d1cb3365",
   "metadata": {},
   "outputs": [
    {
     "name": "stdout",
     "output_type": "stream",
     "text": [
      "/home/deeplearning/Datasets/CICDDoS2019/testing_03_11/LDAP-MSSQL.csv\n",
      "-----------------------------------------------------------------------\n",
      "CSV Read function started........\n",
      "starting downsizing.....\n",
      "Datatype Downsizing function started........\n",
      "No. of Instances in the file are: (256201, 78)\n",
      "/home/deeplearning/Datasets/CICDDoS2019/testing_03_11/Syn.csv\n",
      "-----------------------------------------------------------------------\n",
      "CSV Read function started........\n",
      "starting downsizing.....\n",
      "Datatype Downsizing function started........\n",
      "No. of Instances in the file are: (479899, 78)\n",
      "/home/deeplearning/Datasets/CICDDoS2019/testing_03_11/NetBIOS.csv\n",
      "-----------------------------------------------------------------------\n",
      "CSV Read function started........\n",
      "starting downsizing.....\n",
      "Datatype Downsizing function started........\n",
      "No. of Instances in the file are: (11028, 78)\n",
      "/home/deeplearning/Datasets/CICDDoS2019/testing_03_11/UDP-UDPLag-Syn.csv\n",
      "-----------------------------------------------------------------------\n",
      "CSV Read function started........\n",
      "starting downsizing.....\n",
      "Datatype Downsizing function started........\n",
      "No. of Instances in the file are: (139566, 78)\n",
      "/home/deeplearning/Datasets/CICDDoS2019/testing_03_11/NetBIOS-LDAP.csv\n",
      "-----------------------------------------------------------------------\n",
      "CSV Read function started........\n",
      "starting downsizing.....\n",
      "Datatype Downsizing function started........\n",
      "No. of Instances in the file are: (22445, 78)\n",
      "/home/deeplearning/Datasets/CICDDoS2019/testing_03_11/Portmap.csv\n",
      "-----------------------------------------------------------------------\n",
      "CSV Read function started........\n",
      "starting downsizing.....\n",
      "Datatype Downsizing function started........\n",
      "No. of Instances in the file are: (5998, 78)\n",
      "/home/deeplearning/Datasets/CICDDoS2019/testing_03_11/MSSQL-UDP.csv\n",
      "-----------------------------------------------------------------------\n",
      "CSV Read function started........\n",
      "starting downsizing.....\n",
      "Datatype Downsizing function started........\n",
      "No. of Instances in the file are: (1295988, 78)\n",
      "**************************\n",
      "Total no of files meet our criteria are:  7\n",
      "Dataset Read Task Completed!!!!\n"
     ]
    }
   ],
   "source": [
    "filePath = []\n",
    "individual_dfs = []\n",
    "# for root, subdir, files in os.walk('D:/Datasets/CICDDoS2019/testing_03_11/'):\n",
    "for root, subdir, files in os.walk('/home/deeplearning/Datasets/CICDDoS2019/testing_03_11'):\n",
    "# print(root)\n",
    "    for file in files:\n",
    "        if file.endswith('.csv'):\n",
    "            fpath = os.path.join(root,file)\n",
    "            filePath.append(fpath)\n",
    "            print (fpath)\n",
    "            print(\"-----------------------------------------------------------------------\")\n",
    "#             print (f'Total no of files meet our criteria are: ', len(filePath))\n",
    "            if (len(filePath)):\n",
    "                ind_dfs_read = csvRead(fpath)\n",
    "#                 time.sleep(15)\n",
    "                print(\"starting downsizing.....\")\n",
    "#                 individual_dfs = [dataTypeDown(ind_dfs_read)]\n",
    "                individual_dfs.append(dataTypeDown(ind_dfs_read))\n",
    "                print(f'No. of Instances in the file are:',ind_dfs_read.shape)\n",
    "#                 time.sleep(5)\n",
    "print('**************************')\n",
    "print (f'Total no of files meet our criteria are: ', len(filePath))\n",
    "print(\"Dataset Read Task Completed!!!!\")"
   ]
  },
  {
   "cell_type": "markdown",
   "id": "6d0ba3b7",
   "metadata": {},
   "source": [
    "## Replace space with \"_\" in dataset column names"
   ]
  },
  {
   "cell_type": "code",
   "execution_count": 6,
   "id": "abb6b0a1",
   "metadata": {},
   "outputs": [
    {
     "name": "stdout",
     "output_type": "stream",
     "text": [
      "Task Completed\n"
     ]
    }
   ],
   "source": [
    "for i in individual_dfs:\n",
    "    # Remove leading and trailing spaces from column names\n",
    "#     cleaned_columns = [col.strip() for col in cols]\n",
    "#     print(cleaned_columns)\n",
    "    cols = i.columns.str.strip()\n",
    "#     cols = [col.strip() for col in cols]\n",
    "    cols = cols.map(lambda x: x.replace(' ', '_') )\n",
    "    i.columns = cols\n",
    "#     print(i.columns)\n",
    "print('Task Completed')"
   ]
  },
  {
   "cell_type": "markdown",
   "id": "cb6be513",
   "metadata": {},
   "source": [
    "## Dataset summary"
   ]
  },
  {
   "cell_type": "code",
   "execution_count": 7,
   "id": "279addf5",
   "metadata": {},
   "outputs": [
    {
     "name": "stdout",
     "output_type": "stream",
     "text": [
      "<class 'pandas.core.frame.DataFrame'>\n",
      "RangeIndex: 256201 entries, 0 to 256200\n",
      "Data columns (total 78 columns):\n",
      " #   Column                       Non-Null Count   Dtype   \n",
      "---  ------                       --------------   -----   \n",
      " 0   Protocol                     256201 non-null  int8    \n",
      " 1   Flow_Duration                256201 non-null  int32   \n",
      " 2   Total_Fwd_Packets            256201 non-null  int16   \n",
      " 3   Total_Backward_Packets       256201 non-null  int16   \n",
      " 4   Total_Length_of_Fwd_Packets  256201 non-null  float32 \n",
      " 5   Total_Length_of_Bwd_Packets  256201 non-null  float32 \n",
      " 6   Fwd_Packet_Length_Max        256201 non-null  float32 \n",
      " 7   Fwd_Packet_Length_Min        256201 non-null  float32 \n",
      " 8   Fwd_Packet_Length_Mean       256201 non-null  float32 \n",
      " 9   Fwd_Packet_Length_Std        256201 non-null  float32 \n",
      " 10  Bwd_Packet_Length_Max        256201 non-null  float32 \n",
      " 11  Bwd_Packet_Length_Min        256201 non-null  float32 \n",
      " 12  Bwd_Packet_Length_Mean       256201 non-null  float32 \n",
      " 13  Bwd_Packet_Length_Std        256201 non-null  float32 \n",
      " 14  Flow_Bytes/s                 256201 non-null  float32 \n",
      " 15  Flow_Packets/s               256201 non-null  float32 \n",
      " 16  Flow_IAT_Mean                256201 non-null  float32 \n",
      " 17  Flow_IAT_Std                 256201 non-null  float32 \n",
      " 18  Flow_IAT_Max                 256201 non-null  float32 \n",
      " 19  Flow_IAT_Min                 256201 non-null  float32 \n",
      " 20  Fwd_IAT_Total                256201 non-null  float32 \n",
      " 21  Fwd_IAT_Mean                 256201 non-null  float32 \n",
      " 22  Fwd_IAT_Std                  256201 non-null  float32 \n",
      " 23  Fwd_IAT_Max                  256201 non-null  float32 \n",
      " 24  Fwd_IAT_Min                  256201 non-null  float32 \n",
      " 25  Bwd_IAT_Total                256201 non-null  float32 \n",
      " 26  Bwd_IAT_Mean                 256201 non-null  float32 \n",
      " 27  Bwd_IAT_Std                  256201 non-null  float32 \n",
      " 28  Bwd_IAT_Max                  256201 non-null  float32 \n",
      " 29  Bwd_IAT_Min                  256201 non-null  float32 \n",
      " 30  Fwd_PSH_Flags                256201 non-null  int8    \n",
      " 31  Bwd_PSH_Flags                256201 non-null  int8    \n",
      " 32  Fwd_URG_Flags                256201 non-null  int8    \n",
      " 33  Bwd_URG_Flags                256201 non-null  int8    \n",
      " 34  Fwd_Header_Length            256201 non-null  int64   \n",
      " 35  Bwd_Header_Length            256201 non-null  int64   \n",
      " 36  Fwd_Packets/s                256201 non-null  float32 \n",
      " 37  Bwd_Packets/s                256201 non-null  float32 \n",
      " 38  Min_Packet_Length            256201 non-null  float32 \n",
      " 39  Max_Packet_Length            256201 non-null  float32 \n",
      " 40  Packet_Length_Mean           256201 non-null  float32 \n",
      " 41  Packet_Length_Std            256201 non-null  float32 \n",
      " 42  Packet_Length_Variance       256201 non-null  float32 \n",
      " 43  FIN_Flag_Count               256201 non-null  int8    \n",
      " 44  SYN_Flag_Count               256201 non-null  int8    \n",
      " 45  RST_Flag_Count               256201 non-null  int8    \n",
      " 46  PSH_Flag_Count               256201 non-null  int8    \n",
      " 47  ACK_Flag_Count               256201 non-null  int8    \n",
      " 48  URG_Flag_Count               256201 non-null  int8    \n",
      " 49  CWE_Flag_Count               256201 non-null  int8    \n",
      " 50  ECE_Flag_Count               256201 non-null  int8    \n",
      " 51  Down/Up_Ratio                256201 non-null  float32 \n",
      " 52  Average_Packet_Size          256201 non-null  float32 \n",
      " 53  Avg_Fwd_Segment_Size         256201 non-null  float32 \n",
      " 54  Avg_Bwd_Segment_Size         256201 non-null  float32 \n",
      " 55  Fwd_Avg_Bytes/Bulk           256201 non-null  int8    \n",
      " 56  Fwd_Avg_Packets/Bulk         256201 non-null  int8    \n",
      " 57  Fwd_Avg_Bulk_Rate            256201 non-null  int8    \n",
      " 58  Bwd_Avg_Bytes/Bulk           256201 non-null  int8    \n",
      " 59  Bwd_Avg_Packets/Bulk         256201 non-null  int8    \n",
      " 60  Bwd_Avg_Bulk_Rate            256201 non-null  int8    \n",
      " 61  Subflow_Fwd_Packets          256201 non-null  int16   \n",
      " 62  Subflow_Fwd_Bytes            256201 non-null  int32   \n",
      " 63  Subflow_Bwd_Packets          256201 non-null  int16   \n",
      " 64  Subflow_Bwd_Bytes            256201 non-null  int32   \n",
      " 65  Init_Win_bytes_forward       256201 non-null  int32   \n",
      " 66  Init_Win_bytes_backward      256201 non-null  int32   \n",
      " 67  act_data_pkt_fwd             256201 non-null  int16   \n",
      " 68  min_seg_size_forward         256201 non-null  int32   \n",
      " 69  Active_Mean                  256201 non-null  float32 \n",
      " 70  Active_Std                   256201 non-null  float32 \n",
      " 71  Active_Max                   256201 non-null  float32 \n",
      " 72  Active_Min                   256201 non-null  float32 \n",
      " 73  Idle_Mean                    256201 non-null  float32 \n",
      " 74  Idle_Std                     256201 non-null  float32 \n",
      " 75  Idle_Max                     256201 non-null  float32 \n",
      " 76  Idle_Min                     256201 non-null  float32 \n",
      " 77  Label                        256201 non-null  category\n",
      "dtypes: category(1), float32(45), int16(5), int32(6), int64(2), int8(19)\n",
      "memory usage: 61.1 MB\n"
     ]
    }
   ],
   "source": [
    "# individual_dfs[0].info(verbose=True)\n",
    "individual_dfs[0].info()"
   ]
  },
  {
   "cell_type": "markdown",
   "id": "e8036c64",
   "metadata": {},
   "source": [
    "## Dataset split into X (input) and y (Target)"
   ]
  },
  {
   "cell_type": "code",
   "execution_count": 8,
   "id": "7f96b2c0",
   "metadata": {},
   "outputs": [
    {
     "name": "stdout",
     "output_type": "stream",
     "text": [
      "(256201,)\n",
      "(256201, 77)\n",
      "------------------------------\n",
      "(479899,)\n",
      "(479899, 77)\n",
      "------------------------------\n",
      "(11028,)\n",
      "(11028, 77)\n",
      "------------------------------\n",
      "(139566,)\n",
      "(139566, 77)\n",
      "------------------------------\n",
      "(22445,)\n",
      "(22445, 77)\n",
      "------------------------------\n",
      "(5998,)\n",
      "(5998, 77)\n",
      "------------------------------\n",
      "(1295988,)\n",
      "(1295988, 77)\n",
      "------------------------------\n"
     ]
    }
   ],
   "source": [
    "individual_X = []\n",
    "individual_y = []\n",
    "count = 0\n",
    "for i in individual_dfs:\n",
    "#     Target (Output) values\n",
    "    temp_y = i.copy()\n",
    "    individual_y.append(i['Label'])\n",
    "    print(individual_y[count].shape)\n",
    "#     Input values\n",
    "    temp_X = i.copy()\n",
    "    temp_X = temp_X.drop('Label', axis=1)\n",
    "    individual_X.append(temp_X)\n",
    "    print(individual_X[count].shape)\n",
    "    count+=1\n",
    "    print('------------------------------')"
   ]
  },
  {
   "cell_type": "markdown",
   "id": "69ddeda0",
   "metadata": {},
   "source": [
    "## Verify the split task"
   ]
  },
  {
   "cell_type": "code",
   "execution_count": 9,
   "id": "9acf30df",
   "metadata": {},
   "outputs": [
    {
     "data": {
      "text/plain": [
       "Index(['Protocol', 'Flow_Duration', 'Total_Fwd_Packets',\n",
       "       'Total_Backward_Packets', 'Total_Length_of_Fwd_Packets',\n",
       "       'Total_Length_of_Bwd_Packets', 'Fwd_Packet_Length_Max',\n",
       "       'Fwd_Packet_Length_Min', 'Fwd_Packet_Length_Mean',\n",
       "       'Fwd_Packet_Length_Std', 'Bwd_Packet_Length_Max',\n",
       "       'Bwd_Packet_Length_Min', 'Bwd_Packet_Length_Mean',\n",
       "       'Bwd_Packet_Length_Std', 'Flow_Bytes/s', 'Flow_Packets/s',\n",
       "       'Flow_IAT_Mean', 'Flow_IAT_Std', 'Flow_IAT_Max', 'Flow_IAT_Min',\n",
       "       'Fwd_IAT_Total', 'Fwd_IAT_Mean', 'Fwd_IAT_Std', 'Fwd_IAT_Max',\n",
       "       'Fwd_IAT_Min', 'Bwd_IAT_Total', 'Bwd_IAT_Mean', 'Bwd_IAT_Std',\n",
       "       'Bwd_IAT_Max', 'Bwd_IAT_Min', 'Fwd_PSH_Flags', 'Bwd_PSH_Flags',\n",
       "       'Fwd_URG_Flags', 'Bwd_URG_Flags', 'Fwd_Header_Length',\n",
       "       'Bwd_Header_Length', 'Fwd_Packets/s', 'Bwd_Packets/s',\n",
       "       'Min_Packet_Length', 'Max_Packet_Length', 'Packet_Length_Mean',\n",
       "       'Packet_Length_Std', 'Packet_Length_Variance', 'FIN_Flag_Count',\n",
       "       'SYN_Flag_Count', 'RST_Flag_Count', 'PSH_Flag_Count', 'ACK_Flag_Count',\n",
       "       'URG_Flag_Count', 'CWE_Flag_Count', 'ECE_Flag_Count', 'Down/Up_Ratio',\n",
       "       'Average_Packet_Size', 'Avg_Fwd_Segment_Size', 'Avg_Bwd_Segment_Size',\n",
       "       'Fwd_Avg_Bytes/Bulk', 'Fwd_Avg_Packets/Bulk', 'Fwd_Avg_Bulk_Rate',\n",
       "       'Bwd_Avg_Bytes/Bulk', 'Bwd_Avg_Packets/Bulk', 'Bwd_Avg_Bulk_Rate',\n",
       "       'Subflow_Fwd_Packets', 'Subflow_Fwd_Bytes', 'Subflow_Bwd_Packets',\n",
       "       'Subflow_Bwd_Bytes', 'Init_Win_bytes_forward',\n",
       "       'Init_Win_bytes_backward', 'act_data_pkt_fwd', 'min_seg_size_forward',\n",
       "       'Active_Mean', 'Active_Std', 'Active_Max', 'Active_Min', 'Idle_Mean',\n",
       "       'Idle_Std', 'Idle_Max', 'Idle_Min'],\n",
       "      dtype='object')"
      ]
     },
     "execution_count": 9,
     "metadata": {},
     "output_type": "execute_result"
    }
   ],
   "source": [
    "individual_X[0].columns"
   ]
  },
  {
   "cell_type": "code",
   "execution_count": 10,
   "id": "2cecb81e",
   "metadata": {},
   "outputs": [
    {
     "name": "stdout",
     "output_type": "stream",
     "text": [
      "<class 'pandas.core.frame.DataFrame'>\n",
      "RangeIndex: 256201 entries, 0 to 256200\n",
      "Data columns (total 77 columns):\n",
      " #   Column                       Non-Null Count   Dtype  \n",
      "---  ------                       --------------   -----  \n",
      " 0   Protocol                     256201 non-null  int8   \n",
      " 1   Flow_Duration                256201 non-null  int32  \n",
      " 2   Total_Fwd_Packets            256201 non-null  int16  \n",
      " 3   Total_Backward_Packets       256201 non-null  int16  \n",
      " 4   Total_Length_of_Fwd_Packets  256201 non-null  float32\n",
      " 5   Total_Length_of_Bwd_Packets  256201 non-null  float32\n",
      " 6   Fwd_Packet_Length_Max        256201 non-null  float32\n",
      " 7   Fwd_Packet_Length_Min        256201 non-null  float32\n",
      " 8   Fwd_Packet_Length_Mean       256201 non-null  float32\n",
      " 9   Fwd_Packet_Length_Std        256201 non-null  float32\n",
      " 10  Bwd_Packet_Length_Max        256201 non-null  float32\n",
      " 11  Bwd_Packet_Length_Min        256201 non-null  float32\n",
      " 12  Bwd_Packet_Length_Mean       256201 non-null  float32\n",
      " 13  Bwd_Packet_Length_Std        256201 non-null  float32\n",
      " 14  Flow_Bytes/s                 256201 non-null  float32\n",
      " 15  Flow_Packets/s               256201 non-null  float32\n",
      " 16  Flow_IAT_Mean                256201 non-null  float32\n",
      " 17  Flow_IAT_Std                 256201 non-null  float32\n",
      " 18  Flow_IAT_Max                 256201 non-null  float32\n",
      " 19  Flow_IAT_Min                 256201 non-null  float32\n",
      " 20  Fwd_IAT_Total                256201 non-null  float32\n",
      " 21  Fwd_IAT_Mean                 256201 non-null  float32\n",
      " 22  Fwd_IAT_Std                  256201 non-null  float32\n",
      " 23  Fwd_IAT_Max                  256201 non-null  float32\n",
      " 24  Fwd_IAT_Min                  256201 non-null  float32\n",
      " 25  Bwd_IAT_Total                256201 non-null  float32\n",
      " 26  Bwd_IAT_Mean                 256201 non-null  float32\n",
      " 27  Bwd_IAT_Std                  256201 non-null  float32\n",
      " 28  Bwd_IAT_Max                  256201 non-null  float32\n",
      " 29  Bwd_IAT_Min                  256201 non-null  float32\n",
      " 30  Fwd_PSH_Flags                256201 non-null  int8   \n",
      " 31  Bwd_PSH_Flags                256201 non-null  int8   \n",
      " 32  Fwd_URG_Flags                256201 non-null  int8   \n",
      " 33  Bwd_URG_Flags                256201 non-null  int8   \n",
      " 34  Fwd_Header_Length            256201 non-null  int64  \n",
      " 35  Bwd_Header_Length            256201 non-null  int64  \n",
      " 36  Fwd_Packets/s                256201 non-null  float32\n",
      " 37  Bwd_Packets/s                256201 non-null  float32\n",
      " 38  Min_Packet_Length            256201 non-null  float32\n",
      " 39  Max_Packet_Length            256201 non-null  float32\n",
      " 40  Packet_Length_Mean           256201 non-null  float32\n",
      " 41  Packet_Length_Std            256201 non-null  float32\n",
      " 42  Packet_Length_Variance       256201 non-null  float32\n",
      " 43  FIN_Flag_Count               256201 non-null  int8   \n",
      " 44  SYN_Flag_Count               256201 non-null  int8   \n",
      " 45  RST_Flag_Count               256201 non-null  int8   \n",
      " 46  PSH_Flag_Count               256201 non-null  int8   \n",
      " 47  ACK_Flag_Count               256201 non-null  int8   \n",
      " 48  URG_Flag_Count               256201 non-null  int8   \n",
      " 49  CWE_Flag_Count               256201 non-null  int8   \n",
      " 50  ECE_Flag_Count               256201 non-null  int8   \n",
      " 51  Down/Up_Ratio                256201 non-null  float32\n",
      " 52  Average_Packet_Size          256201 non-null  float32\n",
      " 53  Avg_Fwd_Segment_Size         256201 non-null  float32\n",
      " 54  Avg_Bwd_Segment_Size         256201 non-null  float32\n",
      " 55  Fwd_Avg_Bytes/Bulk           256201 non-null  int8   \n",
      " 56  Fwd_Avg_Packets/Bulk         256201 non-null  int8   \n",
      " 57  Fwd_Avg_Bulk_Rate            256201 non-null  int8   \n",
      " 58  Bwd_Avg_Bytes/Bulk           256201 non-null  int8   \n",
      " 59  Bwd_Avg_Packets/Bulk         256201 non-null  int8   \n",
      " 60  Bwd_Avg_Bulk_Rate            256201 non-null  int8   \n",
      " 61  Subflow_Fwd_Packets          256201 non-null  int16  \n",
      " 62  Subflow_Fwd_Bytes            256201 non-null  int32  \n",
      " 63  Subflow_Bwd_Packets          256201 non-null  int16  \n",
      " 64  Subflow_Bwd_Bytes            256201 non-null  int32  \n",
      " 65  Init_Win_bytes_forward       256201 non-null  int32  \n",
      " 66  Init_Win_bytes_backward      256201 non-null  int32  \n",
      " 67  act_data_pkt_fwd             256201 non-null  int16  \n",
      " 68  min_seg_size_forward         256201 non-null  int32  \n",
      " 69  Active_Mean                  256201 non-null  float32\n",
      " 70  Active_Std                   256201 non-null  float32\n",
      " 71  Active_Max                   256201 non-null  float32\n",
      " 72  Active_Min                   256201 non-null  float32\n",
      " 73  Idle_Mean                    256201 non-null  float32\n",
      " 74  Idle_Std                     256201 non-null  float32\n",
      " 75  Idle_Max                     256201 non-null  float32\n",
      " 76  Idle_Min                     256201 non-null  float32\n",
      "dtypes: float32(45), int16(5), int32(6), int64(2), int8(19)\n",
      "memory usage: 60.8 MB\n"
     ]
    }
   ],
   "source": [
    "# To get detail overview of the dataset run this command\n",
    "# individual_X[0].info(verbose=True)\n",
    "individual_X[0].info()"
   ]
  },
  {
   "cell_type": "markdown",
   "id": "1474b8c0",
   "metadata": {},
   "source": [
    "## Further Processing on dataset by concatinating All files."
   ]
  },
  {
   "cell_type": "markdown",
   "id": "47e04829",
   "metadata": {},
   "source": [
    "## Concatinating dataset file into a single file"
   ]
  },
  {
   "cell_type": "code",
   "execution_count": 11,
   "id": "16345ff2",
   "metadata": {},
   "outputs": [
    {
     "data": {
      "text/plain": [
       "((2211125, 77), (2211125,))"
      ]
     },
     "execution_count": 11,
     "metadata": {},
     "output_type": "execute_result"
    }
   ],
   "source": [
    "all_X =  pd.concat(individual_X, ignore_index=True)\n",
    "all_y = pd.concat(individual_y, ignore_index=True)\n",
    "all_X.shape, all_y.shape"
   ]
  },
  {
   "cell_type": "code",
   "execution_count": 12,
   "id": "8922947f",
   "metadata": {},
   "outputs": [
    {
     "data": {
      "image/png": "[encoded data removed]",
      "text/plain": [
       "<Figure size 1200x800 with 1 Axes>"
      ]
     },
     "metadata": {},
     "output_type": "display_data"
    }
   ],
   "source": [
    "plt.figure(figsize=(12, 8))\n",
    "# Create a count plot of the string labels\n",
    "ax = sns.countplot(x=all_y)\n",
    "# Annotate each bar with its count\n",
    "for p in ax.patches:\n",
    "    ax.annotate(f'{p.get_height()}', (p.get_x() + p.get_width() / 2., p.get_height()), ha='center', va='center', xytext=(0, 10), textcoords='offset points')\n",
    "\n",
    "plt.xlabel('Labels')\n",
    "plt.ylabel('Count')\n",
    "plt.title('Count Per Label in CIC-DDoS 2019 Dataset Day-1')\n",
    "plt.show()\n"
   ]
  },
  {
   "cell_type": "code",
   "execution_count": 13,
   "id": "87b545ed",
   "metadata": {},
   "outputs": [
    {
     "data": {
      "text/plain": [
       "Label\n",
       "UDP        1344585\n",
       "Syn         531915\n",
       "MSSQL       258011\n",
       "Benign       46427\n",
       "LDAP         17041\n",
       "NetBIOS      11190\n",
       "Portmap       1578\n",
       "UDPLag         378\n",
       "Name: count, dtype: int64"
      ]
     },
     "execution_count": 13,
     "metadata": {},
     "output_type": "execute_result"
    }
   ],
   "source": [
    "unique_value_count = all_y.value_counts()\n",
    "unique_value_count"
   ]
  },
  {
   "cell_type": "code",
   "execution_count": 14,
   "id": "d6c49636",
   "metadata": {},
   "outputs": [
    {
     "name": "stdout",
     "output_type": "stream",
     "text": [
      "Class = LDAP           ,     n = 17041     ,        (0.771   %)\n",
      "Class = Benign         ,     n = 46427     ,        (2.100   %)\n",
      "Class = MSSQL          ,     n = 258011    ,        (11.669  %)\n",
      "Class = Syn            ,     n = 531915    ,        (24.056  %)\n",
      "Class = NetBIOS        ,     n = 11190     ,        (0.506   %)\n",
      "Class = UDP            ,     n = 1344585   ,        (60.810  %)\n",
      "Class = UDPLag         ,     n = 378       ,        (0.017   %)\n",
      "Class = Portmap        ,     n = 1578      ,        (0.071   %)\n"
     ]
    }
   ],
   "source": [
    "# summarize distribution\n",
    "counter = Counter(all_y)\n",
    "for k,v in counter.items():\n",
    "    per = v / len(all_y) * 100\n",
    "    print('Class = %-15s,     n = %-10d,        (%-8.3f%%)' % (k, v, per))"
   ]
  },
  {
   "cell_type": "markdown",
   "id": "796e7819",
   "metadata": {},
   "source": [
    "## Dataset verification"
   ]
  },
  {
   "cell_type": "code",
   "execution_count": 15,
   "id": "b688b288",
   "metadata": {
    "scrolled": true
   },
   "outputs": [
    {
     "data": {
      "text/html": [
       "<div>\n",
       "<style scoped>\n",
       "    .dataframe tbody tr th:only-of-type {\n",
       "        vertical-align: middle;\n",
       "    }\n",
       "\n",
       "    .dataframe tbody tr th {\n",
       "        vertical-align: top;\n",
       "    }\n",
       "\n",
       "    .dataframe thead th {\n",
       "        text-align: right;\n",
       "    }\n",
       "</style>\n",
       "<table border=\"1\" class=\"dataframe\">\n",
       "  <thead>\n",
       "    <tr style=\"text-align: right;\">\n",
       "      <th></th>\n",
       "      <th>Protocol</th>\n",
       "      <th>Flow_Duration</th>\n",
       "      <th>Total_Fwd_Packets</th>\n",
       "      <th>Total_Backward_Packets</th>\n",
       "      <th>Total_Length_of_Fwd_Packets</th>\n",
       "      <th>Total_Length_of_Bwd_Packets</th>\n",
       "      <th>Fwd_Packet_Length_Max</th>\n",
       "      <th>Fwd_Packet_Length_Min</th>\n",
       "      <th>Fwd_Packet_Length_Mean</th>\n",
       "      <th>Fwd_Packet_Length_Std</th>\n",
       "      <th>...</th>\n",
       "      <th>act_data_pkt_fwd</th>\n",
       "      <th>min_seg_size_forward</th>\n",
       "      <th>Active_Mean</th>\n",
       "      <th>Active_Std</th>\n",
       "      <th>Active_Max</th>\n",
       "      <th>Active_Min</th>\n",
       "      <th>Idle_Mean</th>\n",
       "      <th>Idle_Std</th>\n",
       "      <th>Idle_Max</th>\n",
       "      <th>Idle_Min</th>\n",
       "    </tr>\n",
       "  </thead>\n",
       "  <tbody>\n",
       "    <tr>\n",
       "      <th>20</th>\n",
       "      <td>17</td>\n",
       "      <td>53</td>\n",
       "      <td>2</td>\n",
       "      <td>0</td>\n",
       "      <td>2944.0</td>\n",
       "      <td>0.0</td>\n",
       "      <td>1472.0</td>\n",
       "      <td>1472.0</td>\n",
       "      <td>1472.0</td>\n",
       "      <td>0.0</td>\n",
       "      <td>...</td>\n",
       "      <td>1</td>\n",
       "      <td>-1</td>\n",
       "      <td>0.0</td>\n",
       "      <td>0.0</td>\n",
       "      <td>0.0</td>\n",
       "      <td>0.0</td>\n",
       "      <td>0.0</td>\n",
       "      <td>0.0</td>\n",
       "      <td>0.0</td>\n",
       "      <td>0.0</td>\n",
       "    </tr>\n",
       "    <tr>\n",
       "      <th>21</th>\n",
       "      <td>17</td>\n",
       "      <td>1</td>\n",
       "      <td>2</td>\n",
       "      <td>0</td>\n",
       "      <td>1472.0</td>\n",
       "      <td>0.0</td>\n",
       "      <td>736.0</td>\n",
       "      <td>736.0</td>\n",
       "      <td>736.0</td>\n",
       "      <td>0.0</td>\n",
       "      <td>...</td>\n",
       "      <td>1</td>\n",
       "      <td>-1</td>\n",
       "      <td>0.0</td>\n",
       "      <td>0.0</td>\n",
       "      <td>0.0</td>\n",
       "      <td>0.0</td>\n",
       "      <td>0.0</td>\n",
       "      <td>0.0</td>\n",
       "      <td>0.0</td>\n",
       "      <td>0.0</td>\n",
       "    </tr>\n",
       "    <tr>\n",
       "      <th>22</th>\n",
       "      <td>17</td>\n",
       "      <td>48</td>\n",
       "      <td>2</td>\n",
       "      <td>0</td>\n",
       "      <td>2944.0</td>\n",
       "      <td>0.0</td>\n",
       "      <td>1472.0</td>\n",
       "      <td>1472.0</td>\n",
       "      <td>1472.0</td>\n",
       "      <td>0.0</td>\n",
       "      <td>...</td>\n",
       "      <td>1</td>\n",
       "      <td>-1</td>\n",
       "      <td>0.0</td>\n",
       "      <td>0.0</td>\n",
       "      <td>0.0</td>\n",
       "      <td>0.0</td>\n",
       "      <td>0.0</td>\n",
       "      <td>0.0</td>\n",
       "      <td>0.0</td>\n",
       "      <td>0.0</td>\n",
       "    </tr>\n",
       "    <tr>\n",
       "      <th>23</th>\n",
       "      <td>17</td>\n",
       "      <td>49</td>\n",
       "      <td>2</td>\n",
       "      <td>0</td>\n",
       "      <td>2656.0</td>\n",
       "      <td>0.0</td>\n",
       "      <td>1328.0</td>\n",
       "      <td>1328.0</td>\n",
       "      <td>1328.0</td>\n",
       "      <td>0.0</td>\n",
       "      <td>...</td>\n",
       "      <td>1</td>\n",
       "      <td>-1</td>\n",
       "      <td>0.0</td>\n",
       "      <td>0.0</td>\n",
       "      <td>0.0</td>\n",
       "      <td>0.0</td>\n",
       "      <td>0.0</td>\n",
       "      <td>0.0</td>\n",
       "      <td>0.0</td>\n",
       "      <td>0.0</td>\n",
       "    </tr>\n",
       "    <tr>\n",
       "      <th>24</th>\n",
       "      <td>17</td>\n",
       "      <td>4</td>\n",
       "      <td>2</td>\n",
       "      <td>0</td>\n",
       "      <td>2944.0</td>\n",
       "      <td>0.0</td>\n",
       "      <td>1472.0</td>\n",
       "      <td>1472.0</td>\n",
       "      <td>1472.0</td>\n",
       "      <td>0.0</td>\n",
       "      <td>...</td>\n",
       "      <td>1</td>\n",
       "      <td>-1</td>\n",
       "      <td>0.0</td>\n",
       "      <td>0.0</td>\n",
       "      <td>0.0</td>\n",
       "      <td>0.0</td>\n",
       "      <td>0.0</td>\n",
       "      <td>0.0</td>\n",
       "      <td>0.0</td>\n",
       "      <td>0.0</td>\n",
       "    </tr>\n",
       "    <tr>\n",
       "      <th>25</th>\n",
       "      <td>17</td>\n",
       "      <td>6</td>\n",
       "      <td>2</td>\n",
       "      <td>0</td>\n",
       "      <td>2944.0</td>\n",
       "      <td>0.0</td>\n",
       "      <td>1472.0</td>\n",
       "      <td>1472.0</td>\n",
       "      <td>1472.0</td>\n",
       "      <td>0.0</td>\n",
       "      <td>...</td>\n",
       "      <td>1</td>\n",
       "      <td>-1</td>\n",
       "      <td>0.0</td>\n",
       "      <td>0.0</td>\n",
       "      <td>0.0</td>\n",
       "      <td>0.0</td>\n",
       "      <td>0.0</td>\n",
       "      <td>0.0</td>\n",
       "      <td>0.0</td>\n",
       "      <td>0.0</td>\n",
       "    </tr>\n",
       "    <tr>\n",
       "      <th>26</th>\n",
       "      <td>17</td>\n",
       "      <td>1</td>\n",
       "      <td>2</td>\n",
       "      <td>0</td>\n",
       "      <td>2912.0</td>\n",
       "      <td>0.0</td>\n",
       "      <td>1456.0</td>\n",
       "      <td>1456.0</td>\n",
       "      <td>1456.0</td>\n",
       "      <td>0.0</td>\n",
       "      <td>...</td>\n",
       "      <td>1</td>\n",
       "      <td>-1</td>\n",
       "      <td>0.0</td>\n",
       "      <td>0.0</td>\n",
       "      <td>0.0</td>\n",
       "      <td>0.0</td>\n",
       "      <td>0.0</td>\n",
       "      <td>0.0</td>\n",
       "      <td>0.0</td>\n",
       "      <td>0.0</td>\n",
       "    </tr>\n",
       "    <tr>\n",
       "      <th>27</th>\n",
       "      <td>17</td>\n",
       "      <td>49</td>\n",
       "      <td>2</td>\n",
       "      <td>0</td>\n",
       "      <td>2928.0</td>\n",
       "      <td>0.0</td>\n",
       "      <td>1464.0</td>\n",
       "      <td>1464.0</td>\n",
       "      <td>1464.0</td>\n",
       "      <td>0.0</td>\n",
       "      <td>...</td>\n",
       "      <td>1</td>\n",
       "      <td>-1</td>\n",
       "      <td>0.0</td>\n",
       "      <td>0.0</td>\n",
       "      <td>0.0</td>\n",
       "      <td>0.0</td>\n",
       "      <td>0.0</td>\n",
       "      <td>0.0</td>\n",
       "      <td>0.0</td>\n",
       "      <td>0.0</td>\n",
       "    </tr>\n",
       "    <tr>\n",
       "      <th>28</th>\n",
       "      <td>17</td>\n",
       "      <td>2</td>\n",
       "      <td>2</td>\n",
       "      <td>0</td>\n",
       "      <td>2848.0</td>\n",
       "      <td>0.0</td>\n",
       "      <td>1424.0</td>\n",
       "      <td>1424.0</td>\n",
       "      <td>1424.0</td>\n",
       "      <td>0.0</td>\n",
       "      <td>...</td>\n",
       "      <td>1</td>\n",
       "      <td>-1</td>\n",
       "      <td>0.0</td>\n",
       "      <td>0.0</td>\n",
       "      <td>0.0</td>\n",
       "      <td>0.0</td>\n",
       "      <td>0.0</td>\n",
       "      <td>0.0</td>\n",
       "      <td>0.0</td>\n",
       "      <td>0.0</td>\n",
       "    </tr>\n",
       "    <tr>\n",
       "      <th>29</th>\n",
       "      <td>17</td>\n",
       "      <td>50</td>\n",
       "      <td>2</td>\n",
       "      <td>0</td>\n",
       "      <td>2944.0</td>\n",
       "      <td>0.0</td>\n",
       "      <td>1472.0</td>\n",
       "      <td>1472.0</td>\n",
       "      <td>1472.0</td>\n",
       "      <td>0.0</td>\n",
       "      <td>...</td>\n",
       "      <td>1</td>\n",
       "      <td>-1</td>\n",
       "      <td>0.0</td>\n",
       "      <td>0.0</td>\n",
       "      <td>0.0</td>\n",
       "      <td>0.0</td>\n",
       "      <td>0.0</td>\n",
       "      <td>0.0</td>\n",
       "      <td>0.0</td>\n",
       "      <td>0.0</td>\n",
       "    </tr>\n",
       "  </tbody>\n",
       "</table>\n",
       "<p>10 rows × 77 columns</p>\n",
       "</div>"
      ],
      "text/plain": [
       "    Protocol  Flow_Duration  Total_Fwd_Packets  Total_Backward_Packets  \\\n",
       "20        17             53                  2                       0   \n",
       "21        17              1                  2                       0   \n",
       "22        17             48                  2                       0   \n",
       "23        17             49                  2                       0   \n",
       "24        17              4                  2                       0   \n",
       "25        17              6                  2                       0   \n",
       "26        17              1                  2                       0   \n",
       "27        17             49                  2                       0   \n",
       "28        17              2                  2                       0   \n",
       "29        17             50                  2                       0   \n",
       "\n",
       "    Total_Length_of_Fwd_Packets  Total_Length_of_Bwd_Packets  \\\n",
       "20                       2944.0                          0.0   \n",
       "21                       1472.0                          0.0   \n",
       "22                       2944.0                          0.0   \n",
       "23                       2656.0                          0.0   \n",
       "24                       2944.0                          0.0   \n",
       "25                       2944.0                          0.0   \n",
       "26                       2912.0                          0.0   \n",
       "27                       2928.0                          0.0   \n",
       "28                       2848.0                          0.0   \n",
       "29                       2944.0                          0.0   \n",
       "\n",
       "    Fwd_Packet_Length_Max  Fwd_Packet_Length_Min  Fwd_Packet_Length_Mean  \\\n",
       "20                 1472.0                 1472.0                  1472.0   \n",
       "21                  736.0                  736.0                   736.0   \n",
       "22                 1472.0                 1472.0                  1472.0   \n",
       "23                 1328.0                 1328.0                  1328.0   \n",
       "24                 1472.0                 1472.0                  1472.0   \n",
       "25                 1472.0                 1472.0                  1472.0   \n",
       "26                 1456.0                 1456.0                  1456.0   \n",
       "27                 1464.0                 1464.0                  1464.0   \n",
       "28                 1424.0                 1424.0                  1424.0   \n",
       "29                 1472.0                 1472.0                  1472.0   \n",
       "\n",
       "    Fwd_Packet_Length_Std  ...  act_data_pkt_fwd  min_seg_size_forward  \\\n",
       "20                    0.0  ...                 1                    -1   \n",
       "21                    0.0  ...                 1                    -1   \n",
       "22                    0.0  ...                 1                    -1   \n",
       "23                    0.0  ...                 1                    -1   \n",
       "24                    0.0  ...                 1                    -1   \n",
       "25                    0.0  ...                 1                    -1   \n",
       "26                    0.0  ...                 1                    -1   \n",
       "27                    0.0  ...                 1                    -1   \n",
       "28                    0.0  ...                 1                    -1   \n",
       "29                    0.0  ...                 1                    -1   \n",
       "\n",
       "    Active_Mean  Active_Std  Active_Max  Active_Min  Idle_Mean  Idle_Std  \\\n",
       "20          0.0         0.0         0.0         0.0        0.0       0.0   \n",
       "21          0.0         0.0         0.0         0.0        0.0       0.0   \n",
       "22          0.0         0.0         0.0         0.0        0.0       0.0   \n",
       "23          0.0         0.0         0.0         0.0        0.0       0.0   \n",
       "24          0.0         0.0         0.0         0.0        0.0       0.0   \n",
       "25          0.0         0.0         0.0         0.0        0.0       0.0   \n",
       "26          0.0         0.0         0.0         0.0        0.0       0.0   \n",
       "27          0.0         0.0         0.0         0.0        0.0       0.0   \n",
       "28          0.0         0.0         0.0         0.0        0.0       0.0   \n",
       "29          0.0         0.0         0.0         0.0        0.0       0.0   \n",
       "\n",
       "    Idle_Max  Idle_Min  \n",
       "20       0.0       0.0  \n",
       "21       0.0       0.0  \n",
       "22       0.0       0.0  \n",
       "23       0.0       0.0  \n",
       "24       0.0       0.0  \n",
       "25       0.0       0.0  \n",
       "26       0.0       0.0  \n",
       "27       0.0       0.0  \n",
       "28       0.0       0.0  \n",
       "29       0.0       0.0  \n",
       "\n",
       "[10 rows x 77 columns]"
      ]
     },
     "execution_count": 15,
     "metadata": {},
     "output_type": "execute_result"
    }
   ],
   "source": [
    "all_X.iloc[20:30].head(10)"
   ]
  },
  {
   "cell_type": "markdown",
   "id": "4ca11320",
   "metadata": {},
   "source": [
    "## Label encoding performed on all_y dataset "
   ]
  },
  {
   "cell_type": "code",
   "execution_count": 16,
   "id": "f5ef22fe",
   "metadata": {},
   "outputs": [
    {
     "name": "stdout",
     "output_type": "stream",
     "text": [
      "Label Mapping:\n",
      "Benign: 0\n",
      "LDAP: 1\n",
      "MSSQL: 2\n",
      "NetBIOS: 3\n",
      "Portmap: 4\n",
      "Syn: 5\n",
      "UDP: 6\n",
      "UDPLag: 7\n",
      "Shape of the target values (2211125,)\n"
     ]
    }
   ],
   "source": [
    "# Apply label encoding to the target variable\n",
    "label_encoder = LabelEncoder()\n",
    "y_encoded = label_encoder.fit_transform(all_y)\n",
    "\n",
    "# Get the mapping of original labels to encoded values\n",
    "label_mapping = dict(zip(label_encoder.classes_, range(len(label_encoder.classes_))))\n",
    "\n",
    "# Print the mapping\n",
    "print(\"Label Mapping:\")\n",
    "for label, encoded_value in label_mapping.items():\n",
    "    print(f\"{label}: {encoded_value}\")\n",
    "\n",
    "print (f\"Shape of the target values {y_encoded.shape}\")"
   ]
  },
  {
   "cell_type": "markdown",
   "id": "490f292d",
   "metadata": {},
   "source": [
    "## Train - Test Split on all 77 features"
   ]
  },
  {
   "cell_type": "code",
   "execution_count": 17,
   "id": "f039374d",
   "metadata": {},
   "outputs": [
    {
     "data": {
      "text/plain": [
       "((1547787, 77), (1547787,), (663338, 77), (663338,))"
      ]
     },
     "execution_count": 17,
     "metadata": {},
     "output_type": "execute_result"
    }
   ],
   "source": [
    "test_size = 0.3 # number of training raws (70%-30%)\n",
    "random_state = 42 # random seed\n",
    "\n",
    "X_train_v0, X_test_v0, y_train_v0, y_test_v0 = train_test_split(all_X, y_encoded, \n",
    "                                                                test_size=test_size, \n",
    "                                                                shuffle=True,\n",
    "                                                                stratify=y_encoded, \n",
    "                                                                random_state=random_state)\n",
    "X_train_v0.shape, y_train_v0.shape, X_test_v0.shape, y_test_v0.shape"
   ]
  },
  {
   "cell_type": "markdown",
   "id": "c91d2383",
   "metadata": {},
   "source": [
    "## Dataset Creation with StandardScaler-Random Undersampler-SMOTE with 77 Features"
   ]
  },
  {
   "cell_type": "markdown",
   "id": "0776ecdb",
   "metadata": {},
   "source": [
    "## Calculate the minimum, mean, and median number of instances per class"
   ]
  },
  {
   "cell_type": "code",
   "execution_count": 18,
   "id": "300feb2a",
   "metadata": {},
   "outputs": [
    {
     "data": {
      "text/plain": [
       "(265, 193473, 22214)"
      ]
     },
     "execution_count": 18,
     "metadata": {},
     "output_type": "execute_result"
    }
   ],
   "source": [
    "# Calculate the minimum, mean, and median number of instances per class\n",
    "class_distribution = pd.Series(y_train_v0).value_counts()\n",
    "min_instances = class_distribution.min()\n",
    "mean_instances = int(class_distribution.mean())\n",
    "median_instances = int(class_distribution.median())\n",
    "min_instances, mean_instances, median_instances\n",
    "# sampling_strategy = {cls: mean_instances for cls in class_distribution.index}\n",
    "# print(sampling_strategy)\n"
   ]
  },
  {
   "cell_type": "code",
   "execution_count": 19,
   "id": "ff5a7a79",
   "metadata": {},
   "outputs": [],
   "source": [
    "def create_datasets(X, y, threshold, scaler):\n",
    "    print(f'The shape of X and y is ',X.shape, y.shape)\n",
    "    # Determine the class labels\n",
    "    class_label = pd.Series(y).unique()\n",
    "\n",
    "    print('------------------------------------------------')\n",
    "    print(f'The class encoded labels are ',class_label)\n",
    "    print (f'The threshold is ', threshold)\n",
    "    print (f'The scaler is ', scaler)\n",
    "    print('------------------------------------------------')\n",
    "    print(f'dataset creation process started for : {threshold} instances for each Class' )\n",
    "    \n",
    "    # Determine the classes that need under-sampling and SMOTE\n",
    "    under_sample_classes = [class_label for class_label, count in class_distribution.items() if count > threshold]\n",
    "    smote_classes = [class_label for class_label, count in class_distribution.items() if count <= threshold]\n",
    "\n",
    "    print(f'under sampling classes are: ', under_sample_classes)\n",
    "    print(f'SMOT Over sampling classes are: ', smote_classes)\n",
    "    \n",
    "    # Create a sampling strategy dictionary\n",
    "    rus_sampling_strategy = {}\n",
    "    smt_sampling_strategy = {}\n",
    "    \n",
    "    for class_label in under_sample_classes:\n",
    "        rus_sampling_strategy[class_label] = threshold\n",
    "    \n",
    "    for class_label in smote_classes:\n",
    "        smt_sampling_strategy [class_label]= threshold\n",
    "    \n",
    "#     transformer = ColumnTransformer([\n",
    "#         ('scale', StandardScaler(), X.columns)\n",
    "#     ])\n",
    "    \n",
    "    # Define the pipeline\n",
    "    pipeline = Pipeline([\n",
    "#         ('transformer', transformer),\n",
    "        # ('scale', StandardScaler()),\n",
    "        ('scale', scaler), # Now getting the scaler to work, from function call\n",
    "        ('rus', RandomUnderSampler(sampling_strategy=rus_sampling_strategy)),\n",
    "        ('smote', SMOTE(sampling_strategy=smt_sampling_strategy))\n",
    "    ], verbose=True)\n",
    "\n",
    "    # Apply the pipeline to create a new dataset\n",
    "    X_resampled, y_resampled = pipeline.fit_resample(X, y)\n",
    "#     pipeline.fit(X,y)\n",
    "    print(f'dataset creation process completed for : {threshold} instances for each Class' )\n",
    "    return X_resampled, y_resampled, pipeline "
   ]
  },
  {
   "cell_type": "markdown",
   "id": "8c7fd0e6",
   "metadata": {},
   "source": [
    "## Dataset Creation with Standard-Scaler Random Undersampler and SMOTE "
   ]
  },
  {
   "cell_type": "code",
   "execution_count": 20,
   "id": "3d1b2fb7",
   "metadata": {},
   "outputs": [
    {
     "name": "stdout",
     "output_type": "stream",
     "text": [
      "The shape of X and y is  (1547787, 77) (1547787,)\n",
      "------------------------------------------------\n",
      "The class encoded labels are  [5 6 2 1 4 0 3 7]\n",
      "The threshold is  265\n",
      "The scaler is  StandardScaler()\n",
      "------------------------------------------------\n",
      "dataset creation process started for : 265 instances for each Class\n",
      "under sampling classes are:  [6, 5, 2, 0, 1, 3, 4]\n",
      "SMOT Over sampling classes are:  [7]\n",
      "[Pipeline] ............. (step 1 of 3) Processing scale, total=   2.1s\n",
      "[Pipeline] ............... (step 2 of 3) Processing rus, total=   0.2s\n",
      "[Pipeline] ............. (step 3 of 3) Processing smote, total=   0.0s\n",
      "dataset creation process completed for : 265 instances for each Class\n"
     ]
    }
   ],
   "source": [
    "# Create three datasets based on the thresholds\n",
    "X_min_SS_77, y_min_SS_77, pipeline_min_SS_77 = create_datasets(X_train_v0, y_train_v0, min_instances, StandardScaler()) \n",
    "# X_mean_SS_77, y_mean_SS_77, pipeline_mean_SS_77 = create_datasets(X_train_v0, y_train_v0, mean_instances, StandardScaler()) \n",
    "# X_median_SS_77, y_median_SS_77, pipeline_median_SS_77 = create_datasets(X_train_v0, y_train_v0, median_instances, StandardScaler()) "
   ]
  },
  {
   "cell_type": "code",
   "execution_count": 21,
   "id": "f7b71181",
   "metadata": {},
   "outputs": [
    {
     "data": {
      "text/plain": [
       "((2120, 77), (2120,))"
      ]
     },
     "execution_count": 21,
     "metadata": {},
     "output_type": "execute_result"
    }
   ],
   "source": [
    "# X_min_SS_77.shape, y_min_SS_77.shape, X_mean_SS_77.shape, y_mean_SS_77.shape, X_median_SS_77.shape, y_median_SS_77.shape\n",
    "# X_median_SS_77.shape, y_median_SS_77.shape\n",
    "X_min_SS_77.shape, y_min_SS_77.shape"
   ]
  },
  {
   "cell_type": "code",
   "execution_count": 22,
   "id": "7ba9181e",
   "metadata": {},
   "outputs": [
    {
     "data": {
      "image/png": "[encoded data removed]",
      "text/plain": [
       "<Figure size 1000x500 with 1 Axes>"
      ]
     },
     "metadata": {},
     "output_type": "display_data"
    }
   ],
   "source": [
    "\n",
    "# Function to visualize class distribution\n",
    "def plot_class_distribution(y, title):\n",
    "    plt.figure(figsize=(10, 5))\n",
    "    sns.barplot(x=pd.Series(y).value_counts().index, y=pd.Series(y).value_counts().values)\n",
    "    plt.title(title)\n",
    "    plt.xlabel(\"Class Label\")\n",
    "    plt.ylabel(\"Number of Instances\")\n",
    "    plt.xticks(rotation=90)\n",
    "    plt.show()\n",
    "\n",
    "# Plot for each dataset\n",
    "plot_class_distribution(y_min_SS_77, \"Class Distribution (Min Instances)\")\n",
    "# plot_class_distribution(y_mean_SS_77, \"Class Distribution (mean Instances)\")\n",
    "# plot_class_distribution(y_median_SS_77, \"Class Distribution (Median Instances)\")\n"
   ]
  },
  {
   "cell_type": "markdown",
   "id": "f8acb02d",
   "metadata": {},
   "source": [
    "## X_test dataset scaling with pipeline scaler"
   ]
  },
  {
   "cell_type": "code",
   "execution_count": 23,
   "id": "837ed433",
   "metadata": {},
   "outputs": [
    {
     "data": {
      "text/plain": [
       "(663338, 77)"
      ]
     },
     "execution_count": 23,
     "metadata": {},
     "output_type": "execute_result"
    }
   ],
   "source": [
    "X_test_min_SS_77 = pipeline_min_SS_77.named_steps['scale'].transform(X_test_v0)\n",
    "# X_test_mean_SS_77 = pipeline_mean_SS_77.named_steps['scale'].transform(X_test_v0)\n",
    "# X_test_median_SS_77 = pipeline_median_SS_77.named_steps['scale'].transform(X_test_v0)\n",
    "\n",
    "# X_test_min_SS_77.shape, X_test_mean_SS_77.shape, X_test_median_SS_77.shape\n",
    "X_test_min_SS_77.shape\n",
    "# X_test_median_SS_77.shape"
   ]
  },
  {
   "cell_type": "markdown",
   "id": "32f9cf20",
   "metadata": {},
   "source": [
    "### Create Validation Set from min-training set of 20%"
   ]
  },
  {
   "cell_type": "code",
   "execution_count": 24,
   "id": "70b46031",
   "metadata": {},
   "outputs": [
    {
     "name": "stdout",
     "output_type": "stream",
     "text": [
      "Training Data Shape: (1696, 77), (1696,)\n",
      "Validation Data Shape: (424, 77), (424,)\n",
      "Test Data Shape: (663338, 77), (663338,)\n"
     ]
    }
   ],
   "source": [
    "\n",
    "# Create a validation set (20 of training data)\n",
    "X_train_final, X_val, y_train_final, y_val = train_test_split(\n",
    "    X_min_SS_77, y_min_SS_77, test_size=0.2, random_state=42, stratify=y_min_SS_77)\n",
    "\n",
    "# Check dataset shapes\n",
    "print(f\"Training Data Shape: {X_train_final.shape}, {y_train_final.shape}\")\n",
    "print(f\"Validation Data Shape: {X_val.shape}, {y_val.shape}\")\n",
    "print(f\"Test Data Shape: {X_test_min_SS_77.shape}, {y_test_v0.shape}\")\n"
   ]
  },
  {
   "cell_type": "code",
   "execution_count": 25,
   "id": "2a7fa736",
   "metadata": {},
   "outputs": [
    {
     "name": "stdout",
     "output_type": "stream",
     "text": [
      "Training Data Shape: torch.Size([1696, 77]) torch.Size([1696])\n",
      "Validation Data Shape: torch.Size([424, 77]) torch.Size([424])\n",
      "Test Data Shape: torch.Size([663338, 77]) torch.Size([663338])\n"
     ]
    }
   ],
   "source": [
    "# Convert training data to tensors\n",
    "X_train_tensor = torch.tensor(X_train_final, dtype=torch.float32)\n",
    "y_train_tensor = torch.tensor(y_train_final, dtype=torch.long)  # Classification task\n",
    "\n",
    "# Convert validation data to tensors\n",
    "X_val_tensor = torch.tensor(X_val, dtype=torch.float32)  # StandardScaler applied\n",
    "y_val_tensor = torch.tensor(y_val, dtype=torch.long)\n",
    "\n",
    "# Convert test data to tensors\n",
    "X_test_tensor = torch.tensor(X_test_min_SS_77, dtype=torch.float32)  # StandardScaler applied\n",
    "y_test_tensor = torch.tensor(y_test_v0, dtype=torch.long)\n",
    "\n",
    "# Print shapes to verify\n",
    "print(\"Training Data Shape:\", X_train_tensor.shape, y_train_tensor.shape)\n",
    "print(\"Validation Data Shape:\", X_val_tensor.shape, y_val_tensor.shape)\n",
    "print(\"Test Data Shape:\", X_test_tensor.shape, y_test_tensor.shape)"
   ]
  },
  {
   "cell_type": "code",
   "execution_count": 26,
   "id": "8adae06e",
   "metadata": {},
   "outputs": [],
   "source": [
    "# Create PyTorch Dataset\n",
    "train_dataset = TensorDataset(X_train_tensor, y_train_tensor)\n",
    "val_dataset = TensorDataset(X_val_tensor, y_val_tensor)\n",
    "test_dataset = TensorDataset(X_test_tensor, y_test_tensor)"
   ]
  },
  {
   "cell_type": "markdown",
   "id": "adef9987",
   "metadata": {},
   "source": [
    "### Create a DataLoader\n",
    "#### DataLoader helps with batching, shuffling, and parallel processing for efficient training."
   ]
  },
  {
   "cell_type": "code",
   "execution_count": 27,
   "id": "6d6c3f3e",
   "metadata": {},
   "outputs": [
    {
     "name": "stdout",
     "output_type": "stream",
     "text": [
      "Number of workers: 4\n"
     ]
    }
   ],
   "source": [
    "# Define batch size\n",
    "batch_size = 64  # You can change this based on your system's memory\n",
    "# Automatically determine an optimal number of workers\n",
    "# num_workers = torch.get_num_threads()  # Adjust based on your CPU\n",
    "num_workers = 4  # Adjust based on your CPU\n",
    "\n",
    "print(\"Number of workers:\", num_workers)\n",
    "# Create DataLoader for training and validation data\n",
    "train_loader = DataLoader(train_dataset, batch_size=batch_size, shuffle=True, num_workers=num_workers, pin_memory=True)\n",
    "val_loader = DataLoader(val_dataset, batch_size=batch_size, shuffle=False, num_workers=num_workers, pin_memory=True)\n",
    "test_loader = DataLoader(test_dataset, batch_size=batch_size,shuffle=False, num_workers=num_workers, pin_memory=True) \n"
   ]
  },
  {
   "cell_type": "markdown",
   "id": "43a8086e",
   "metadata": {},
   "source": [
    "### Verify DataLoader\n",
    "#### To check if the DataLoader works correctly, let's load a single batch and inspect the shapes."
   ]
  },
  {
   "cell_type": "code",
   "execution_count": 28,
   "id": "41689a6a",
   "metadata": {},
   "outputs": [
    {
     "name": "stdout",
     "output_type": "stream",
     "text": [
      "Batch X Shape: torch.Size([64, 77])\n",
      "Batch y Shape: torch.Size([64])\n",
      "Batch xtest Shape: torch.Size([64, 77])\n",
      "Batch ytest Shape: torch.Size([64])\n"
     ]
    }
   ],
   "source": [
    "# Fetch a batch of data\n",
    "X_batch, y_batch = next(iter(train_loader))\n",
    "print(\"Batch X Shape:\", X_batch.shape)\n",
    "print(\"Batch y Shape:\", y_batch.shape)\n",
    "\n",
    "Xtest_batch, ytest_batch = next(iter(test_loader))\n",
    "print(\"Batch xtest Shape:\", Xtest_batch.shape)\n",
    "print(\"Batch ytest Shape:\", ytest_batch.shape)\n"
   ]
  },
  {
   "cell_type": "code",
   "execution_count": 29,
   "id": "050798ab-2e8f-43e9-a93c-7337fe9f6816",
   "metadata": {},
   "outputs": [
    {
     "name": "stdout",
     "output_type": "stream",
     "text": [
      "X_train_tensor shape is: 77\n",
      "X_train_tensor shape is: torch.Size([77])\n"
     ]
    }
   ],
   "source": [
    "print(f'X_train_tensor shape is: {X_train_tensor.shape[1]}')\n",
    "f, lab = train_dataset[0]\n",
    "print(f'X_train_tensor shape is: {f.shape}')"
   ]
  },
  {
   "cell_type": "markdown",
   "id": "bdede843",
   "metadata": {},
   "source": [
    "## Training and making prediction on resampled dataset"
   ]
  },
  {
   "cell_type": "code",
   "execution_count": 30,
   "id": "1f0ac038",
   "metadata": {},
   "outputs": [
    {
     "name": "stdout",
     "output_type": "stream",
     "text": [
      "Epoch 1, AE Loss: 3.5267\n",
      "Epoch 2, AE Loss: 3.1736\n",
      "Epoch 3, AE Loss: 3.0347\n",
      "Epoch 4, AE Loss: 3.1842\n",
      "Epoch 5, AE Loss: 2.9724\n",
      "Epoch 6, AE Loss: 2.9790\n",
      "Epoch 7, AE Loss: 2.9630\n",
      "Epoch 8, AE Loss: 2.9934\n",
      "Epoch 9, AE Loss: 2.9601\n",
      "Epoch 10, AE Loss: 2.9851\n",
      "Epoch 11, AE Loss: 2.9486\n",
      "Epoch 12, AE Loss: 2.9484\n",
      "Epoch 13, AE Loss: 2.9660\n",
      "Epoch 14, AE Loss: 3.2049\n",
      "Epoch 15, AE Loss: 2.9955\n",
      "Epoch 16, AE Loss: 2.9461\n",
      "Epoch 17, AE Loss: 2.9461\n",
      "Epoch 18, AE Loss: 2.9431\n",
      "Epoch 19, AE Loss: 2.9564\n",
      "Epoch 20, AE Loss: 2.9356\n"
     ]
    }
   ],
   "source": [
    "# encoder and decoder training and freezing encoder for further process\n",
    "class Autoencoder(nn.Module):\n",
    "    def __init__(self, input_size):\n",
    "        super(Autoencoder, self).__init__()\n",
    "        self.encoder = nn.Sequential(\n",
    "            nn.Linear(input_size, 128),\n",
    "            nn.ReLU(),\n",
    "            nn.Linear(128, 64),\n",
    "            nn.ReLU(),\n",
    "            nn.Linear(64, 32)  # Latent space\n",
    "        )\n",
    "        self.decoder = nn.Sequential(\n",
    "            nn.Linear(32, 64),\n",
    "            nn.ReLU(),\n",
    "            nn.Linear(64, 128),\n",
    "            nn.ReLU(),\n",
    "            nn.Linear(128, input_size),\n",
    "            nn.Sigmoid()\n",
    "        )\n",
    "\n",
    "    def forward(self, x):\n",
    "        encoded = self.encoder(x)\n",
    "        decoded = self.decoder(encoded)\n",
    "        return encoded, decoded\n",
    "\n",
    "# Initialize and train autoencoder\n",
    "input_size = X_train_tensor.shape[1]\n",
    "autoencoder = Autoencoder(input_size)\n",
    "\n",
    "criterion = nn.MSELoss()  # Reconstruction loss\n",
    "optimizer = optim.Adam(autoencoder.parameters(), lr=0.001)\n",
    "\n",
    "epochs = 20\n",
    "for epoch in range(epochs):\n",
    "    autoencoder.train()\n",
    "    total_loss = 0\n",
    "    \n",
    "    for X_batch, _ in train_loader:\n",
    "        optimizer.zero_grad()\n",
    "        X_batch = X_batch.to(torch.float32)\n",
    "        encoded, decoded = autoencoder(X_batch)\n",
    "        loss = criterion(decoded, X_batch)  # Reconstruction loss\n",
    "        loss.backward()\n",
    "        optimizer.step()\n",
    "        total_loss += loss.item()\n",
    "\n",
    "    print(f\"Epoch {epoch+1}, AE Loss: {total_loss / len(train_loader):.4f}\")\n",
    "\n",
    "# Freeze the autoencoder after training\n",
    "for param in autoencoder.parameters():\n",
    "    param.requires_grad = False\n"
   ]
  },
  {
   "cell_type": "code",
   "execution_count": 31,
   "id": "d8f93980-6f39-455c-b782-111440c2db75",
   "metadata": {},
   "outputs": [],
   "source": [
    "def extract_latent_features(autoencoder, dataloader):\n",
    "    autoencoder.eval()\n",
    "    latent_features = []\n",
    "    labels = []\n",
    "\n",
    "    with torch.no_grad():\n",
    "        for X_batch, y_batch in dataloader:\n",
    "            X_batch = X_batch.to(torch.float32)\n",
    "            encoded = autoencoder.encoder(X_batch)\n",
    "            latent_features.append(encoded)\n",
    "            labels.append(y_batch)\n",
    "\n",
    "    features_tensor = torch.cat(latent_features, dim=0)\n",
    "    labels_tensor = torch.cat(labels, dim=0)\n",
    "\n",
    "    return features_tensor, labels_tensor\n"
   ]
  },
  {
   "cell_type": "code",
   "execution_count": 32,
   "id": "58145eed-eb70-49b8-912a-8aef8ecf9e30",
   "metadata": {},
   "outputs": [
    {
     "name": "stdout",
     "output_type": "stream",
     "text": [
      "Latent Train Shape: torch.Size([1696, 32])\n",
      "Train Labels Shape: torch.Size([1696])\n",
      "Latent Val Shape: torch.Size([424, 32])\n",
      "Val Labels Shape: torch.Size([424])\n",
      "Latent Test Shape: torch.Size([663338, 32])\n",
      "Test Labels Shape: torch.Size([663338])\n"
     ]
    }
   ],
   "source": [
    "\n",
    "# 📌 Extract latent features from encoder\n",
    "latent_train_tensor, train_labels_tensor = extract_latent_features(autoencoder, train_loader)\n",
    "latent_val_tensor, val_labels_tensor     = extract_latent_features(autoencoder, val_loader)\n",
    "latent_test_tensor, test_labels_tensor   = extract_latent_features(autoencoder, test_loader)\n",
    "\n",
    "# ✅ Print shapes to verify\n",
    "print(\"Latent Train Shape:\", latent_train_tensor.shape)\n",
    "print(\"Train Labels Shape:\", train_labels_tensor.shape)\n",
    "print(\"Latent Val Shape:\", latent_val_tensor.shape)\n",
    "print(\"Val Labels Shape:\", val_labels_tensor.shape)\n",
    "print(\"Latent Test Shape:\", latent_test_tensor.shape)\n",
    "print(\"Test Labels Shape:\", test_labels_tensor.shape)\n"
   ]
  },
  {
   "cell_type": "code",
   "execution_count": 37,
   "id": "9e022ab8-2fa6-4426-a64c-2ebe46bd265b",
   "metadata": {},
   "outputs": [],
   "source": [
    "from torch.utils.data import TensorDataset, DataLoader\n",
    "\n",
    "train_dataset_latent = TensorDataset(latent_train_tensor, y_train_tensor)\n",
    "test_dataset_latent = TensorDataset(latent_test_tensor, y_test_tensor)\n",
    "\n",
    "train_loader_latent = DataLoader(train_dataset_latent, batch_size=64, shuffle=True)\n",
    "test_loader_latent = DataLoader(test_dataset_latent, batch_size=64, shuffle=False)\n"
   ]
  },
  {
   "cell_type": "code",
   "execution_count": 38,
   "id": "e97f2b47-ff4f-45b5-b982-31c2d8f0c400",
   "metadata": {},
   "outputs": [
    {
     "name": "stdout",
     "output_type": "stream",
     "text": [
      "Epoch 1, Train Loss: 1.6740, Acc: 0.3726\n"
     ]
    },
    {
     "ename": "NameError",
     "evalue": "name 'test_accs' is not defined",
     "output_type": "error",
     "traceback": [
      "\u001b[0;31m---------------------------------------------------------------------------\u001b[0m",
      "\u001b[0;31mNameError\u001b[0m                                 Traceback (most recent call last)",
      "Cell \u001b[0;32mIn[38], line 59\u001b[0m\n\u001b[1;32m     57\u001b[0m         test_preds \u001b[38;5;241m=\u001b[39m torch\u001b[38;5;241m.\u001b[39margmax(test_outputs, dim\u001b[38;5;241m=\u001b[39m\u001b[38;5;241m1\u001b[39m)\n\u001b[1;32m     58\u001b[0m         test_acc \u001b[38;5;241m=\u001b[39m (test_preds \u001b[38;5;241m==\u001b[39m test_labels_tensor)\u001b[38;5;241m.\u001b[39mfloat()\u001b[38;5;241m.\u001b[39mmean()\u001b[38;5;241m.\u001b[39mitem()\n\u001b[0;32m---> 59\u001b[0m         \u001b[43mtest_accs\u001b[49m\u001b[38;5;241m.\u001b[39mappend(test_acc)\n\u001b[1;32m     61\u001b[0m     \u001b[38;5;28mprint\u001b[39m(\u001b[38;5;124mf\u001b[39m\u001b[38;5;124m\"\u001b[39m\u001b[38;5;124mEpoch \u001b[39m\u001b[38;5;132;01m{\u001b[39;00mepoch\u001b[38;5;241m+\u001b[39m\u001b[38;5;241m1\u001b[39m\u001b[38;5;132;01m}\u001b[39;00m\u001b[38;5;124m/\u001b[39m\u001b[38;5;132;01m{\u001b[39;00mepochs\u001b[38;5;132;01m}\u001b[39;00m\u001b[38;5;124m => Train Loss: \u001b[39m\u001b[38;5;132;01m{\u001b[39;00mtrain_losses[\u001b[38;5;241m-\u001b[39m\u001b[38;5;241m1\u001b[39m]\u001b[38;5;132;01m:\u001b[39;00m\u001b[38;5;124m.4f\u001b[39m\u001b[38;5;132;01m}\u001b[39;00m\u001b[38;5;124m, Train Acc: \u001b[39m\u001b[38;5;132;01m{\u001b[39;00macc\u001b[38;5;132;01m:\u001b[39;00m\u001b[38;5;124m.4f\u001b[39m\u001b[38;5;132;01m}\u001b[39;00m\u001b[38;5;124m, Val Acc: \u001b[39m\u001b[38;5;132;01m{\u001b[39;00mval_acc\u001b[38;5;132;01m:\u001b[39;00m\u001b[38;5;124m.4f\u001b[39m\u001b[38;5;132;01m}\u001b[39;00m\u001b[38;5;124m, Test Acc: \u001b[39m\u001b[38;5;132;01m{\u001b[39;00mtest_acc\u001b[38;5;132;01m:\u001b[39;00m\u001b[38;5;124m.4f\u001b[39m\u001b[38;5;132;01m}\u001b[39;00m\u001b[38;5;124m\"\u001b[39m)\n\u001b[1;32m     63\u001b[0m \u001b[38;5;66;03m# === Save classification reports ===\u001b[39;00m\n\u001b[1;32m     64\u001b[0m \n\u001b[1;32m     65\u001b[0m \u001b[38;5;66;03m# Evaluation helper function\u001b[39;00m\n",
      "\u001b[0;31mNameError\u001b[0m: name 'test_accs' is not defined"
     ]
    }
   ],
   "source": [
    "# # Define MLP Classifier\n",
    "# class MLP_Classifier(nn.Module):\n",
    "#     def __init__(self, input_size, num_classes):\n",
    "#         super(MLP_Classifier, self).__init__()\n",
    "#         self.fc1 = nn.Linear(input_size, 64)\n",
    "#         self.relu1 = nn.ReLU()\n",
    "#         self.fc2 = nn.Linear(64, num_classes)  # raw logits\n",
    "\n",
    "#     def forward(self, x):\n",
    "#         x = self.fc1(x)\n",
    "#         x = self.relu1(x)\n",
    "#         return self.fc2(x)\n",
    "\n",
    "# # Instantiate\n",
    "# input_dim = latent_train_tensor.shape[1]  # should be 32\n",
    "# num_classes = len(torch.unique(train_labels_tensor))\n",
    "# mlp = MLP_Classifier(input_size=input_dim, num_classes=num_classes)\n",
    "\n",
    "# # Loss and Optimizer\n",
    "# criterion = nn.CrossEntropyLoss()\n",
    "# optimizer = optim.Adam(mlp.parameters(), lr=0.001)\n",
    "\n",
    "# # Metrics tracking\n",
    "# train_acc, val_acc, test_acc = [], [], []\n",
    "# train_loss, val_loss, test_loss = [], [], []\n",
    "\n",
    "# # Training Loop\n",
    "# epochs = 20\n",
    "# # train_losses, val_losses, train_accs, val_accs = [], [], [], []\n",
    "\n",
    "# for epoch in range(epochs):\n",
    "#     mlp.train()\n",
    "#     total_loss, correct, total = 0, 0, 0\n",
    "#     for X_batch, y_batch in DataLoader(TensorDataset(latent_train_tensor, train_labels_tensor), batch_size=64, shuffle=True):\n",
    "#         optimizer.zero_grad()\n",
    "#         outputs = mlp(X_batch)\n",
    "#         loss = criterion(outputs, y_batch)\n",
    "#         loss.backward()\n",
    "#         optimizer.step()\n",
    "\n",
    "#         total_loss += loss.item()\n",
    "#         correct += (outputs.argmax(1) == y_batch).sum().item()\n",
    "#         total += y_batch.size(0)\n",
    "\n",
    "#     acc = correct / total\n",
    "#     train_losses.append(total_loss / len(train_loader))\n",
    "#     train_accs.append(acc)\n",
    "#     print(f\"Epoch {epoch+1}, Train Loss: {train_losses[-1]:.4f}, Acc: {acc:.4f}\")\n",
    "\n",
    "#     with torch.no_grad():\n",
    "#         val_outputs = mlp(latent_val_tensor)\n",
    "#         val_preds = torch.argmax(val_outputs, dim=1)\n",
    "#         val_acc = (val_preds == val_labels_tensor).float().mean().item()\n",
    "#         val_accs.append(val_acc)\n",
    "\n",
    "#         test_outputs = mlp(latent_test_tensor)\n",
    "#         test_preds = torch.argmax(test_outputs, dim=1)\n",
    "#         test_acc = (test_preds == test_labels_tensor).float().mean().item()\n",
    "#         test_accs.append(test_acc)\n",
    "\n",
    "#     print(f\"Epoch {epoch+1}/{epochs} => Train Loss: {train_losses[-1]:.4f}, Train Acc: {acc:.4f}, Val Acc: {val_acc:.4f}, Test Acc: {test_acc:.4f}\")\n",
    "\n",
    "# # === Save classification reports ===\n",
    "\n",
    "# # Evaluation helper function\n",
    "# def evaluate_model(model, features_tensor, labels_tensor, dataset_name):\n",
    "#     model.eval()\n",
    "#     with torch.no_grad():\n",
    "#         outputs = model(features_tensor)\n",
    "#         preds = torch.argmax(outputs, dim=1)\n",
    "#         report = classification_report(labels_tensor, preds, output_dict=True)\n",
    "#         df_report = pd.DataFrame(report).transpose()\n",
    "#         df_report.to_excel(f\"{dataset_name}_classification_report.xlsx\")\n",
    "#         print(f\"\\n{dataset_name} Classification Report:\\n\", df_report)\n",
    "#         acc = (preds == labels_tensor).float().mean().item()\n",
    "#         return acc\n",
    "\n",
    "\n",
    "\n",
    "# train_final_acc = evaluate_model(mlp, latent_train_tensor, train_labels_tensor, \"Train\")\n",
    "# val_final_acc   = evaluate_model(mlp, latent_val_tensor, val_labels_tensor, \"Validation\")\n",
    "# test_final_acc  = evaluate_model(mlp, latent_test_tensor, test_labels_tensor, \"Test\")\n",
    "\n",
    "# # === Plot Accuracy Over Epochs ===\n",
    "# plt.figure(figsize=(10, 5))\n",
    "# plt.plot(train_accs, label='Train Accuracy')\n",
    "# plt.plot(val_accs, label='Validation Accuracy')\n",
    "# plt.plot(test_accs, label='Test Accuracy')\n",
    "# plt.xlabel('Epoch')\n",
    "# plt.ylabel('Accuracy')\n",
    "# plt.title('Accuracy Over Epochs')\n",
    "# plt.legend()\n",
    "# plt.grid(True)\n",
    "# plt.savefig(\"epoch_accuracy_curve.png\")\n",
    "# plt.show()\n",
    "\n",
    "# # === Plot Training Loss Over Epochs ===\n",
    "# plt.figure(figsize=(10, 5))\n",
    "# plt.plot(train_losses, label='Train Loss')\n",
    "# plt.xlabel('Epoch')\n",
    "# plt.ylabel('Loss')\n",
    "# plt.title('Training Loss Over Epochs')\n",
    "# plt.legend()\n",
    "# plt.grid(True)\n",
    "# plt.savefig(\"epoch_loss_curve.png\")\n",
    "# plt.show()\n",
    "\n",
    "# # === Final Accuracy Comparison ===\n",
    "# plt.figure(figsize=(8, 5))\n",
    "# plt.bar([\"Train\", \"Validation\", \"Test\"], [train_final_acc, val_final_acc, test_final_acc], color=['blue', 'orange', 'green'])\n",
    "# plt.title(\"Final Classification Accuracy Comparison\")\n",
    "# plt.ylabel(\"Accuracy\")\n",
    "# plt.ylim(0, 1.0)\n",
    "# plt.grid(True)\n",
    "# plt.savefig(\"final_accuracy_comparison.png\")\n",
    "# plt.show()\n",
    "\n",
    "\n",
    "\n",
    "# # # === Evaluate on train set ===\n",
    "# # train_acc = evaluate_model(mlp, latent_train_tensor, train_labels_tensor, \"Train\")\n",
    "\n",
    "# # # === Encode Validation Set ===\n",
    "# # latent_val, val_labels = [], []\n",
    "# # with torch.no_grad():\n",
    "# #     for X_batch, y_batch in val_loader:\n",
    "# #         latent = autoencoder.encoder(X_batch.float())\n",
    "# #         latent_val.append(latent)\n",
    "# #         val_labels.append(y_batch)\n",
    "# # latent_val_tensor = torch.cat(latent_val, dim=0)\n",
    "# # val_labels_tensor = torch.cat(val_labels, dim=0)\n",
    "# # val_acc = evaluate_model(mlp, latent_val_tensor, val_labels_tensor, \"Validation\")\n",
    "\n",
    "# # # === Encode Test Set ===\n",
    "# # latent_test, test_labels = [], []\n",
    "# # with torch.no_grad():\n",
    "# #     for X_batch, y_batch in test_loader:\n",
    "# #         latent = autoencoder.encoder(X_batch.float())\n",
    "# #         latent_test.append(latent)\n",
    "# #         test_labels.append(y_batch)\n",
    "# # latent_test_tensor = torch.cat(latent_test, dim=0)\n",
    "# # test_labels_tensor = torch.cat(test_labels, dim=0)\n",
    "# # test_acc = evaluate_model(mlp, latent_test_tensor, test_labels_tensor, \"Test\")\n",
    "\n",
    "# # # === Plot accuracy ===\n",
    "# # plt.figure(figsize=(8, 5))\n",
    "# # plt.bar([\"Train\", \"Validation\", \"Test\"], [train_acc, val_acc, test_acc], color=['blue', 'orange', 'green'])\n",
    "# # plt.title(\"Classification Accuracy Comparison\")\n",
    "# # plt.ylabel(\"Accuracy\")\n",
    "# # plt.ylim(0, 1.0)\n",
    "# # plt.grid(True)\n",
    "# # plt.savefig(\"accuracy_comparison.png\")\n",
    "# # plt.show()"
   ]
  },
  {
   "cell_type": "code",
   "execution_count": null,
   "id": "e47457e8-1a98-4c94-a044-2d9b3994de07",
   "metadata": {},
   "outputs": [],
   "source": [
    "# =========================\n",
    "# 1. Define the MLP Classifier\n",
    "# =========================\n",
    "class MLP_Classifier(nn.Module):\n",
    "    def __init__(self, input_size, num_classes):\n",
    "        super().__init__()\n",
    "        self.fc1 = nn.Linear(input_size, 64)\n",
    "        self.relu1 = nn.ReLU()\n",
    "        self.fc2 = nn.Linear(64, num_classes)\n",
    "\n",
    "    def forward(self, x):\n",
    "        x = self.fc1(x)\n",
    "        x = self.relu1(x)\n",
    "        return self.fc2(x)\n",
    "\n",
    "\n",
    "# =========================\n",
    "# 2. Train MLP Function\n",
    "# =========================\n",
    "def train_mlp(model, train_tensor, train_labels, val_tensor, val_labels, test_tensor, test_labels, epochs=20):\n",
    "    optimizer = optim.Adam(model.parameters(), lr=0.001)\n",
    "    criterion = nn.CrossEntropyLoss()\n",
    "\n",
    "    train_accs, val_accs, test_accs = [], [], []\n",
    "    train_losses = []\n",
    "\n",
    "    for epoch in range(epochs):\n",
    "        model.train()\n",
    "        total_loss, correct, total = 0, 0, 0\n",
    "        for X_batch, y_batch in DataLoader(TensorDataset(train_tensor, train_labels), batch_size=64, shuffle=True):\n",
    "            optimizer.zero_grad()\n",
    "            outputs = model(X_batch)\n",
    "            loss = criterion(outputs, y_batch)\n",
    "            loss.backward()\n",
    "            optimizer.step()\n",
    "\n",
    "            total_loss += loss.item()\n",
    "            correct += (outputs.argmax(1) == y_batch).sum().item()\n",
    "            total += y_batch.size(0)\n",
    "\n",
    "        train_acc = correct / total\n",
    "        train_accs.append(train_acc)\n",
    "        train_losses.append(total_loss / len(train_loader))\n",
    "\n",
    "        # Evaluate on val and test sets\n",
    "        model.eval()\n",
    "        with torch.no_grad():\n",
    "            val_preds = model(val_tensor).argmax(1)\n",
    "            test_preds = model(test_tensor).argmax(1)\n",
    "\n",
    "            val_acc = (val_preds == val_labels).float().mean().item()\n",
    "            test_acc = (test_preds == test_labels).float().mean().item()\n",
    "\n",
    "            val_accs.append(val_acc)\n",
    "            test_accs.append(test_acc)\n",
    "\n",
    "        print(f\"Epoch {epoch+1}/{epochs} => Train Loss: {train_losses[-1]:.4f}, Train Acc: {train_acc:.4f}, Val Acc: {val_acc:.4f}, Test Acc: {test_acc:.4f}\")\n",
    "\n",
    "    return model, train_accs, val_accs, test_accs, train_losses\n"
   ]
  },
  {
   "cell_type": "code",
   "execution_count": null,
   "id": "9f85b016-0c54-4d93-8560-418b9f8f952a",
   "metadata": {},
   "outputs": [],
   "source": [
    "# =========================\n",
    "# 3. Evaluation Function\n",
    "# =========================\n",
    "def evaluate_model(model, features_tensor, labels_tensor, dataset_name):\n",
    "    model.eval()\n",
    "    with torch.no_grad():\n",
    "        outputs = model(features_tensor)\n",
    "        preds = torch.argmax(outputs, dim=1)\n",
    "        report = classification_report(labels_tensor, preds, output_dict=True)\n",
    "        df_report = pd.DataFrame(report).transpose()\n",
    "        df_report.to_excel(f\"{dataset_name}_classification_report.xlsx\")\n",
    "        acc = (preds == labels_tensor).float().mean().item()\n",
    "        print(f\"\\n{dataset_name} Classification Report:\\n\", df_report)\n",
    "        return acc"
   ]
  },
  {
   "cell_type": "code",
   "execution_count": null,
   "id": "6c65a0e7-e45a-446e-832f-0cc6e15b9822",
   "metadata": {},
   "outputs": [],
   "source": [
    "# =========================\n",
    "# 4. Plotting Function\n",
    "# =========================\n",
    "def plot_metrics(train_accs, val_accs, test_accs, train_losses, final_accs):\n",
    "    # Accuracy over epochs\n",
    "    plt.figure(figsize=(10, 5))\n",
    "    plt.plot(train_accs, label='Train Accuracy')\n",
    "    plt.plot(val_accs, label='Validation Accuracy')\n",
    "    plt.plot(test_accs, label='Test Accuracy')\n",
    "    plt.xlabel('Epoch')\n",
    "    plt.ylabel('Accuracy')\n",
    "    plt.title('Accuracy Over Epochs')\n",
    "    plt.legend()\n",
    "    plt.grid(True)\n",
    "    plt.savefig(\"epoch_accuracy_curve.png\")\n",
    "    plt.show()\n",
    "\n",
    "    # Loss over epochs\n",
    "    plt.figure(figsize=(10, 5))\n",
    "    plt.plot(train_losses, label='Train Loss')\n",
    "    plt.xlabel('Epoch')\n",
    "    plt.ylabel('Loss')\n",
    "    plt.title('Training Loss Over Epochs')\n",
    "    plt.grid(True)\n",
    "    plt.savefig(\"epoch_loss_curve.png\")\n",
    "    plt.show()\n",
    "\n",
    "    # Final accuracy bar chart\n",
    "    plt.figure(figsize=(8, 5))\n",
    "    plt.bar([\"Train\", \"Validation\", \"Test\"], final_accs, color=['blue', 'orange', 'green'])\n",
    "    plt.title(\"Final Classification Accuracy Comparison\")\n",
    "    plt.ylabel(\"Accuracy\")\n",
    "    plt.ylim(0, 1.0)\n",
    "    plt.grid(True)\n",
    "    plt.savefig(\"final_accuracy_comparison.png\")\n",
    "    plt.show()\n",
    "\n",
    "\n"
   ]
  },
  {
   "cell_type": "code",
   "execution_count": null,
   "id": "c79af224-e893-45d6-916e-de05872abc5e",
   "metadata": {},
   "outputs": [],
   "source": [
    "# =========================\n",
    "# 5. Run Everything\n",
    "# =========================\n",
    "input_dim = latent_train_tensor.shape[1]\n",
    "num_classes = len(torch.unique(train_labels_tensor))\n",
    "mlp = MLP_Classifier(input_size=input_dim, num_classes=num_classes)\n",
    "\n",
    "mlp, train_accs, val_accs, test_accs, train_losses = train_mlp(\n",
    "    mlp,\n",
    "    latent_train_tensor, train_labels_tensor,\n",
    "    latent_val_tensor, val_labels_tensor,\n",
    "    latent_test_tensor, test_labels_tensor,\n",
    "    epochs=20\n",
    ")\n",
    "\n",
    "# Final Evaluation and Saving Reports\n",
    "train_final_acc = evaluate_model(mlp, latent_train_tensor, train_labels_tensor, \"Train\")\n",
    "val_final_acc   = evaluate_model(mlp, latent_val_tensor, val_labels_tensor, \"Validation\")\n",
    "test_final_acc  = evaluate_model(mlp, latent_test_tensor, test_labels_tensor, \"Test\")\n",
    "\n",
    "# Plotting\n",
    "plot_metrics(train_accs, val_accs, test_accs, train_losses, [train_final_acc, val_final_acc, test_final_acc])\n"
   ]
  },
  {
   "cell_type": "code",
   "execution_count": 35,
   "id": "4c3cc967-2141-4b01-8112-fb5a991322ec",
   "metadata": {},
   "outputs": [
    {
     "ename": "NameError",
     "evalue": "name 'make_predictions' is not defined",
     "output_type": "error",
     "traceback": [
      "\u001b[0;31m---------------------------------------------------------------------------\u001b[0m",
      "\u001b[0;31mNameError\u001b[0m                                 Traceback (most recent call last)",
      "Cell \u001b[0;32mIn[35], line 1\u001b[0m\n\u001b[0;32m----> 1\u001b[0m predict_time, predict_mem_used, y_pred \u001b[38;5;241m=\u001b[39m \u001b[43mmake_predictions\u001b[49m(mlp, test_loader_latent, device)\n\u001b[1;32m      3\u001b[0m report, conf_matrix \u001b[38;5;241m=\u001b[39m make_report(\n\u001b[1;32m      4\u001b[0m     y_test\u001b[38;5;241m=\u001b[39my_test_tensor,\n\u001b[1;32m      5\u001b[0m     y_pred\u001b[38;5;241m=\u001b[39mtorch\u001b[38;5;241m.\u001b[39mtensor(y_pred),\n\u001b[0;32m   (...)\u001b[0m\n\u001b[1;32m     11\u001b[0m     predict_mem_used\u001b[38;5;241m=\u001b[39mpredict_mem_used\n\u001b[1;32m     12\u001b[0m )\n",
      "\u001b[0;31mNameError\u001b[0m: name 'make_predictions' is not defined"
     ]
    }
   ],
   "source": [
    "predict_time, predict_mem_used, y_pred = make_predictions(mlp, test_loader_latent, device)\n",
    "\n",
    "report, conf_matrix = make_report(\n",
    "    y_test=y_test_tensor,\n",
    "    y_pred=torch.tensor(y_pred),\n",
    "    model=mlp,\n",
    "    file_name='MLP_Autoencoder',\n",
    "    train_time=train_time,\n",
    "    train_mem_used=train_mem_used,\n",
    "    predict_time=predict_time,\n",
    "    predict_mem_used=predict_mem_used\n",
    ")\n"
   ]
  },
  {
   "cell_type": "code",
   "execution_count": null,
   "id": "a41226a8-5a98-4bfa-a6ab-e355b3d8a394",
   "metadata": {},
   "outputs": [],
   "source": [
    "# torch.save(mlp.state_dict(), \"mlp_autoencoder_model.pth\")"
   ]
  },
  {
   "cell_type": "code",
   "execution_count": null,
   "id": "c0d5b86d",
   "metadata": {},
   "outputs": [],
   "source": [
    "\n",
    "def make_predictions(model, test_loader, device):\n",
    "    model.eval()  # Set to evaluation mode\n",
    "    start_time = time.time()\n",
    "    mem_usage_before = memory_usage()\n",
    "\n",
    "    y_pred_list = []\n",
    "    with torch.no_grad():\n",
    "        for batch in test_loader:  # Iterate using batch\n",
    "            X_batch, _ = batch  # Correctly unpack batch\n",
    "            # print(f\"Batch Type: {type(X_batch)}\")  # Debugging statement\n",
    "\n",
    "            X_batch = X_batch.to(device)  # Move to device\n",
    "            y_pred = model(X_batch)\n",
    "            y_pred_list.append(y_pred.argmax(dim=1).cpu().numpy())\n",
    "\n",
    "    y_pred = np.concatenate(y_pred_list, axis=0)\n",
    "\n",
    "    end_time = time.time()\n",
    "    mem_usage_after = memory_usage()\n",
    "\n",
    "    predict_time = end_time - start_time\n",
    "    mem_used = mem_usage_after - mem_usage_before\n",
    "\n",
    "    return predict_time, mem_used, y_pred\n"
   ]
  },
  {
   "cell_type": "code",
   "execution_count": null,
   "id": "44d109e2",
   "metadata": {},
   "outputs": [],
   "source": [
    "\n",
    "def make_report(y_test, y_pred, model, file_name, train_time, train_mem_used, predict_time, predict_mem_used):\n",
    "    \n",
    "    try:\n",
    "        # Convert inputs to NumPy arrays if they are tensors\n",
    "        if isinstance(y_test, torch.Tensor):\n",
    "            y_test = y_test.cpu().numpy()\n",
    "        if isinstance(y_pred, torch.Tensor):\n",
    "            y_pred = y_pred.cpu().numpy()\n",
    "\n",
    "        # Classification report & Confusion matrix\n",
    "        report = classification_report(y_test, y_pred, digits=5, output_dict=True)\n",
    "        conf_matrix = confusion_matrix(y_test, y_pred)\n",
    "\n",
    "        # Convert to DataFrame\n",
    "        report_df = pd.DataFrame(report).transpose()\n",
    "        conf_matrix_df = pd.DataFrame(conf_matrix)\n",
    "    \n",
    "        # Create directories\n",
    "        base_directory = 'DL_Model_Reports'\n",
    "        dir_name = 'MLP_pytorch_reports'\n",
    "        output_directory = os.path.join(base_directory, dir_name)\n",
    "        os.makedirs(output_directory, exist_ok=True)\n",
    "\n",
    "        output_file = os.path.join(output_directory, f'{file_name}_report.xlsx')\n",
    "\n",
    "        # Save to Excel\n",
    "        with pd.ExcelWriter(output_file, engine='xlsxwriter') as writer:\n",
    "            report_df.to_excel(writer, sheet_name='Classification Report')\n",
    "            conf_matrix_df.to_excel(writer, sheet_name='Confusion Matrix')\n",
    "\n",
    "            pd.DataFrame({'Training Time': [train_time]}).to_excel(writer, sheet_name='Training Time')\n",
    "            pd.DataFrame({'Training Memory Used': [train_mem_used]}).to_excel(writer, sheet_name='Training Memory Used')\n",
    "            pd.DataFrame({'Prediction Time': [predict_time]}).to_excel(writer, sheet_name='Prediction Time')\n",
    "            pd.DataFrame({'Prediction Memory Used': [predict_mem_used]}).to_excel(writer, sheet_name='Prediction Memory Used')\n",
    "\n",
    "            # Save model architecture\n",
    "            model_summary = [str(model)]\n",
    "        # model_summary.append(str(model))  # Save model details\n",
    "            pd.DataFrame({'Model Summary': model_summary}).to_excel(writer, sheet_name='Model Summary')\n",
    "\n",
    "        print(f\"Report saved successfully: {output_file}\")\n",
    "        return report, conf_matrix\n",
    "    \n",
    "    except Exception as e:\n",
    "        print(f\"An error occurred: {e}\")\n",
    "        return None\n"
   ]
  },
  {
   "cell_type": "code",
   "execution_count": null,
   "id": "d31f366c",
   "metadata": {},
   "outputs": [],
   "source": [
    "# import matplotlib.pyplot as plt\n",
    "\n",
    "# Extract history details\n",
    "train_loss = history['train_loss']\n",
    "val_loss = history['val_loss']\n",
    "train_acc = history['train_acc']\n",
    "val_acc = history['val_acc']\n",
    "\n",
    "# Plot Loss Curve\n",
    "plt.figure(figsize=(10, 4))\n",
    "plt.subplot(1, 2, 1)\n",
    "plt.plot(train_loss, label='Training Loss')\n",
    "plt.plot(val_loss, label='Validation Loss')\n",
    "plt.xlabel('Epochs')\n",
    "plt.ylabel('Loss')\n",
    "plt.title('Loss Curve')\n",
    "plt.legend()\n",
    "\n",
    "# Plot Accuracy Curve\n",
    "plt.subplot(1, 2, 2)\n",
    "plt.plot(train_acc, label='Training Accuracy')\n",
    "plt.plot(val_acc, label='Validation Accuracy')\n",
    "plt.xlabel('Epochs')\n",
    "plt.ylabel('Accuracy')\n",
    "plt.title('Accuracy Curve')\n",
    "plt.legend()\n",
    "\n",
    "plt.show()\n"
   ]
  },
  {
   "cell_type": "code",
   "execution_count": null,
   "id": "f7bc31ec",
   "metadata": {},
   "outputs": [],
   "source": [
    "# Plot loss\n",
    "# plt.plot(history.history['loss'], label='Training Loss')\n",
    "# plt.plot(history.history['val_loss'], label='Validation Loss')\n",
    "# plt.xlabel('Epochs')\n",
    "# plt.ylabel('Loss')\n",
    "# plt.legend()\n",
    "# plt.title('Training vs Validation Loss')\n",
    "# plt.show()\n"
   ]
  },
  {
   "cell_type": "code",
   "execution_count": null,
   "id": "fe1a5497",
   "metadata": {},
   "outputs": [],
   "source": [
    "# Generate the confusion matrix\n",
    "\n",
    "# Convert numerical predictions back to original labels\n",
    "y_test_labels = label_encoder.inverse_transform(y_test_v0)  # Convert y_test to original labels\n",
    "y_pred_labels = label_encoder.inverse_transform(y_pred_test)  # Convert predictions to original labels\n",
    "\n",
    "conf_matrix = confusion_matrix(y_test_labels, y_pred_labels)\n",
    "\n",
    "# Plot the confusion matrix\n",
    "plt.figure(figsize=(10, 7))\n",
    "sns.heatmap(conf_matrix, annot=True, fmt='d', cmap='Blues', xticklabels=label_encoder.classes_, yticklabels=label_encoder.classes_)\n",
    "\n",
    "plt.xlabel('Predicted Labels')\n",
    "plt.ylabel('True Labels')\n",
    "plt.title('Confusion Matrix')\n",
    "plt.xticks(rotation=90)  # Rotate labels if they are long\n",
    "plt.yticks(rotation=0)\n",
    "plt.show()\n"
   ]
  },
  {
   "cell_type": "code",
   "execution_count": null,
   "id": "dec70270",
   "metadata": {},
   "outputs": [],
   "source": []
  },
  {
   "cell_type": "markdown",
   "id": "cd97dc46",
   "metadata": {},
   "source": [
    "## Dataset Creation with MinMax-Random Undersampler-SMOTE "
   ]
  },
  {
   "cell_type": "code",
   "execution_count": null,
   "id": "2e2070c6",
   "metadata": {},
   "outputs": [],
   "source": [
    "# Create three datasets based on the thresholds\n",
    "X_min_mm_77, y_min_mm_77, pipeline_min_mm_77 = create_datasets(X_train_v0, y_train_v0, min_instances, MinMaxScaler())\n",
    "# X_mean_mm_77, y_mean_mm_77, pipeline_mean_mm_77 = create_datasets(X_train_v0, y_train_v0, mean_instances, MinMaxScaler()) \n",
    "# X_median_mm_77, y_median_mm_77, pipeline_median_mm_77 = create_datasets(X_train_v0, y_train_v0, median_instances, MinMaxScaler()) "
   ]
  },
  {
   "cell_type": "code",
   "execution_count": null,
   "id": "5029f16e",
   "metadata": {},
   "outputs": [],
   "source": [
    "# X_min_SS_77.shape, y_min_SS_77.shape, X_mean_SS_77.shape, y_mean_SS_77.shape, X_median_SS_77.shape, y_median_SS_77.shape\n",
    "# X_median_mm_77.shape, y_median_mm_77.shape\n",
    "X_min_mm_77.shape, y_min_mm_77.shape"
   ]
  },
  {
   "cell_type": "code",
   "execution_count": null,
   "id": "dca60745",
   "metadata": {},
   "outputs": [],
   "source": [
    "\n",
    "# Function to visualize class distribution\n",
    "def plot_class_distribution(y, title):\n",
    "    plt.figure(figsize=(10, 5))\n",
    "    sns.barplot(x=pd.Series(y).value_counts().index, y=pd.Series(y).value_counts().values)\n",
    "    plt.title(title)\n",
    "    plt.xlabel(\"Class Label\")\n",
    "    plt.ylabel(\"Number of Instances\")\n",
    "    plt.xticks(rotation=90)\n",
    "    plt.show()\n",
    "\n",
    "# Plot for each dataset\n",
    "# plot_class_distribution(y_min_SS_77, \"Class Distribution (Min Instances)\")\n",
    "plot_class_distribution(y_min_mm_77, \"Class Distribution (Mean Instances)\")\n",
    "# plot_class_distribution(y_median_SS_77, \"Class Distribution (Median Instances)\")\n"
   ]
  },
  {
   "cell_type": "markdown",
   "id": "a8a59bac",
   "metadata": {},
   "source": [
    "## X_test dataset scaling with pipeline scaler"
   ]
  },
  {
   "cell_type": "code",
   "execution_count": null,
   "id": "f8697d1d",
   "metadata": {},
   "outputs": [],
   "source": [
    "X_test_min_mm_77 = pipeline_min_mm_77.named_steps['scale'].transform(X_test_v0)\n",
    "# X_test_mean_mm_77 = pipeline_mean_mm_77.named_steps['scale'].transform(X_test_v0)\n",
    "# X_test_median_mm_77 = pipeline_median_mm_77.named_steps['scale'].transform(X_test_v0)\n",
    "\n",
    "# X_test_min_SS_77.shape, X_test_median_SS_77.shape, X_test_median_SS_77.shape\n",
    "X_test_min_mm_77.shape"
   ]
  },
  {
   "cell_type": "markdown",
   "id": "c0d124e0",
   "metadata": {},
   "source": [
    "## Create Validation Set from min-training set of 20%"
   ]
  },
  {
   "cell_type": "code",
   "execution_count": null,
   "id": "5c0b3768",
   "metadata": {},
   "outputs": [],
   "source": [
    "\n",
    "# Create a validation set (20 of training data)\n",
    "X_train_final, X_val, y_train_final, y_val = train_test_split(\n",
    "    X_min_mm_77, y_min_mm_77, test_size=0.2, random_state=42, stratify=y_min_mm_77)\n",
    "\n",
    "# Check dataset shapes\n",
    "print(f\"Training Data Shape: {X_train_final.shape}, {y_train_final.shape}\")\n",
    "print(f\"Validation Data Shape: {X_val.shape}, {y_val.shape}\")\n",
    "print(f\"Test Data Shape: {X_test_min_mm_77.shape}, {y_test_v0.shape}\")\n"
   ]
  },
  {
   "cell_type": "markdown",
   "id": "6bd0fc0a",
   "metadata": {},
   "source": [
    "## Training and making prediction on resampled dataset"
   ]
  },
  {
   "cell_type": "code",
   "execution_count": null,
   "id": "ad546098",
   "metadata": {},
   "outputs": [],
   "source": [
    "# Training and prediction with min_dataset\n",
    "\n",
    "# Define Hyperparameters\n",
    "EPOCHS = 20\n",
    "# BATCH_SIZE = 64\n",
    "LEARNING_RATE = 0.001\n",
    "\n",
    "# Define Loss Function & Optimizer\n",
    "criterion = torch.nn.CrossEntropyLoss()\n",
    "optimizer = torch.optim.Adam(model.parameters(), lr=LEARNING_RATE)\n",
    "\n",
    "# Move model to GPU/CPU\n",
    "device = torch.device(\"cuda\" if torch.cuda.is_available() else \"cpu\")\n",
    "model.to(device)\n",
    "\n",
    "# Train Model\n",
    "train_time, train_mem_used, trained_model, history = train_model(\n",
    "    model, train_loader, val_loader, criterion, optimizer, EPOCHS, device)\n",
    "\n",
    "print(f\"Training time: {train_time:.2f} seconds, Memory used: {train_mem_used:.2f} MB\")\n",
    "\n",
    "# Make Predictions\n",
    "predict_time, predict_mem_used, y_pred_test = make_predictions(\n",
    "    trained_model, test_loader, device)\n",
    "\n",
    "print(f\"Prediction time: {predict_time:.2f} seconds, Memory used: {predict_mem_used:.2f} MB\")\n",
    "\n",
    "# Extract true labels from test_loader\n",
    "y_true_test = np.concatenate([y_batch.numpy() for _, y_batch in test_loader], axis=0)\n",
    "\n",
    "# Generate Classification Report\n",
    "file_name = \"MLP_model_median_mm_77\"\n",
    "report, confusion_mat = make_report(y_true_test, y_pred_test, trained_model, file_name, \n",
    "                                    train_time, train_mem_used, predict_time, predict_mem_used)\n",
    "\n",
    "print(\"Model evaluation completed!\")\n"
   ]
  },
  {
   "cell_type": "code",
   "execution_count": null,
   "id": "3eaeb84e",
   "metadata": {},
   "outputs": [],
   "source": [
    "\n",
    "# Extract history details\n",
    "train_loss = history['train_loss']\n",
    "val_loss = history['val_loss']\n",
    "train_acc = history['train_acc']\n",
    "val_acc = history['val_acc']\n",
    "\n",
    "# Plot Loss Curve\n",
    "plt.figure(figsize=(10, 4))\n",
    "plt.subplot(1, 2, 1)\n",
    "plt.plot(train_loss, label='Training Loss')\n",
    "plt.plot(val_loss, label='Validation Loss')\n",
    "plt.xlabel('Epochs')\n",
    "plt.ylabel('Loss')\n",
    "plt.title('Loss Curve')\n",
    "plt.legend()\n",
    "\n",
    "# Plot Accuracy Curve\n",
    "plt.subplot(1, 2, 2)\n",
    "plt.plot(train_acc, label='Training Accuracy')\n",
    "plt.plot(val_acc, label='Validation Accuracy')\n",
    "plt.xlabel('Epochs')\n",
    "plt.ylabel('Accuracy')\n",
    "plt.title('Accuracy Curve')\n",
    "plt.legend()\n",
    "\n",
    "plt.show()\n",
    "\n"
   ]
  },
  {
   "cell_type": "code",
   "execution_count": null,
   "id": "d649d966",
   "metadata": {},
   "outputs": [],
   "source": [
    "# Generate the confusion matrix\n",
    "\n",
    "# Convert numerical predictions back to original labels\n",
    "y_test_labels = label_encoder.inverse_transform(y_test_v0)  # Convert y_test to original labels\n",
    "y_pred_labels = label_encoder.inverse_transform(y_pred_test)  # Convert predictions to original labels\n",
    "\n",
    "conf_matrix = confusion_matrix(y_test_labels, y_pred_labels)\n",
    "\n",
    "# Plot the confusion matrix\n",
    "plt.figure(figsize=(10, 7))\n",
    "sns.heatmap(conf_matrix, annot=True, fmt='d', cmap='Blues', xticklabels=label_encoder.classes_, yticklabels=label_encoder.classes_)\n",
    "\n",
    "plt.xlabel('Predicted Labels')\n",
    "plt.ylabel('True Labels')\n",
    "plt.title('Confusion Matrix')\n",
    "plt.xticks(rotation=90)  # Rotate labels if they are long\n",
    "plt.yticks(rotation=0)\n",
    "plt.show()\n"
   ]
  },
  {
   "cell_type": "code",
   "execution_count": null,
   "id": "cfa35e2a",
   "metadata": {},
   "outputs": [],
   "source": []
  }
 ],
 "metadata": {
  "kernelspec": {
   "display_name": "Python (3.10 - DL)",
   "language": "python",
   "name": "deeplearning310"
  },
  "language_info": {
   "codemirror_mode": {
    "name": "ipython",
    "version": 3
   },
   "file_extension": ".py",
   "mimetype": "text/x-python",
   "name": "python",
   "nbconvert_exporter": "python",
   "pygments_lexer": "ipython3",
   "version": "3.10.16"
  }
 },
 "nbformat": 4,
 "nbformat_minor": 5
}
